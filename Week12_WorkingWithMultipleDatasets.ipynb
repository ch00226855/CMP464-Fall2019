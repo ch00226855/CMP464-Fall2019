{
 "cells": [
  {
   "cell_type": "markdown",
   "metadata": {},
   "source": [
    "# Chapter 8: Data Wrangling: Join, Combine, and Reshape\n",
    "\n",
    "In many applications, data may be spread across a number of files or be arranged in a form that is not easy to analyze. This chapter focuses on tools to help combine, join, and rearrange data."
   ]
  },
  {
   "cell_type": "code",
   "execution_count": null,
   "metadata": {},
   "outputs": [],
   "source": [
    "import numpy as np\n",
    "import pandas as pd\n",
    "import matplotlib.pyplot as plt\n",
    "%matplotlib inline"
   ]
  },
  {
   "cell_type": "markdown",
   "metadata": {},
   "source": [
    "## I. Merging Datasets"
   ]
  },
  {
   "cell_type": "markdown",
   "metadata": {},
   "source": [
    "### 1. Default merge operation for data frames"
   ]
  },
  {
   "cell_type": "code",
   "execution_count": null,
   "metadata": {},
   "outputs": [],
   "source": [
    "# Generate two data frames\n",
    "df1 = pd.DataFrame({'key': ['b', 'b', 'a', 'c', 'a', 'a', 'b'],\n",
    "                    'data1': range(7)})\n",
    "df1"
   ]
  },
  {
   "cell_type": "code",
   "execution_count": null,
   "metadata": {},
   "outputs": [],
   "source": [
    "df2 = pd.DataFrame({'key': ['a', 'b', 'd'],\n",
    "                    'data2': range(3)})\n",
    "df2"
   ]
  },
  {
   "cell_type": "markdown",
   "metadata": {},
   "source": [
    "`df1.merge(df2)` merges df1 with df2:"
   ]
  },
  {
   "cell_type": "code",
   "execution_count": null,
   "metadata": {},
   "outputs": [],
   "source": [
    "df1.merge(df2)"
   ]
  },
  {
   "cell_type": "code",
   "execution_count": null,
   "metadata": {
    "scrolled": true
   },
   "outputs": [],
   "source": [
    "# It is the same as df2.merge(df1)\n",
    "df2.merge(df1)"
   ]
  },
  {
   "cell_type": "code",
   "execution_count": null,
   "metadata": {},
   "outputs": [],
   "source": [
    "pd.merge(df2, df1)"
   ]
  },
  {
   "cell_type": "markdown",
   "metadata": {},
   "source": [
    "Q: Can you identify the rule followed by merge?"
   ]
  },
  {
   "cell_type": "code",
   "execution_count": null,
   "metadata": {},
   "outputs": [],
   "source": [
    "df3 = pd.DataFrame({'key': ['a', 'b', 'b'],\n",
    "                    'data2': range(3)})\n",
    "df3"
   ]
  },
  {
   "cell_type": "code",
   "execution_count": null,
   "metadata": {},
   "outputs": [],
   "source": [
    "# Can you predict the resulting data frame?\n",
    "df1.merge(df3)"
   ]
  },
  {
   "cell_type": "markdown",
   "metadata": {},
   "source": [
    "**It is a good practice to specify explicitly which column(s) to join on.**"
   ]
  },
  {
   "cell_type": "code",
   "execution_count": null,
   "metadata": {},
   "outputs": [],
   "source": [
    "pd.merge(df1, df2, on='key')"
   ]
  },
  {
   "cell_type": "code",
   "execution_count": null,
   "metadata": {},
   "outputs": [],
   "source": [
    "df1.merge(df3, on='key')"
   ]
  },
  {
   "cell_type": "markdown",
   "metadata": {},
   "source": [
    "### 2. What if the column to join has different names in the two data frames?"
   ]
  },
  {
   "cell_type": "code",
   "execution_count": null,
   "metadata": {},
   "outputs": [],
   "source": [
    "homework = pd.DataFrame({\n",
    "    'Name': ['Alice', 'Bob', 'Clare'],\n",
    "    'Hw1': [100, 90, 80],\n",
    "    'Hw2': [60, 70, 80]\n",
    "})\n",
    "homework"
   ]
  },
  {
   "cell_type": "code",
   "execution_count": null,
   "metadata": {},
   "outputs": [],
   "source": [
    "exam = pd.DataFrame({\n",
    "    \"Full Name\": ['Alice', 'Bob', 'Clare'],\n",
    "    \"Midterm\": [70, 80, 90],\n",
    "    \"Final\": [85, 65, 75]\n",
    "})\n",
    "exam"
   ]
  },
  {
   "cell_type": "code",
   "execution_count": null,
   "metadata": {},
   "outputs": [],
   "source": [
    "pd.merge(homework, exam, left_on=\"Name\", right_on=\"Full Name\")"
   ]
  },
  {
   "cell_type": "markdown",
   "metadata": {},
   "source": [
    "### 3. What if the column to join has different values?"
   ]
  },
  {
   "cell_type": "code",
   "execution_count": null,
   "metadata": {},
   "outputs": [],
   "source": [
    "homework = pd.DataFrame({\n",
    "    'Name': ['Alice', 'Bob', 'Clare', 'David'],\n",
    "    'Hw1': [100, 90, 80, 70],\n",
    "    'Hw2': [60, 70, 80, 90]\n",
    "})\n",
    "homework"
   ]
  },
  {
   "cell_type": "code",
   "execution_count": null,
   "metadata": {},
   "outputs": [],
   "source": [
    "exam = pd.DataFrame({\n",
    "    \"Full Name\": ['Alice', 'Bob', 'Clare', 'Eli'],\n",
    "    \"Midterm\": [70, 80, 90, 100],\n",
    "    \"Final\": [85, 65, 75, 55]\n",
    "})\n",
    "exam"
   ]
  },
  {
   "cell_type": "code",
   "execution_count": null,
   "metadata": {},
   "outputs": [],
   "source": [
    "pd.merge(homework, exam, left_on=\"Name\", right_on=\"Full Name\")"
   ]
  },
  {
   "cell_type": "markdown",
   "metadata": {},
   "source": [
    "Different join types with `how` argument\n",
    "- inner: Use only the keys combinations observed in both tables\n",
    "- outer: Use all possible keys combinations\n",
    "- left: Use all keys found in the first data frame\n",
    "- right: Use all keys found in the second data frame"
   ]
  },
  {
   "cell_type": "code",
   "execution_count": null,
   "metadata": {},
   "outputs": [],
   "source": [
    "pd.merge(homework, exam, left_on=\"Name\", right_on=\"Full Name\",\n",
    "         how='outer')"
   ]
  },
  {
   "cell_type": "markdown",
   "metadata": {},
   "source": [
    "### 4. What if we want to join on multiple columns?"
   ]
  },
  {
   "cell_type": "code",
   "execution_count": null,
   "metadata": {},
   "outputs": [],
   "source": [
    "homework = pd.DataFrame({\n",
    "    'Semester': ['Fall 2018', 'Fall 2018', 'Fall 2019', 'Fall 2019'],\n",
    "    'Name': ['Alice', 'Bob', 'Clare', 'Alice'],\n",
    "    'Hw1': [50, 90, 80, 70],\n",
    "    'Hw2': [60, 70, 80, 90]\n",
    "})\n",
    "homework"
   ]
  },
  {
   "cell_type": "code",
   "execution_count": null,
   "metadata": {},
   "outputs": [],
   "source": [
    "exam = pd.DataFrame({\n",
    "    'When': ['Fall 2018', 'Fall 2018', 'Fall 2019', 'Fall 2019'],\n",
    "    \"Name\": ['Alice', 'Bob', 'Clare', 'Alice'],\n",
    "    \"Midterm\": [60, 80, 90, 100],\n",
    "    \"Final\": [45, 65, 75, 55]\n",
    "})\n",
    "exam"
   ]
  },
  {
   "cell_type": "code",
   "execution_count": null,
   "metadata": {},
   "outputs": [],
   "source": [
    "pd.merge(homework, exam, on='Name')"
   ]
  },
  {
   "cell_type": "code",
   "execution_count": null,
   "metadata": {},
   "outputs": [],
   "source": [
    "pd.merge(homework, exam, left_on=['Semester', 'Name'],\n",
    "         right_on=['When', 'Name'])"
   ]
  },
  {
   "cell_type": "markdown",
   "metadata": {},
   "source": [
    "### 5. What if there are overlapping columns?"
   ]
  },
  {
   "cell_type": "code",
   "execution_count": null,
   "metadata": {},
   "outputs": [],
   "source": [
    "homework = pd.DataFrame({\n",
    "    'Name': ['Alice', 'Bob', 'Clare', 'David'],\n",
    "    'Hw1': [100, 90, 80, 70],\n",
    "    'Hw2': [60, 70, 80, 90],\n",
    "    'Average': [80, 80, 80, 80]\n",
    "})\n",
    "homework"
   ]
  },
  {
   "cell_type": "code",
   "execution_count": null,
   "metadata": {},
   "outputs": [],
   "source": [
    "exam = pd.DataFrame({\n",
    "    \"Name\": ['Alice', 'Bob', 'Clare', 'Eva'],\n",
    "    \"Midterm\": [60, 80, 90, 100],\n",
    "    \"Final\": [45, 65, 75, 55],\n",
    "    \"Average\": [52.5, 72.5, 82.5, 77.5]\n",
    "})\n",
    "exam"
   ]
  },
  {
   "cell_type": "code",
   "execution_count": null,
   "metadata": {},
   "outputs": [],
   "source": [
    "pd.merge(homework, exam, on='Name', how='outer')"
   ]
  },
  {
   "cell_type": "code",
   "execution_count": null,
   "metadata": {},
   "outputs": [],
   "source": [
    "pd.merge(homework, exam, on='Name', suffixes=('_hw', '_ex'), how='outer')"
   ]
  },
  {
   "cell_type": "markdown",
   "metadata": {},
   "source": [
    "### 6. What if we want to merge on index?"
   ]
  },
  {
   "cell_type": "code",
   "execution_count": null,
   "metadata": {},
   "outputs": [],
   "source": [
    "homework = pd.DataFrame({\n",
    "    'Name': ['Alice', 'Bob', 'Clare', 'David'],\n",
    "    'Hw1': [100, 90, 80, 70],\n",
    "    'Hw2': [60, 70, 80, 90],\n",
    "    'Average': [80, 80, 80, 80]\n",
    "}, index=[111, 222, 333, 444])\n",
    "homework"
   ]
  },
  {
   "cell_type": "code",
   "execution_count": null,
   "metadata": {},
   "outputs": [],
   "source": [
    "exam = pd.DataFrame({\n",
    "    \"Name\": ['Alice', 'Bob', 'Clare', 'Eva'],\n",
    "    \"Midterm\": [60, 80, 90, 100],\n",
    "    \"Final\": [45, 65, 75, 55],\n",
    "    \"Average\": [52.5, 72.5, 82.5, 77.5]\n",
    "})\n",
    "exam = exam.set_index('Name')\n",
    "exam"
   ]
  },
  {
   "cell_type": "code",
   "execution_count": null,
   "metadata": {},
   "outputs": [],
   "source": [
    "pd.merge(homework, exam, left_on='Name', right_index=True)"
   ]
  },
  {
   "cell_type": "markdown",
   "metadata": {},
   "source": [
    "## II. Concatenations"
   ]
  },
  {
   "cell_type": "markdown",
   "metadata": {},
   "source": [
    "### 1. Concatenating NumPy Arrays\n",
    "My personal favorite methods are np.hstack() for horizontal concatenation and np.vstack() for vertical concatenation."
   ]
  },
  {
   "cell_type": "code",
   "execution_count": null,
   "metadata": {},
   "outputs": [],
   "source": [
    "arr1 = np.arange(12).reshape([3, 4])\n",
    "print(arr1)"
   ]
  },
  {
   "cell_type": "code",
   "execution_count": null,
   "metadata": {},
   "outputs": [],
   "source": [
    "arr2 = np.arange(10, 90, 10).reshape([2, 4])\n",
    "print(arr2)"
   ]
  },
  {
   "cell_type": "code",
   "execution_count": null,
   "metadata": {},
   "outputs": [],
   "source": [
    "print(np.vstack([arr1, arr2]))"
   ]
  },
  {
   "cell_type": "code",
   "execution_count": null,
   "metadata": {},
   "outputs": [],
   "source": [
    "arr3 = np.arange(100, 10, -10).reshape([3, 3])\n",
    "print(arr3)"
   ]
  },
  {
   "cell_type": "code",
   "execution_count": null,
   "metadata": {},
   "outputs": [],
   "source": [
    "print(np.hstack([arr1, arr3]))"
   ]
  },
  {
   "cell_type": "markdown",
   "metadata": {},
   "source": [
    "### 2. Concatenating Data Frames"
   ]
  },
  {
   "cell_type": "code",
   "execution_count": null,
   "metadata": {},
   "outputs": [],
   "source": [
    "spring_records = pd.DataFrame({\n",
    "    'Name': ['Alice', 'Bob', 'Clare', 'David'],\n",
    "    'Homework': [60, 70, 80, 90],\n",
    "    'Exam': [65, 75, 85, 95]\n",
    "})\n",
    "spring_records"
   ]
  },
  {
   "cell_type": "code",
   "execution_count": null,
   "metadata": {},
   "outputs": [],
   "source": [
    "fall_records = pd.DataFrame({\n",
    "    'Name': ['Alice', 'Eva', 'Fred', 'Gabriel'],\n",
    "    'Homework': [66, 77, 88, 99],\n",
    "    'Exam': [69, 79, 89, 99]\n",
    "})\n",
    "fall_records"
   ]
  },
  {
   "cell_type": "code",
   "execution_count": null,
   "metadata": {},
   "outputs": [],
   "source": [
    "pd.concat([spring_records, fall_records])"
   ]
  },
  {
   "cell_type": "code",
   "execution_count": null,
   "metadata": {},
   "outputs": [],
   "source": [
    "pd.concat([spring_records, fall_records], axis=1)"
   ]
  },
  {
   "cell_type": "markdown",
   "metadata": {},
   "source": [
    "## Example: Analyzing Airport Operations\n",
    "\n",
    "Download `airports.csv`, `airport-frequencies.csv`, `countries.csv`, `regions.csv` from [OurAirports.com](https://ourairports.com/data/)"
   ]
  },
  {
   "cell_type": "markdown",
   "metadata": {},
   "source": [
    "#### 1. Select data with multiple conditions"
   ]
  },
  {
   "cell_type": "code",
   "execution_count": null,
   "metadata": {},
   "outputs": [],
   "source": [
    "# Find the region code for New York from region data frame.\n",
    "\n"
   ]
  },
  {
   "cell_type": "code",
   "execution_count": null,
   "metadata": {},
   "outputs": [],
   "source": [
    "# Extract all large airports in New York state from airoprts data frame\n",
    "\n"
   ]
  },
  {
   "cell_type": "code",
   "execution_count": null,
   "metadata": {},
   "outputs": [],
   "source": [
    "# Extract the name, identification code, and municipality of \n",
    "# all airports with ISO region \"US-NY\" and type \"large_airport\"\n",
    "\n"
   ]
  },
  {
   "cell_type": "markdown",
   "metadata": {},
   "source": [
    "#### 2. Sorting"
   ]
  },
  {
   "cell_type": "code",
   "execution_count": null,
   "metadata": {},
   "outputs": [],
   "source": [
    "# From airport_freq, extract all communication frequencies for KJFK,\n",
    "# with frequencies sorted in ascending order\n",
    "\n"
   ]
  },
  {
   "cell_type": "code",
   "execution_count": null,
   "metadata": {},
   "outputs": [],
   "source": [
    "# From airport_freq, extract all communication frequencies for KJFK,\n",
    "# with frequencies sorted in descending order\n",
    "\n"
   ]
  },
  {
   "cell_type": "markdown",
   "metadata": {},
   "source": [
    "#### 3. Filter on a list of values"
   ]
  },
  {
   "cell_type": "code",
   "execution_count": null,
   "metadata": {},
   "outputs": [],
   "source": [
    "# Extract all communication frequencies used for a large airport in New York state\n",
    "\n"
   ]
  },
  {
   "cell_type": "markdown",
   "metadata": {},
   "source": [
    "#### 4. Grouping"
   ]
  },
  {
   "cell_type": "code",
   "execution_count": null,
   "metadata": {},
   "outputs": [],
   "source": [
    "# Calculate the number of large airports for each country\n",
    "\n"
   ]
  },
  {
   "cell_type": "code",
   "execution_count": null,
   "metadata": {},
   "outputs": [],
   "source": [
    "# Find the top 5 countries having the largest amount of large airports\n",
    "\n"
   ]
  },
  {
   "cell_type": "markdown",
   "metadata": {},
   "source": [
    "#### 5. Merging"
   ]
  },
  {
   "cell_type": "code",
   "execution_count": null,
   "metadata": {},
   "outputs": [],
   "source": [
    "# Merge the above result with countries data frame to find the name of the countries\n",
    "\n"
   ]
  },
  {
   "cell_type": "code",
   "execution_count": null,
   "metadata": {},
   "outputs": [],
   "source": [
    "# Append full country name and region name to airports.\n",
    "\n"
   ]
  },
  {
   "cell_type": "code",
   "execution_count": null,
   "metadata": {},
   "outputs": [],
   "source": []
  }
 ],
 "metadata": {
  "kernelspec": {
   "display_name": "Python 3",
   "language": "python",
   "name": "python3"
  },
  "language_info": {
   "codemirror_mode": {
    "name": "ipython",
    "version": 3
   },
   "file_extension": ".py",
   "mimetype": "text/x-python",
   "name": "python",
   "nbconvert_exporter": "python",
   "pygments_lexer": "ipython3",
   "version": "3.7.0"
  }
 },
 "nbformat": 4,
 "nbformat_minor": 2
}
