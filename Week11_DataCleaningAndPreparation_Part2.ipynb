{
 "cells": [
  {
   "cell_type": "markdown",
   "metadata": {},
   "source": [
    "## III. String Manipulation\n"
   ]
  },
  {
   "cell_type": "markdown",
   "metadata": {},
   "source": [
    "### 1. String Methods"
   ]
  },
  {
   "cell_type": "code",
   "execution_count": 3,
   "metadata": {},
   "outputs": [
    {
     "data": {
      "text/plain": [
       "['a', ' b', ' c', ' d']"
      ]
     },
     "execution_count": 3,
     "metadata": {},
     "output_type": "execute_result"
    }
   ],
   "source": [
    "# Use split() to separate a string\n",
    "string = \"a, b, c, d\"\n",
    "string.split(',')"
   ]
  },
  {
   "cell_type": "code",
   "execution_count": 5,
   "metadata": {},
   "outputs": [
    {
     "name": "stdout",
     "output_type": "stream",
     "text": [
      "['a', ' b', ' c', ' d']\n",
      "['a', 'b', 'c', 'd']\n"
     ]
    }
   ],
   "source": [
    "# split() is often combined with strip to trim whitespace\n",
    "string_pieces = string.split(',')\n",
    "print(string_pieces)\n",
    "string_pieces_cleaned = [x.strip() for x in string_pieces]\n",
    "print(string_pieces_cleaned)"
   ]
  },
  {
   "cell_type": "code",
   "execution_count": 6,
   "metadata": {},
   "outputs": [
    {
     "name": "stdout",
     "output_type": "stream",
     "text": [
      "I like pizza.\n"
     ]
    }
   ],
   "source": [
    "# Use + to concatenate strings\n",
    "string = \"I\" + \" \" + \"like\" + \" \" + \"pizza.\"\n",
    "print(string)"
   ]
  },
  {
   "cell_type": "code",
   "execution_count": 7,
   "metadata": {},
   "outputs": [
    {
     "name": "stdout",
     "output_type": "stream",
     "text": [
      "Alex, Brian, Charlie, Douglas\n"
     ]
    }
   ],
   "source": [
    "# Use join() to concatenate a list of strings with delimiter\n",
    "names = [\"Alex\", \"Brian\", \"Charlie\", \"Douglas\"]\n",
    "string = \", \".join(names)\n",
    "print(string)"
   ]
  },
  {
   "cell_type": "code",
   "execution_count": 17,
   "metadata": {},
   "outputs": [
    {
     "name": "stdout",
     "output_type": "stream",
     "text": [
      "True\n",
      "3\n",
      "3\n",
      "-1\n"
     ]
    }
   ],
   "source": [
    "# Use index() and find() to detect a substring\n",
    "alphabet = \"ABCDEFGHIJKLMNOPQRSTUVWXYZ\"\n",
    "print(\"DEF\" in alphabet)\n",
    "print(alphabet.find(\"DEF\"))\n",
    "print(alphabet.index(\"DEF\"))\n",
    "print(alphabet.find(\"abc\"))"
   ]
  },
  {
   "cell_type": "code",
   "execution_count": 19,
   "metadata": {},
   "outputs": [
    {
     "name": "stdout",
     "output_type": "stream",
     "text": [
      "1\n",
      "3\n"
     ]
    }
   ],
   "source": [
    "# count() returns the number of occurences of a substring\n",
    "print(alphabet.count(\"DEF\"))\n",
    "print(string.count(\" \"))"
   ]
  },
  {
   "cell_type": "code",
   "execution_count": 22,
   "metadata": {},
   "outputs": [
    {
     "name": "stdout",
     "output_type": "stream",
     "text": [
      "Alexander, Brian, Charlie, Douglas\n"
     ]
    }
   ],
   "source": [
    "# replace() is used to replace a substring for another\n",
    "print(string.replace(\"Alex\", \"Alexander\"))"
   ]
  },
  {
   "cell_type": "code",
   "execution_count": 23,
   "metadata": {},
   "outputs": [
    {
     "name": "stdout",
     "output_type": "stream",
     "text": [
      "AlexBrianCharlieDouglas\n"
     ]
    }
   ],
   "source": [
    "# replace() can also be used to delete a substring:\n",
    "print(string.replace(\", \", \"\"))"
   ]
  },
  {
   "cell_type": "markdown",
   "metadata": {},
   "source": [
    "### 2. Regular Expressions\n",
    "**Regular expressions** provide a flexible way to search or match complex string patterns in text.Python's built-in `re` module is responsible for applying regular expressions to string. Let's have a look at some examples."
   ]
  },
  {
   "cell_type": "code",
   "execution_count": 28,
   "metadata": {},
   "outputs": [
    {
     "name": "stdout",
     "output_type": "stream",
     "text": [
      "a  b    c    d \t e  \n",
      "  f   g\n",
      "['a', 'b', 'c', 'd', 'e', 'f', 'g']\n"
     ]
    }
   ],
   "source": [
    "import re\n",
    "# Example 1: Split a string with a variable number of whitespace\n",
    "string = \"a  b    c    d \\t e  \\n  f   g\"\n",
    "print(string)\n",
    "pieces = re.split('\\s+', string)\n",
    "print(pieces)"
   ]
  },
  {
   "cell_type": "markdown",
   "metadata": {},
   "source": [
    "Useful `re` functions:\n",
    "- findall()\n",
    "- search()\n",
    "- split()\n",
    "- sub()"
   ]
  },
  {
   "cell_type": "code",
   "execution_count": 31,
   "metadata": {},
   "outputs": [
    {
     "data": {
      "text/plain": [
       "['  ', '    ', '    ', ' \\t ', '  \\n  ', '   ']"
      ]
     },
     "execution_count": 31,
     "metadata": {},
     "output_type": "execute_result"
    }
   ],
   "source": [
    "re.findall('\\s+', string)"
   ]
  },
  {
   "cell_type": "code",
   "execution_count": 44,
   "metadata": {},
   "outputs": [
    {
     "name": "stdout",
     "output_type": "stream",
     "text": [
      "Substring:   \n",
      "Location: (1, 3)\n",
      "Start: 1\n",
      "End: 3\n"
     ]
    }
   ],
   "source": [
    "res = re.search('\\s+', string)\n",
    "print(\"Substring:\", res.group())\n",
    "print(\"Location:\", res.span())\n",
    "print(\"Start:\", res.start())\n",
    "print(\"End:\", res.end())"
   ]
  },
  {
   "cell_type": "code",
   "execution_count": 42,
   "metadata": {},
   "outputs": [
    {
     "data": {
      "text/plain": [
       "'a, b, c, d, e, f, g'"
      ]
     },
     "execution_count": 42,
     "metadata": {},
     "output_type": "execute_result"
    }
   ],
   "source": [
    "re.sub('\\s+', ', ', string)"
   ]
  },
  {
   "cell_type": "markdown",
   "metadata": {},
   "source": [
    "**Construct a regular expression:**\n",
    "\n",
    "[Reference](https://medium.com/factory-mind/regex-tutorial-a-simple-cheatsheet-by-examples-649dc1c3f285)\n",
    "\n",
    "1. Anchors\n",
    "    - ^The: **Starts with** The\n",
    "    - day\\$: **Ends with** day\n",
    "2. Quantifiers:\n",
    "    - ab\\s\\*: ab followed by **zero or more** whitespaces\n",
    "    - ab\\s+: ab followed by **one or more** whitespaces\n",
    "    - ab\\s?: ab followed by **zero or one** whitespaces\n",
    "    - ab{2}: ab followed by **exactly 2** whitespaces\n",
    "    - ab{2, 5}: ab followed by **2 - 5** whitespaces\n",
    "    - ab{2, }: ab followed by **2 or more** whitespaces\n",
    "3. OR operator\n",
    "    - a(b|c): a followed by **b or c**\n",
    "    - a[bc]: same as above\n",
    "4. Character classes\n",
    "    - \\d: a single digit\n",
    "    - \\w: a single letter or underscore\n",
    "    - \\s: a single whitespace\n",
    "    - .: any character\n",
    "    - \\D: a single non-digit\n",
    "    - \\W: a single character that is not a letter or underscore\n",
    "    - \\S: a single non-space\n",
    "5. Bracket expression\n",
    "    - [a-c]: a or b or c\n",
    "    - [0-7]: a digit between 0 and 7\n",
    "    - [^a-c]: a letter not a, b, or c\n",
    "6. Greedy match\n",
    "    - <*+{}>: any character included in <>, **expanding as far as possible**\n",
    "7. Capturing:\n",
    "    - a(bc): **capture** the group with value bc"
   ]
  },
  {
   "cell_type": "code",
   "execution_count": 94,
   "metadata": {},
   "outputs": [
    {
     "ename": "AttributeError",
     "evalue": "'NoneType' object has no attribute 'groups'",
     "output_type": "error",
     "traceback": [
      "\u001b[0;31m---------------------------------------------------------------------------\u001b[0m",
      "\u001b[0;31mAttributeError\u001b[0m                            Traceback (most recent call last)",
      "\u001b[0;32m<ipython-input-94-51df40e056aa>\u001b[0m in \u001b[0;36m<module>\u001b[0;34m()\u001b[0m\n\u001b[1;32m      8\u001b[0m \u001b[0mregex\u001b[0m \u001b[0;34m=\u001b[0m \u001b[0mre\u001b[0m\u001b[0;34m.\u001b[0m\u001b[0mcompile\u001b[0m\u001b[0;34m(\u001b[0m\u001b[0mpat\u001b[0m\u001b[0;34m)\u001b[0m\u001b[0;34m\u001b[0m\u001b[0m\n\u001b[1;32m      9\u001b[0m \u001b[0mmatch\u001b[0m \u001b[0;34m=\u001b[0m \u001b[0mregex\u001b[0m\u001b[0;34m.\u001b[0m\u001b[0mmatch\u001b[0m\u001b[0;34m(\u001b[0m\u001b[0mstring\u001b[0m\u001b[0;34m)\u001b[0m\u001b[0;34m\u001b[0m\u001b[0m\n\u001b[0;32m---> 10\u001b[0;31m \u001b[0mmatch\u001b[0m\u001b[0;34m.\u001b[0m\u001b[0mgroups\u001b[0m\u001b[0;34m(\u001b[0m\u001b[0;34m)\u001b[0m\u001b[0;34m\u001b[0m\u001b[0m\n\u001b[0m",
      "\u001b[0;31mAttributeError\u001b[0m: 'NoneType' object has no attribute 'groups'"
     ]
    }
   ],
   "source": [
    "# Example 2: Remove additional spaces\n",
    "\n"
   ]
  },
  {
   "cell_type": "code",
   "execution_count": null,
   "metadata": {},
   "outputs": [],
   "source": [
    "# Example: Extract Social Security Number\n",
    "\n"
   ]
  },
  {
   "cell_type": "code",
   "execution_count": null,
   "metadata": {},
   "outputs": [],
   "source": [
    "# Example 4: "
   ]
  }
 ],
 "metadata": {
  "kernelspec": {
   "display_name": "Python 3",
   "language": "python",
   "name": "python3"
  },
  "language_info": {
   "codemirror_mode": {
    "name": "ipython",
    "version": 3
   },
   "file_extension": ".py",
   "mimetype": "text/x-python",
   "name": "python",
   "nbconvert_exporter": "python",
   "pygments_lexer": "ipython3",
   "version": "3.7.0"
  }
 },
 "nbformat": 4,
 "nbformat_minor": 2
}
