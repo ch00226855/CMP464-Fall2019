{
 "cells": [
  {
   "cell_type": "markdown",
   "metadata": {},
   "source": [
    "## I. Load Data using Web API\n",
    "\n",
    "Many websites (Twitter, Facebook, Kaggle, Reddit, ...) offer Application Programming Interfaces (APIs) which provide access to data on their web server. Today we will use Twitter API to download and analyze some tweets.\n",
    "\n",
    "**Get started with Twitter API:**\n",
    "\n",
    "1. Sign up on Twitter.\n",
    "2. Apply for [developer access](https://developer.twitter.com/en/apps).\n",
    "3. Create a Twitter app. (You can use lehman website for the placeholder on the urls)"
   ]
  },
  {
   "cell_type": "code",
   "execution_count": 1,
   "metadata": {},
   "outputs": [
    {
     "name": "stdout",
     "output_type": "stream",
     "text": [
      "Collecting tweepy\n",
      "  Downloading https://files.pythonhosted.org/packages/36/1b/2bd38043d22ade352fc3d3902cf30ce0e2f4bf285be3b304a2782a767aec/tweepy-3.8.0-py2.py3-none-any.whl\n",
      "Requirement already satisfied: requests>=2.11.1 in c:\\users\\ch002\\anaconda3\\envs\\tensorflow\\lib\\site-packages (from tweepy) (2.18.4)\n",
      "Collecting requests-oauthlib>=0.7.0\n",
      "  Downloading https://files.pythonhosted.org/packages/c2/e2/9fd03d55ffb70fe51f587f20bcf407a6927eb121de86928b34d162f0b1ac/requests_oauthlib-1.2.0-py2.py3-none-any.whl\n",
      "Requirement already satisfied: PySocks>=1.5.7 in c:\\users\\ch002\\anaconda3\\envs\\tensorflow\\lib\\site-packages (from tweepy) (1.6.8)\n",
      "Requirement already satisfied: six>=1.10.0 in c:\\users\\ch002\\anaconda3\\envs\\tensorflow\\lib\\site-packages (from tweepy) (1.11.0)\n",
      "Requirement already satisfied: chardet<3.1.0,>=3.0.2 in c:\\users\\ch002\\anaconda3\\envs\\tensorflow\\lib\\site-packages (from requests>=2.11.1->tweepy) (3.0.4)\n",
      "Requirement already satisfied: idna<2.7,>=2.5 in c:\\users\\ch002\\anaconda3\\envs\\tensorflow\\lib\\site-packages (from requests>=2.11.1->tweepy) (2.6)\n",
      "Requirement already satisfied: urllib3<1.23,>=1.21.1 in c:\\users\\ch002\\anaconda3\\envs\\tensorflow\\lib\\site-packages (from requests>=2.11.1->tweepy) (1.22)\n",
      "Requirement already satisfied: certifi>=2017.4.17 in c:\\users\\ch002\\anaconda3\\envs\\tensorflow\\lib\\site-packages (from requests>=2.11.1->tweepy) (2019.3.9)\n",
      "Collecting oauthlib>=3.0.0\n",
      "  Downloading https://files.pythonhosted.org/packages/05/57/ce2e7a8fa7c0afb54a0581b14a65b56e62b5759dbc98e80627142b8a3704/oauthlib-3.1.0-py2.py3-none-any.whl (147kB)\n",
      "Installing collected packages: oauthlib, requests-oauthlib, tweepy\n",
      "Successfully installed oauthlib-3.1.0 requests-oauthlib-1.2.0 tweepy-3.8.0\n"
     ]
    }
   ],
   "source": [
    "# Install tweepy package for Python\n",
    "!pip install tweepy"
   ]
  },
  {
   "cell_type": "code",
   "execution_count": 2,
   "metadata": {},
   "outputs": [],
   "source": [
    "import tweepy"
   ]
  },
  {
   "cell_type": "markdown",
   "metadata": {},
   "source": [
    "To learn more about the tweepy API, visit the [offical documentation](http://docs.tweepy.org/en/latest/getting_started.html)"
   ]
  },
  {
   "cell_type": "code",
   "execution_count": null,
   "metadata": {},
   "outputs": [],
   "source": [
    "# Copy and paste tokens from \"Keys and Access Tokens\" tab\n"
   ]
  },
  {
   "cell_type": "code",
   "execution_count": 7,
   "metadata": {},
   "outputs": [],
   "source": [
    "consumer_key = \"1lbjB5z4RR4lh92pKQP4R1rwk\"\n",
    "consumer_secret = \"WsLeHFw7Z6azT9bdKOGrMkkDHXFhOpXVJXHyjZHXRUIvOtRB6B\"\n",
    "access_token = \"1189580463914061825-ZgJUr2miaSLfCgNPIvmHJOmoT2roqD\"\n",
    "access_token_secret = \"0Hgqf5R8M5OTJEPwCZxduslOxeSmPE42zXXLCqmpYs06M\""
   ]
  },
  {
   "cell_type": "code",
   "execution_count": 8,
   "metadata": {},
   "outputs": [],
   "source": [
    "# User authentication\n",
    "auth = tweepy.OAuthHandler(consumer_key, consumer_secret)\n",
    "auth.set_access_token(access_token, access_token_secret)"
   ]
  },
  {
   "cell_type": "code",
   "execution_count": 9,
   "metadata": {},
   "outputs": [],
   "source": [
    "# Create API object to access twitter data\n",
    "api = tweepy.API(auth)"
   ]
  },
  {
   "cell_type": "markdown",
   "metadata": {},
   "source": [
    "## Task 1: Retrieve tweets from timeline"
   ]
  },
  {
   "cell_type": "code",
   "execution_count": 10,
   "metadata": {},
   "outputs": [],
   "source": [
    "# My timeline\n",
    "public_tweets = api.home_timeline(tweet_mode = \"extended\")"
   ]
  },
  {
   "cell_type": "code",
   "execution_count": 13,
   "metadata": {},
   "outputs": [
    {
     "data": {
      "text/plain": [
       "Status(_api=<tweepy.api.API object at 0x000002A16CFB5470>, _json={'created_at': 'Wed Oct 30 18:44:32 +0000 2019', 'id': 1189614078534311936, 'id_str': '1189614078534311936', 'full_text': '....Your current Governor, John Bel Edwards, has done a poor job with economic development (last in nation) and auto insurance (highest in nation) wants to raise your taxes BIG - vote for Eddie starting Saturday!', 'truncated': False, 'display_text_range': [0, 212], 'entities': {'hashtags': [], 'symbols': [], 'user_mentions': [], 'urls': []}, 'source': '<a href=\"http://twitter.com/download/iphone\" rel=\"nofollow\">Twitter for iPhone</a>', 'in_reply_to_status_id': 1189614076743376897, 'in_reply_to_status_id_str': '1189614076743376897', 'in_reply_to_user_id': 25073877, 'in_reply_to_user_id_str': '25073877', 'in_reply_to_screen_name': 'realDonaldTrump', 'user': {'id': 25073877, 'id_str': '25073877', 'name': 'Donald J. Trump', 'screen_name': 'realDonaldTrump', 'location': 'Washington, DC', 'description': '45th President of the United States of America🇺🇸', 'url': 'https://t.co/OMxB0x7xC5', 'entities': {'url': {'urls': [{'url': 'https://t.co/OMxB0x7xC5', 'expanded_url': 'http://www.Instagram.com/realDonaldTrump', 'display_url': 'Instagram.com/realDonaldTrump', 'indices': [0, 23]}]}, 'description': {'urls': []}}, 'protected': False, 'followers_count': 66387102, 'friends_count': 47, 'listed_count': 110415, 'created_at': 'Wed Mar 18 13:46:38 +0000 2009', 'favourites_count': 6, 'utc_offset': None, 'time_zone': None, 'geo_enabled': True, 'verified': True, 'statuses_count': 45652, 'lang': None, 'contributors_enabled': False, 'is_translator': False, 'is_translation_enabled': True, 'profile_background_color': '6D5C18', 'profile_background_image_url': 'http://abs.twimg.com/images/themes/theme1/bg.png', 'profile_background_image_url_https': 'https://abs.twimg.com/images/themes/theme1/bg.png', 'profile_background_tile': True, 'profile_image_url': 'http://pbs.twimg.com/profile_images/874276197357596672/kUuht00m_normal.jpg', 'profile_image_url_https': 'https://pbs.twimg.com/profile_images/874276197357596672/kUuht00m_normal.jpg', 'profile_banner_url': 'https://pbs.twimg.com/profile_banners/25073877/1560920145', 'profile_link_color': '1B95E0', 'profile_sidebar_border_color': 'BDDCAD', 'profile_sidebar_fill_color': 'C5CEC0', 'profile_text_color': '333333', 'profile_use_background_image': True, 'has_extended_profile': False, 'default_profile': False, 'default_profile_image': False, 'can_media_tag': False, 'followed_by': False, 'following': True, 'follow_request_sent': False, 'notifications': False, 'translator_type': 'regular'}, 'geo': None, 'coordinates': None, 'place': None, 'contributors': None, 'is_quote_status': False, 'retweet_count': 3378, 'favorite_count': 11338, 'favorited': False, 'retweeted': False, 'lang': 'en'}, created_at=datetime.datetime(2019, 10, 30, 18, 44, 32), id=1189614078534311936, id_str='1189614078534311936', full_text='....Your current Governor, John Bel Edwards, has done a poor job with economic development (last in nation) and auto insurance (highest in nation) wants to raise your taxes BIG - vote for Eddie starting Saturday!', truncated=False, display_text_range=[0, 212], entities={'hashtags': [], 'symbols': [], 'user_mentions': [], 'urls': []}, source='Twitter for iPhone', source_url='http://twitter.com/download/iphone', in_reply_to_status_id=1189614076743376897, in_reply_to_status_id_str='1189614076743376897', in_reply_to_user_id=25073877, in_reply_to_user_id_str='25073877', in_reply_to_screen_name='realDonaldTrump', author=User(_api=<tweepy.api.API object at 0x000002A16CFB5470>, _json={'id': 25073877, 'id_str': '25073877', 'name': 'Donald J. Trump', 'screen_name': 'realDonaldTrump', 'location': 'Washington, DC', 'description': '45th President of the United States of America🇺🇸', 'url': 'https://t.co/OMxB0x7xC5', 'entities': {'url': {'urls': [{'url': 'https://t.co/OMxB0x7xC5', 'expanded_url': 'http://www.Instagram.com/realDonaldTrump', 'display_url': 'Instagram.com/realDonaldTrump', 'indices': [0, 23]}]}, 'description': {'urls': []}}, 'protected': False, 'followers_count': 66387102, 'friends_count': 47, 'listed_count': 110415, 'created_at': 'Wed Mar 18 13:46:38 +0000 2009', 'favourites_count': 6, 'utc_offset': None, 'time_zone': None, 'geo_enabled': True, 'verified': True, 'statuses_count': 45652, 'lang': None, 'contributors_enabled': False, 'is_translator': False, 'is_translation_enabled': True, 'profile_background_color': '6D5C18', 'profile_background_image_url': 'http://abs.twimg.com/images/themes/theme1/bg.png', 'profile_background_image_url_https': 'https://abs.twimg.com/images/themes/theme1/bg.png', 'profile_background_tile': True, 'profile_image_url': 'http://pbs.twimg.com/profile_images/874276197357596672/kUuht00m_normal.jpg', 'profile_image_url_https': 'https://pbs.twimg.com/profile_images/874276197357596672/kUuht00m_normal.jpg', 'profile_banner_url': 'https://pbs.twimg.com/profile_banners/25073877/1560920145', 'profile_link_color': '1B95E0', 'profile_sidebar_border_color': 'BDDCAD', 'profile_sidebar_fill_color': 'C5CEC0', 'profile_text_color': '333333', 'profile_use_background_image': True, 'has_extended_profile': False, 'default_profile': False, 'default_profile_image': False, 'can_media_tag': False, 'followed_by': False, 'following': True, 'follow_request_sent': False, 'notifications': False, 'translator_type': 'regular'}, id=25073877, id_str='25073877', name='Donald J. Trump', screen_name='realDonaldTrump', location='Washington, DC', description='45th President of the United States of America🇺🇸', url='https://t.co/OMxB0x7xC5', entities={'url': {'urls': [{'url': 'https://t.co/OMxB0x7xC5', 'expanded_url': 'http://www.Instagram.com/realDonaldTrump', 'display_url': 'Instagram.com/realDonaldTrump', 'indices': [0, 23]}]}, 'description': {'urls': []}}, protected=False, followers_count=66387102, friends_count=47, listed_count=110415, created_at=datetime.datetime(2009, 3, 18, 13, 46, 38), favourites_count=6, utc_offset=None, time_zone=None, geo_enabled=True, verified=True, statuses_count=45652, lang=None, contributors_enabled=False, is_translator=False, is_translation_enabled=True, profile_background_color='6D5C18', profile_background_image_url='http://abs.twimg.com/images/themes/theme1/bg.png', profile_background_image_url_https='https://abs.twimg.com/images/themes/theme1/bg.png', profile_background_tile=True, profile_image_url='http://pbs.twimg.com/profile_images/874276197357596672/kUuht00m_normal.jpg', profile_image_url_https='https://pbs.twimg.com/profile_images/874276197357596672/kUuht00m_normal.jpg', profile_banner_url='https://pbs.twimg.com/profile_banners/25073877/1560920145', profile_link_color='1B95E0', profile_sidebar_border_color='BDDCAD', profile_sidebar_fill_color='C5CEC0', profile_text_color='333333', profile_use_background_image=True, has_extended_profile=False, default_profile=False, default_profile_image=False, can_media_tag=False, followed_by=False, following=True, follow_request_sent=False, notifications=False, translator_type='regular'), user=User(_api=<tweepy.api.API object at 0x000002A16CFB5470>, _json={'id': 25073877, 'id_str': '25073877', 'name': 'Donald J. Trump', 'screen_name': 'realDonaldTrump', 'location': 'Washington, DC', 'description': '45th President of the United States of America🇺🇸', 'url': 'https://t.co/OMxB0x7xC5', 'entities': {'url': {'urls': [{'url': 'https://t.co/OMxB0x7xC5', 'expanded_url': 'http://www.Instagram.com/realDonaldTrump', 'display_url': 'Instagram.com/realDonaldTrump', 'indices': [0, 23]}]}, 'description': {'urls': []}}, 'protected': False, 'followers_count': 66387102, 'friends_count': 47, 'listed_count': 110415, 'created_at': 'Wed Mar 18 13:46:38 +0000 2009', 'favourites_count': 6, 'utc_offset': None, 'time_zone': None, 'geo_enabled': True, 'verified': True, 'statuses_count': 45652, 'lang': None, 'contributors_enabled': False, 'is_translator': False, 'is_translation_enabled': True, 'profile_background_color': '6D5C18', 'profile_background_image_url': 'http://abs.twimg.com/images/themes/theme1/bg.png', 'profile_background_image_url_https': 'https://abs.twimg.com/images/themes/theme1/bg.png', 'profile_background_tile': True, 'profile_image_url': 'http://pbs.twimg.com/profile_images/874276197357596672/kUuht00m_normal.jpg', 'profile_image_url_https': 'https://pbs.twimg.com/profile_images/874276197357596672/kUuht00m_normal.jpg', 'profile_banner_url': 'https://pbs.twimg.com/profile_banners/25073877/1560920145', 'profile_link_color': '1B95E0', 'profile_sidebar_border_color': 'BDDCAD', 'profile_sidebar_fill_color': 'C5CEC0', 'profile_text_color': '333333', 'profile_use_background_image': True, 'has_extended_profile': False, 'default_profile': False, 'default_profile_image': False, 'can_media_tag': False, 'followed_by': False, 'following': True, 'follow_request_sent': False, 'notifications': False, 'translator_type': 'regular'}, id=25073877, id_str='25073877', name='Donald J. Trump', screen_name='realDonaldTrump', location='Washington, DC', description='45th President of the United States of America🇺🇸', url='https://t.co/OMxB0x7xC5', entities={'url': {'urls': [{'url': 'https://t.co/OMxB0x7xC5', 'expanded_url': 'http://www.Instagram.com/realDonaldTrump', 'display_url': 'Instagram.com/realDonaldTrump', 'indices': [0, 23]}]}, 'description': {'urls': []}}, protected=False, followers_count=66387102, friends_count=47, listed_count=110415, created_at=datetime.datetime(2009, 3, 18, 13, 46, 38), favourites_count=6, utc_offset=None, time_zone=None, geo_enabled=True, verified=True, statuses_count=45652, lang=None, contributors_enabled=False, is_translator=False, is_translation_enabled=True, profile_background_color='6D5C18', profile_background_image_url='http://abs.twimg.com/images/themes/theme1/bg.png', profile_background_image_url_https='https://abs.twimg.com/images/themes/theme1/bg.png', profile_background_tile=True, profile_image_url='http://pbs.twimg.com/profile_images/874276197357596672/kUuht00m_normal.jpg', profile_image_url_https='https://pbs.twimg.com/profile_images/874276197357596672/kUuht00m_normal.jpg', profile_banner_url='https://pbs.twimg.com/profile_banners/25073877/1560920145', profile_link_color='1B95E0', profile_sidebar_border_color='BDDCAD', profile_sidebar_fill_color='C5CEC0', profile_text_color='333333', profile_use_background_image=True, has_extended_profile=False, default_profile=False, default_profile_image=False, can_media_tag=False, followed_by=False, following=True, follow_request_sent=False, notifications=False, translator_type='regular'), geo=None, coordinates=None, place=None, contributors=None, is_quote_status=False, retweet_count=3378, favorite_count=11338, favorited=False, retweeted=False, lang='en')"
      ]
     },
     "execution_count": 13,
     "metadata": {},
     "output_type": "execute_result"
    }
   ],
   "source": [
    "# Look into one tweet data\n",
    "tweet = public_tweets[5]\n",
    "tweet"
   ]
  },
  {
   "cell_type": "code",
   "execution_count": 14,
   "metadata": {},
   "outputs": [
    {
     "data": {
      "text/plain": [
       "{'created_at': 'Wed Oct 30 18:44:32 +0000 2019',\n",
       " 'id': 1189614078534311936,\n",
       " 'id_str': '1189614078534311936',\n",
       " 'full_text': '....Your current Governor, John Bel Edwards, has done a poor job with economic development (last in nation) and auto insurance (highest in nation) wants to raise your taxes BIG - vote for Eddie starting Saturday!',\n",
       " 'truncated': False,\n",
       " 'display_text_range': [0, 212],\n",
       " 'entities': {'hashtags': [], 'symbols': [], 'user_mentions': [], 'urls': []},\n",
       " 'source': '<a href=\"http://twitter.com/download/iphone\" rel=\"nofollow\">Twitter for iPhone</a>',\n",
       " 'in_reply_to_status_id': 1189614076743376897,\n",
       " 'in_reply_to_status_id_str': '1189614076743376897',\n",
       " 'in_reply_to_user_id': 25073877,\n",
       " 'in_reply_to_user_id_str': '25073877',\n",
       " 'in_reply_to_screen_name': 'realDonaldTrump',\n",
       " 'user': {'id': 25073877,\n",
       "  'id_str': '25073877',\n",
       "  'name': 'Donald J. Trump',\n",
       "  'screen_name': 'realDonaldTrump',\n",
       "  'location': 'Washington, DC',\n",
       "  'description': '45th President of the United States of America🇺🇸',\n",
       "  'url': 'https://t.co/OMxB0x7xC5',\n",
       "  'entities': {'url': {'urls': [{'url': 'https://t.co/OMxB0x7xC5',\n",
       "      'expanded_url': 'http://www.Instagram.com/realDonaldTrump',\n",
       "      'display_url': 'Instagram.com/realDonaldTrump',\n",
       "      'indices': [0, 23]}]},\n",
       "   'description': {'urls': []}},\n",
       "  'protected': False,\n",
       "  'followers_count': 66387102,\n",
       "  'friends_count': 47,\n",
       "  'listed_count': 110415,\n",
       "  'created_at': 'Wed Mar 18 13:46:38 +0000 2009',\n",
       "  'favourites_count': 6,\n",
       "  'utc_offset': None,\n",
       "  'time_zone': None,\n",
       "  'geo_enabled': True,\n",
       "  'verified': True,\n",
       "  'statuses_count': 45652,\n",
       "  'lang': None,\n",
       "  'contributors_enabled': False,\n",
       "  'is_translator': False,\n",
       "  'is_translation_enabled': True,\n",
       "  'profile_background_color': '6D5C18',\n",
       "  'profile_background_image_url': 'http://abs.twimg.com/images/themes/theme1/bg.png',\n",
       "  'profile_background_image_url_https': 'https://abs.twimg.com/images/themes/theme1/bg.png',\n",
       "  'profile_background_tile': True,\n",
       "  'profile_image_url': 'http://pbs.twimg.com/profile_images/874276197357596672/kUuht00m_normal.jpg',\n",
       "  'profile_image_url_https': 'https://pbs.twimg.com/profile_images/874276197357596672/kUuht00m_normal.jpg',\n",
       "  'profile_banner_url': 'https://pbs.twimg.com/profile_banners/25073877/1560920145',\n",
       "  'profile_link_color': '1B95E0',\n",
       "  'profile_sidebar_border_color': 'BDDCAD',\n",
       "  'profile_sidebar_fill_color': 'C5CEC0',\n",
       "  'profile_text_color': '333333',\n",
       "  'profile_use_background_image': True,\n",
       "  'has_extended_profile': False,\n",
       "  'default_profile': False,\n",
       "  'default_profile_image': False,\n",
       "  'can_media_tag': False,\n",
       "  'followed_by': False,\n",
       "  'following': True,\n",
       "  'follow_request_sent': False,\n",
       "  'notifications': False,\n",
       "  'translator_type': 'regular'},\n",
       " 'geo': None,\n",
       " 'coordinates': None,\n",
       " 'place': None,\n",
       " 'contributors': None,\n",
       " 'is_quote_status': False,\n",
       " 'retweet_count': 3378,\n",
       " 'favorite_count': 11338,\n",
       " 'favorited': False,\n",
       " 'retweeted': False,\n",
       " 'lang': 'en'}"
      ]
     },
     "execution_count": 14,
     "metadata": {},
     "output_type": "execute_result"
    }
   ],
   "source": [
    "# the _json attribute contains info of the tweet\n",
    "tweet._json"
   ]
  },
  {
   "cell_type": "code",
   "execution_count": 17,
   "metadata": {},
   "outputs": [
    {
     "data": {
      "text/plain": [
       "'Donald J. Trump'"
      ]
     },
     "execution_count": 17,
     "metadata": {},
     "output_type": "execute_result"
    }
   ],
   "source": [
    "# Use the _json attribute to infer some information\n",
    "obj = tweet._json\n",
    "# obj['created_at']\n",
    "obj['user']['name']"
   ]
  },
  {
   "cell_type": "code",
   "execution_count": 18,
   "metadata": {
    "scrolled": true
   },
   "outputs": [
    {
     "name": "stdout",
     "output_type": "stream",
     "text": [
      "....Your current Governor, John Bel Edwards, has done a poor job with economic development (last in nation) and auto insurance (highest in nation) wants to raise your taxes BIG - vote for Eddie starting Saturday!\n",
      "Donald J. Trump\n",
      "2019-10-30 18:44:32\n",
      "Washington, DC\n"
     ]
    }
   ],
   "source": [
    "# Find specific info\n",
    "print(tweet.full_text)\n",
    "print(tweet.author.name)\n",
    "print(tweet.created_at)\n",
    "print(tweet.author.location)"
   ]
  },
  {
   "cell_type": "code",
   "execution_count": 19,
   "metadata": {},
   "outputs": [],
   "source": [
    "# Use api.home_timeline without setting tweet_mode=\"extended\" may result in truncated messages.\n",
    "tweets2 = api.home_timeline()"
   ]
  },
  {
   "cell_type": "code",
   "execution_count": 20,
   "metadata": {},
   "outputs": [
    {
     "name": "stdout",
     "output_type": "stream",
     "text": [
      "--------------------------------------------------------------------------------\n",
      "Donald J. Trump\n",
      "We will be having a big rally for Governor @MattBevin on Monday night in Kentucky. Get your tickets today! https://t.co/uoPhCLGHpH\n",
      "--------------------------------------------------------------------------------\n",
      "Real Madrid C.F.⚽\n",
      "🏃‍♂️👐🔥 @thibautcourtois \n",
      "#RMLiga | #HalaMadrid https://t.co/9EK9kdjpRt\n",
      "--------------------------------------------------------------------------------\n",
      "Real Madrid C.F.⚽\n",
      "📺 DIRECTO BERNABÉU 🏟\n",
      "¡Calentamiento previo al encuentro 🆚 @CDLeganes!\n",
      "#RMTV | #HalaMadrid   https://t.co/WJunuc7wlX\n",
      "--------------------------------------------------------------------------------\n",
      "LehmanCMP464\n",
      "First tweet!\n",
      "--------------------------------------------------------------------------------\n",
      "Real Madrid C.F.⚽\n",
      "🏟👋 ¡La llegada del equipo al Bernabéu! Ya falta menos para el saque inicial 🆚 @CDLeganes... \n",
      "#RMLiga | #HalaMadrid https://t.co/rjfbc249VI\n",
      "--------------------------------------------------------------------------------\n",
      "Real Madrid C.F.⚽\n",
      "📋✅ ¡Este es nuestro once inicial 🆚 @CDLeganes! \n",
      "#RMLiga | #HalaMadrid https://t.co/iaFywe7AmZ\n",
      "--------------------------------------------------------------------------------\n",
      "Donald J. Trump\n",
      "....Your current Governor, John Bel Edwards, has done a poor job with economic development (last in nation) and aut… https://t.co/sQlJb3774r\n",
      "--------------------------------------------------------------------------------\n",
      "Donald J. Trump\n",
      "Early voting in Louisiana for a man who will be a Great Governor, @EddieRispone, on Saturday, November 2nd. He will… https://t.co/SXqQVWV4Is\n",
      "--------------------------------------------------------------------------------\n",
      "Donald J. Trump\n",
      "AMERICAN HERO! https://t.co/XCCa2sGfsZ\n",
      "--------------------------------------------------------------------------------\n",
      "Real Madrid C.F.⚽\n",
      "👕✅ ¡Nuestro vestuario está listo! \n",
      "#PreparationIsEverything | 🔵 @NIVEAMEN_ES https://t.co/TTPFKp1Mah\n"
     ]
    }
   ],
   "source": [
    "for idx in range(10):\n",
    "    print('-' * 80)\n",
    "    tweet = tweets2[idx]\n",
    "    print(tweet.author.name)\n",
    "    print(tweet.text)"
   ]
  },
  {
   "cell_type": "markdown",
   "metadata": {},
   "source": [
    "## Task 2: Retrieve Tweets from Another User"
   ]
  },
  {
   "cell_type": "code",
   "execution_count": 21,
   "metadata": {},
   "outputs": [],
   "source": [
    "name = \"nytimes\"\n",
    "tweetCount = 20\n",
    "results = api.user_timeline(id=name, count=tweetCount, tweet_mode = \"extended\")"
   ]
  },
  {
   "cell_type": "code",
   "execution_count": 22,
   "metadata": {},
   "outputs": [
    {
     "name": "stdout",
     "output_type": "stream",
     "text": [
      "--------------------------------------------------------------------------------\n",
      "RT @TheWeekly: To win over skeptical conservative voters, Donald Trump had to assure them he would appoint strict constructionist judges. #…\n",
      "--------------------------------------------------------------------------------\n",
      "Georgetown University announced on Tuesday that it would raise about $400,000 a year to benefit the descendants of the 272 enslaved people who were sold to help keep the college afloat nearly 2 centuries ago, officials said https://t.co/HRQ6D9I7Pb\n",
      "--------------------------------------------------------------------------------\n",
      "In Opinion\n",
      "\n",
      "Scott Aaronson writes, “Assuming Google has achieved quantum supremacy, what exactly has it proved — and is it something anyone doubted in the first place?” https://t.co/lENiUbPjUB\n",
      "--------------------------------------------------------------------------------\n",
      "“There is barely any escape here, only a visit to a neighboring reality. This is a show about the rich and the powerful, about vanity and greed and dishonesty, about, in short, social conditions in America circa 2019,\" Michelle Dean writes of \"Succession\" https://t.co/JFKToJ1wQ0\n",
      "--------------------------------------------------------------------------------\n",
      "RT @NYTmag: Please join us for a day of #1619project conversations featuring historians, journalists and policymakers, as we discuss how th…\n",
      "--------------------------------------------------------------------------------\n",
      "South African police clad in riot gear forcibly broke up a group of refugees who had occupied a square in central Cape Town for 3 weeks, pleading for help in leaving a country plagued by anti-immigrant violence https://t.co/zKzy81YQJ1\n",
      "--------------------------------------------------------------------------------\n",
      "RT @readercenter: We asked Maggie Haberman to take a proof photo for her @reddit_AMA (happening this Thursday, 10/31, 12 p.m. ET in r/polit…\n",
      "--------------------------------------------------------------------------------\n",
      "Firefighters and survivors of the Grenfell Tower fire in London reacted angrily to an investigation into the disaster for focusing first on the shortcomings of the emergency services’ response to the 2017 blaze, not on the dangerous conditions that fed it https://t.co/95THjeU2Jy\n",
      "--------------------------------------------------------------------------------\n",
      "Poisoned, run over and shot on sight, Lebanon’s national animal, the striped hyena, finds itself threatened by frightened humans and dated myths https://t.co/BPktiEqhDK\n",
      "--------------------------------------------------------------------------------\n",
      "RT @juliarebeccaj: Broadcasters are bringing back the tradition of playing the national anthem on TV stations daily (typically before dawn)…\n",
      "--------------------------------------------------------------------------------\n",
      "2 men pleaded guilty in U.S. federal court in California to charges of computer hacking and an extortion conspiracy on Wednesday, capping a legal saga that ensnared tech companies in data breach scandals https://t.co/wDzmNLezby\n",
      "--------------------------------------------------------------------------------\n",
      "Breaking News: The U.S. Federal Reserve cut interest rates for the 3rd time this year, reducing rates by another quarter point as the economy continues to cool https://t.co/d3aXOCY0gE\n",
      "--------------------------------------------------------------------------------\n",
      "Boeing’s chief executive, Dennis Muilenburg, is facing a second day of questions from the U.S. Congress. Follow along for live updates: https://t.co/FqnwDJ57VB\n",
      "--------------------------------------------------------------------------------\n",
      "“What makes ‘Parasite’ the movie of the year,” writes our film critic @AOScott, “Is the way it succeeds in being at once fantastical and true to life, intensely metaphorical and devastatingly concrete.” https://t.co/Pm5SCQIQrX\n",
      "--------------------------------------------------------------------------------\n",
      "For the #1619Project, readers shared their personal stories about their enslaved ancestors. “My family descends from the beginnings of British colonialism, when some of the first enslaved people were brought from Africa.” https://t.co/jKbn4FDqek\n",
      "--------------------------------------------------------------------------------\n",
      "Jordan has recalled its ambassador to Israel for consultations and detained an Israeli citizen who it says crossed the border illegally amid a sharpening dispute over Israel’s detention of 2 Jordanian citizens https://t.co/EB0FsVO3PQ\n",
      "--------------------------------------------------------------------------------\n",
      "Breaking News: A fugitive financier accused of helping loot a Malaysian fund agreed to give up claims to nearly $1 billion in luxury apartments, yachts, jets and artwork that U.S. prosecutors say were bought with stolen money https://t.co/tXTnuMm8xB\n",
      "--------------------------------------------------------------------------------\n",
      "A small plane crashed into an apartment complex in DeKalb County, Georgia, on Wednesday morning, according to the FAA. 2 people were on the plane and at least one is dead, a captain told a local news outlet https://t.co/xhQOOJoh2u\n",
      "--------------------------------------------------------------------------------\n",
      "A tradition can be many things — for some, it's food. For others, it's faith. For many, family. Farah Al Qasimi and Liana Aghajanian drove from Hamtramck, Michigan to Canterbury, New Hampshire, to see what makes a tradition uniquely American. https://t.co/H1GO9xyIr4\n",
      "--------------------------------------------------------------------------------\n",
      "2 witnesses, both advisers to Kurt Volker, the U.S. special envoy to Ukraine, are expected to provide House impeachment investigators with more details about the unorthodox ways in which Ukraine policy was shaped at the White House https://t.co/YT3lgvOALN\n"
     ]
    }
   ],
   "source": [
    "for tweet in results:\n",
    "    print('-' * 80)\n",
    "    print(tweet.full_text)"
   ]
  },
  {
   "cell_type": "markdown",
   "metadata": {},
   "source": [
    "## Task 3: Search for Tweets"
   ]
  },
  {
   "cell_type": "code",
   "execution_count": 29,
   "metadata": {},
   "outputs": [],
   "source": [
    "search_words = \"wildfire -filter:retweets\"\n",
    "date_since = \"2019-10-01\"\n",
    "cursor = tweepy.Cursor(api.search,\n",
    "                       q=search_words,\n",
    "                       lang=\"en\",\n",
    "                       since=date_since,\n",
    "                       tweet_mode = \"extended\")"
   ]
  },
  {
   "cell_type": "code",
   "execution_count": 30,
   "metadata": {},
   "outputs": [
    {
     "name": "stdout",
     "output_type": "stream",
     "text": [
      "--------------------------------------------------------------------------------\n",
      "hollywoodphotog:⚠️The latest on #wildfire updates, #evacuation centers, power shutoffs\n",
      "and road closures. \n",
      "#statewide #california\n",
      "\n",
      "https://t.co/Jfl7zODioz Twitter https://t.co/Lnr3NvgqQ0)\n",
      "EMS Daily\n",
      "Worldwide\n",
      "--------------------------------------------------------------------------------\n",
      "“After Hurricane Katrina and Superstorm Sandy, both Congress and the FCC took a hard look at widespread outages,\" says @FreePressLeo. \"[T]he FCC punted and put its faith in a voluntary regime devised by the industry.” https://t.co/hxI5Ao9REb\n",
      "Dana Floberg\n",
      "Washington, DC\n",
      "--------------------------------------------------------------------------------\n",
      "Goats help save Reagan library from destruction as California wildfire threatens\n",
      "\n",
      "Flames from the Easy Fire were within a few feet of the Reagan library. Goats, which graze on grass around the property, helped prevent their spread.\n",
      "\n",
      "https://t.co/4VLT7JNfWK https://t.co/yFdnA9sPRz\n",
      "Newsnet\n",
      "Arizona City, AZ\n",
      "--------------------------------------------------------------------------------\n",
      "These fires all over California are major...Thoughts are with the victims and evacuees. ♥️ And especially with the brave Firefighters who are enduring some of the most challenging conditions in wildfire history! Thank you to all volunteers helping get ppl and animals to safety! https://t.co/CZwnFLxtaG\n",
      "Dana DeLorenzo\n",
      "los angeles\n",
      "--------------------------------------------------------------------------------\n",
      "New wildfire breaks out in wind-whipped Southern California https://t.co/cqCuko0rOz https://t.co/liBJjDcNPP\n",
      "MyCityNews.ca\n",
      "Toronto - Canada\n",
      "--------------------------------------------------------------------------------\n",
      "Goats help save Reagan library from destruction as California wildfire threatens https://t.co/7eVEoXVS4T https://t.co/Kk5y6ZYZIl\n",
      "RAY BAEZ\n",
      "Queens, NY\n",
      "--------------------------------------------------------------------------------\n",
      "Want to choose a scary Halloween costume this year but can't decide if I should go as Wildfire or Rising Sea Levels.\n",
      "Jeremy Gillam\n",
      "Los Angeles, CA\n",
      "--------------------------------------------------------------------------------\n",
      "Silicon Valley Leaders Sit Down With Wildfire At Investment Meeting After Being Impressed By Its Rapid Expansion https://t.co/DhqfDlTjY0\n",
      "Andrew Hoberek\n",
      "\n",
      "--------------------------------------------------------------------------------\n",
      "Fast-moving wildfire north of L.A. forces evacuation of Reagan Library, thousands of homes https://t.co/tbFPuIvkjG\n",
      "Sheri Falk\n",
      "Birmingham, AL\n",
      "--------------------------------------------------------------------------------\n",
      "The Reagan Library and its priceless history threatened by California’s Easy Fire - The Washington Post https://t.co/OGca2OTjCK\n",
      "Nance 🦋🌊🦋\n",
      "North Carolina, USA\n"
     ]
    }
   ],
   "source": [
    "tweets = cursor.items(10)\n",
    "for tweet in tweets:\n",
    "    print('-' * 80)\n",
    "    print(tweet.full_text)\n",
    "    print(tweet.author.name)\n",
    "    print(tweet.author.location)"
   ]
  },
  {
   "cell_type": "code",
   "execution_count": 31,
   "metadata": {},
   "outputs": [
    {
     "data": {
      "text/html": [
       "<div>\n",
       "<style scoped>\n",
       "    .dataframe tbody tr th:only-of-type {\n",
       "        vertical-align: middle;\n",
       "    }\n",
       "\n",
       "    .dataframe tbody tr th {\n",
       "        vertical-align: top;\n",
       "    }\n",
       "\n",
       "    .dataframe thead th {\n",
       "        text-align: right;\n",
       "    }\n",
       "</style>\n",
       "<table border=\"1\" class=\"dataframe\">\n",
       "  <thead>\n",
       "    <tr style=\"text-align: right;\">\n",
       "      <th></th>\n",
       "      <th>Name</th>\n",
       "      <th>Location</th>\n",
       "      <th>Text</th>\n",
       "    </tr>\n",
       "  </thead>\n",
       "  <tbody>\n",
       "  </tbody>\n",
       "</table>\n",
       "</div>"
      ],
      "text/plain": [
       "Empty DataFrame\n",
       "Columns: [Name, Location, Text]\n",
       "Index: []"
      ]
     },
     "execution_count": 31,
     "metadata": {},
     "output_type": "execute_result"
    }
   ],
   "source": [
    "# Create a Pandas DataFrame to store tweets, authors, and locations\n",
    "import pandas as pd\n",
    "\n",
    "# Create an empty data frame\n",
    "tweets_df = pd.DataFrame(columns=['Name', 'Location', 'Text'])\n",
    "tweets_df"
   ]
  },
  {
   "cell_type": "code",
   "execution_count": 32,
   "metadata": {
    "scrolled": false
   },
   "outputs": [
    {
     "data": {
      "text/html": [
       "<div>\n",
       "<style scoped>\n",
       "    .dataframe tbody tr th:only-of-type {\n",
       "        vertical-align: middle;\n",
       "    }\n",
       "\n",
       "    .dataframe tbody tr th {\n",
       "        vertical-align: top;\n",
       "    }\n",
       "\n",
       "    .dataframe thead th {\n",
       "        text-align: right;\n",
       "    }\n",
       "</style>\n",
       "<table border=\"1\" class=\"dataframe\">\n",
       "  <thead>\n",
       "    <tr style=\"text-align: right;\">\n",
       "      <th></th>\n",
       "      <th>Name</th>\n",
       "      <th>Location</th>\n",
       "      <th>Text</th>\n",
       "    </tr>\n",
       "  </thead>\n",
       "  <tbody>\n",
       "    <tr>\n",
       "      <th>0</th>\n",
       "      <td>The Progressive Mind</td>\n",
       "      <td>ProgressiveLand</td>\n",
       "      <td>Goats help save Reagan library from destructio...</td>\n",
       "    </tr>\n",
       "    <tr>\n",
       "      <th>1</th>\n",
       "      <td>Joy Hui Lin</td>\n",
       "      <td>Los Angeles, CA</td>\n",
       "      <td>I literally asked a dating app guy, \"How's wil...</td>\n",
       "    </tr>\n",
       "    <tr>\n",
       "      <th>2</th>\n",
       "      <td>Anyone but Trump 2020 🏳️‍🌈</td>\n",
       "      <td>Tuscaloosa, AL</td>\n",
       "      <td>Fast-moving wildfire north of L.A. forces evac...</td>\n",
       "    </tr>\n",
       "    <tr>\n",
       "      <th>3</th>\n",
       "      <td>CJ</td>\n",
       "      <td></td>\n",
       "      <td>Fast-moving wildfire north of L.A. forces evac...</td>\n",
       "    </tr>\n",
       "    <tr>\n",
       "      <th>4</th>\n",
       "      <td>Mistress Alexandra Wildfire 🔥</td>\n",
       "      <td>London, England</td>\n",
       "      <td>Watch my ass while I give my slave a good poun...</td>\n",
       "    </tr>\n",
       "    <tr>\n",
       "      <th>5</th>\n",
       "      <td>Chris Shaffer</td>\n",
       "      <td>New York</td>\n",
       "      <td>Silicon Valley Leaders Sit Down With Wildfire ...</td>\n",
       "    </tr>\n",
       "    <tr>\n",
       "      <th>6</th>\n",
       "      <td>tensoba10</td>\n",
       "      <td>Hinter den sieben meeren Japan</td>\n",
       "      <td>New Wind-Driven Wildfire Erupts in Southern Ca...</td>\n",
       "    </tr>\n",
       "    <tr>\n",
       "      <th>7</th>\n",
       "      <td>Paul Stromberg</td>\n",
       "      <td>Chicago</td>\n",
       "      <td>@AudacityofGoats California's secret wildfire ...</td>\n",
       "    </tr>\n",
       "    <tr>\n",
       "      <th>8</th>\n",
       "      <td>Allan Johnson</td>\n",
       "      <td>Minneapolis, MN</td>\n",
       "      <td>Fast-moving fire encroaches on Reagan Library ...</td>\n",
       "    </tr>\n",
       "    <tr>\n",
       "      <th>9</th>\n",
       "      <td>Tangee Lingard</td>\n",
       "      <td></td>\n",
       "      <td>@realDonaldTrump @GreggJarrett There's a serio...</td>\n",
       "    </tr>\n",
       "  </tbody>\n",
       "</table>\n",
       "</div>"
      ],
      "text/plain": [
       "                            Name                        Location  \\\n",
       "0           The Progressive Mind                 ProgressiveLand   \n",
       "1                    Joy Hui Lin                 Los Angeles, CA   \n",
       "2     Anyone but Trump 2020 🏳️‍🌈                  Tuscaloosa, AL   \n",
       "3                             CJ                                   \n",
       "4  Mistress Alexandra Wildfire 🔥                 London, England   \n",
       "5                  Chris Shaffer                        New York   \n",
       "6                      tensoba10  Hinter den sieben meeren Japan   \n",
       "7                 Paul Stromberg                         Chicago   \n",
       "8                  Allan Johnson                Minneapolis, MN    \n",
       "9                 Tangee Lingard                                   \n",
       "\n",
       "                                                Text  \n",
       "0  Goats help save Reagan library from destructio...  \n",
       "1  I literally asked a dating app guy, \"How's wil...  \n",
       "2  Fast-moving wildfire north of L.A. forces evac...  \n",
       "3  Fast-moving wildfire north of L.A. forces evac...  \n",
       "4  Watch my ass while I give my slave a good poun...  \n",
       "5  Silicon Valley Leaders Sit Down With Wildfire ...  \n",
       "6  New Wind-Driven Wildfire Erupts in Southern Ca...  \n",
       "7  @AudacityofGoats California's secret wildfire ...  \n",
       "8  Fast-moving fire encroaches on Reagan Library ...  \n",
       "9  @realDonaldTrump @GreggJarrett There's a serio...  "
      ]
     },
     "execution_count": 32,
     "metadata": {},
     "output_type": "execute_result"
    }
   ],
   "source": [
    "# Append tweets data to the data frame\n",
    "tweets = cursor.items(10)\n",
    "idx = 0\n",
    "for tweet in tweets:\n",
    "    tweets_df.loc[idx, :] = [tweet.author.name,\n",
    "                               tweet.author.location,\n",
    "                               tweet.full_text]\n",
    "    idx += 1\n",
    "                               \n",
    "tweets_df"
   ]
  },
  {
   "cell_type": "markdown",
   "metadata": {},
   "source": [
    "# II. Binary File Formats"
   ]
  },
  {
   "cell_type": "markdown",
   "metadata": {},
   "source": [
    "## 1. pickle\n",
    "The `pickle` module implements binary protocols for serializing and de-serializing a Python object structure. Only Python can properly read and write pickle files"
   ]
  },
  {
   "cell_type": "code",
   "execution_count": 33,
   "metadata": {},
   "outputs": [
    {
     "data": {
      "text/html": [
       "<div>\n",
       "<style scoped>\n",
       "    .dataframe tbody tr th:only-of-type {\n",
       "        vertical-align: middle;\n",
       "    }\n",
       "\n",
       "    .dataframe tbody tr th {\n",
       "        vertical-align: top;\n",
       "    }\n",
       "\n",
       "    .dataframe thead th {\n",
       "        text-align: right;\n",
       "    }\n",
       "</style>\n",
       "<table border=\"1\" class=\"dataframe\">\n",
       "  <thead>\n",
       "    <tr style=\"text-align: right;\">\n",
       "      <th></th>\n",
       "      <th>Midterm</th>\n",
       "      <th>Project</th>\n",
       "      <th>Final</th>\n",
       "      <th>LetterGrade</th>\n",
       "    </tr>\n",
       "  </thead>\n",
       "  <tbody>\n",
       "    <tr>\n",
       "      <th>Alex</th>\n",
       "      <td>100</td>\n",
       "      <td>80</td>\n",
       "      <td>95</td>\n",
       "      <td>A</td>\n",
       "    </tr>\n",
       "    <tr>\n",
       "      <th>Bob</th>\n",
       "      <td>55</td>\n",
       "      <td>60</td>\n",
       "      <td>45</td>\n",
       "      <td>F</td>\n",
       "    </tr>\n",
       "    <tr>\n",
       "      <th>Chris</th>\n",
       "      <td>70</td>\n",
       "      <td>75</td>\n",
       "      <td>90</td>\n",
       "      <td>A</td>\n",
       "    </tr>\n",
       "    <tr>\n",
       "      <th>Doug</th>\n",
       "      <td>75</td>\n",
       "      <td>70</td>\n",
       "      <td>60</td>\n",
       "      <td>D</td>\n",
       "    </tr>\n",
       "    <tr>\n",
       "      <th>Eva</th>\n",
       "      <td>60</td>\n",
       "      <td>73</td>\n",
       "      <td>75</td>\n",
       "      <td>C</td>\n",
       "    </tr>\n",
       "    <tr>\n",
       "      <th>Frank</th>\n",
       "      <td>72</td>\n",
       "      <td>63</td>\n",
       "      <td>-1</td>\n",
       "      <td>NA</td>\n",
       "    </tr>\n",
       "  </tbody>\n",
       "</table>\n",
       "</div>"
      ],
      "text/plain": [
       "      Midterm Project Final LetterGrade\n",
       "Alex      100      80    95           A\n",
       "Bob        55      60    45           F\n",
       "Chris      70      75    90           A\n",
       "Doug       75      70    60           D\n",
       "Eva        60      73    75           C\n",
       "Frank      72      63    -1          NA"
      ]
     },
     "execution_count": 33,
     "metadata": {},
     "output_type": "execute_result"
    }
   ],
   "source": [
    "# Let's create a data frame first\n",
    "import numpy as np\n",
    "import pandas as pd\n",
    "\n",
    "values = np.array([\n",
    "    [100, 80, 95, 'A'],\n",
    "    [55, 60, 45, 'F'],\n",
    "    [70, 75, 90, 'A'],\n",
    "    [75, 70, 60, 'D'],\n",
    "    [60, 73, 75, 'C'],\n",
    "    [72, 63, -1, 'NA']\n",
    "])\n",
    "df = pd.DataFrame(values,\n",
    "                   columns=['Midterm', 'Project', 'Final', 'LetterGrade'],\n",
    "                   index=['Alex', 'Bob', 'Chris', 'Doug', 'Eva', \"Frank\"])\n",
    "df"
   ]
  },
  {
   "cell_type": "code",
   "execution_count": 34,
   "metadata": {},
   "outputs": [],
   "source": [
    "# Save as a .pickle file\n",
    "df.to_pickle(\"Data/temp/data.pickle\")"
   ]
  },
  {
   "cell_type": "code",
   "execution_count": 35,
   "metadata": {},
   "outputs": [
    {
     "data": {
      "text/html": [
       "<div>\n",
       "<style scoped>\n",
       "    .dataframe tbody tr th:only-of-type {\n",
       "        vertical-align: middle;\n",
       "    }\n",
       "\n",
       "    .dataframe tbody tr th {\n",
       "        vertical-align: top;\n",
       "    }\n",
       "\n",
       "    .dataframe thead th {\n",
       "        text-align: right;\n",
       "    }\n",
       "</style>\n",
       "<table border=\"1\" class=\"dataframe\">\n",
       "  <thead>\n",
       "    <tr style=\"text-align: right;\">\n",
       "      <th></th>\n",
       "      <th>Midterm</th>\n",
       "      <th>Project</th>\n",
       "      <th>Final</th>\n",
       "      <th>LetterGrade</th>\n",
       "    </tr>\n",
       "  </thead>\n",
       "  <tbody>\n",
       "    <tr>\n",
       "      <th>Alex</th>\n",
       "      <td>100</td>\n",
       "      <td>80</td>\n",
       "      <td>95</td>\n",
       "      <td>A</td>\n",
       "    </tr>\n",
       "    <tr>\n",
       "      <th>Bob</th>\n",
       "      <td>55</td>\n",
       "      <td>60</td>\n",
       "      <td>45</td>\n",
       "      <td>F</td>\n",
       "    </tr>\n",
       "    <tr>\n",
       "      <th>Chris</th>\n",
       "      <td>70</td>\n",
       "      <td>75</td>\n",
       "      <td>90</td>\n",
       "      <td>A</td>\n",
       "    </tr>\n",
       "    <tr>\n",
       "      <th>Doug</th>\n",
       "      <td>75</td>\n",
       "      <td>70</td>\n",
       "      <td>60</td>\n",
       "      <td>D</td>\n",
       "    </tr>\n",
       "    <tr>\n",
       "      <th>Eva</th>\n",
       "      <td>60</td>\n",
       "      <td>73</td>\n",
       "      <td>75</td>\n",
       "      <td>C</td>\n",
       "    </tr>\n",
       "    <tr>\n",
       "      <th>Frank</th>\n",
       "      <td>72</td>\n",
       "      <td>63</td>\n",
       "      <td>-1</td>\n",
       "      <td>NA</td>\n",
       "    </tr>\n",
       "  </tbody>\n",
       "</table>\n",
       "</div>"
      ],
      "text/plain": [
       "      Midterm Project Final LetterGrade\n",
       "Alex      100      80    95           A\n",
       "Bob        55      60    45           F\n",
       "Chris      70      75    90           A\n",
       "Doug       75      70    60           D\n",
       "Eva        60      73    75           C\n",
       "Frank      72      63    -1          NA"
      ]
     },
     "execution_count": 35,
     "metadata": {},
     "output_type": "execute_result"
    }
   ],
   "source": [
    "# Load the pickle file\n",
    "df_pickle = pd.read_pickle(\"Data/temp/data.pickle\")\n",
    "df_pickle"
   ]
  },
  {
   "cell_type": "markdown",
   "metadata": {},
   "source": [
    "## 2. HDF5\n",
    "The \"HDF\" stands for \"hierarchical data format\". HDF5 can be a good choice for working with very large datasets that don't fit into memory, as you can efficiently read and write small sections of large arrays."
   ]
  },
  {
   "cell_type": "code",
   "execution_count": 36,
   "metadata": {
    "scrolled": true
   },
   "outputs": [
    {
     "data": {
      "text/html": [
       "<div>\n",
       "<style scoped>\n",
       "    .dataframe tbody tr th:only-of-type {\n",
       "        vertical-align: middle;\n",
       "    }\n",
       "\n",
       "    .dataframe tbody tr th {\n",
       "        vertical-align: top;\n",
       "    }\n",
       "\n",
       "    .dataframe thead th {\n",
       "        text-align: right;\n",
       "    }\n",
       "</style>\n",
       "<table border=\"1\" class=\"dataframe\">\n",
       "  <thead>\n",
       "    <tr style=\"text-align: right;\">\n",
       "      <th></th>\n",
       "      <th>Col1</th>\n",
       "      <th>Col2</th>\n",
       "    </tr>\n",
       "  </thead>\n",
       "  <tbody>\n",
       "    <tr>\n",
       "      <th>0</th>\n",
       "      <td>0.089893</td>\n",
       "      <td>-1.055004</td>\n",
       "    </tr>\n",
       "    <tr>\n",
       "      <th>1</th>\n",
       "      <td>0.316448</td>\n",
       "      <td>0.493639</td>\n",
       "    </tr>\n",
       "    <tr>\n",
       "      <th>2</th>\n",
       "      <td>0.412466</td>\n",
       "      <td>-0.242224</td>\n",
       "    </tr>\n",
       "    <tr>\n",
       "      <th>3</th>\n",
       "      <td>1.474262</td>\n",
       "      <td>-0.787625</td>\n",
       "    </tr>\n",
       "    <tr>\n",
       "      <th>4</th>\n",
       "      <td>-1.604593</td>\n",
       "      <td>0.732834</td>\n",
       "    </tr>\n",
       "  </tbody>\n",
       "</table>\n",
       "</div>"
      ],
      "text/plain": [
       "       Col1      Col2\n",
       "0  0.089893 -1.055004\n",
       "1  0.316448  0.493639\n",
       "2  0.412466 -0.242224\n",
       "3  1.474262 -0.787625\n",
       "4 -1.604593  0.732834"
      ]
     },
     "execution_count": 36,
     "metadata": {},
     "output_type": "execute_result"
    }
   ],
   "source": [
    "df = pd.DataFrame({\n",
    "    'Col1': np.random.randn(100),\n",
    "    'Col2': np.random.randn(100)\n",
    "})\n",
    "df.head(5)"
   ]
  },
  {
   "cell_type": "code",
   "execution_count": 40,
   "metadata": {},
   "outputs": [
    {
     "name": "stdout",
     "output_type": "stream",
     "text": [
      "Requirement already up-to-date: tables in c:\\users\\ch002\\anaconda3\\envs\\tensorflow\\lib\\site-packages (3.6.1)\n",
      "Requirement already satisfied, skipping upgrade: numexpr>=2.6.2 in c:\\users\\ch002\\anaconda3\\envs\\tensorflow\\lib\\site-packages (from tables) (2.7.0)\n",
      "Requirement already satisfied, skipping upgrade: numpy>=1.9.3 in c:\\users\\ch002\\anaconda3\\envs\\tensorflow\\lib\\site-packages (from tables) (1.14.3)\n"
     ]
    }
   ],
   "source": [
    "# The PyTable package may require update\n",
    "!pip3 install --upgrade tables"
   ]
  },
  {
   "cell_type": "code",
   "execution_count": null,
   "metadata": {
    "scrolled": true
   },
   "outputs": [],
   "source": [
    "df.to_hdf('Data/temp/data.h5', 'obj1', format='table')"
   ]
  },
  {
   "cell_type": "code",
   "execution_count": null,
   "metadata": {},
   "outputs": [],
   "source": [
    "df_hdf5 = pd.read_hdf('Data/temp/data.h5', 'obj1', where=['index < 3'])\n",
    "df_hdf5"
   ]
  },
  {
   "cell_type": "markdown",
   "metadata": {},
   "source": [
    "## 3. feather\n",
    "The feather format is adapted from the R statistical language. It has extremely high read and write performance."
   ]
  },
  {
   "cell_type": "code",
   "execution_count": 44,
   "metadata": {},
   "outputs": [
    {
     "name": "stdout",
     "output_type": "stream",
     "text": [
      "Collecting pyarrow\n",
      "  Downloading https://files.pythonhosted.org/packages/b5/09/f130ba1eefb7f1c20192e40aa5534ce80613a52df231f411c392e16ab5e2/pyarrow-0.15.0-cp36-cp36m-win_amd64.whl (18.3MB)\n",
      "Requirement already satisfied, skipping upgrade: six>=1.0.0 in c:\\users\\ch002\\anaconda3\\envs\\tensorflow\\lib\\site-packages (from pyarrow) (1.11.0)\n",
      "Requirement already satisfied, skipping upgrade: numpy>=1.14 in c:\\users\\ch002\\anaconda3\\envs\\tensorflow\\lib\\site-packages (from pyarrow) (1.14.3)\n",
      "Installing collected packages: pyarrow\n",
      "Successfully installed pyarrow-0.15.0\n"
     ]
    }
   ],
   "source": [
    "!pip install -U pyarrow"
   ]
  },
  {
   "cell_type": "code",
   "execution_count": 57,
   "metadata": {},
   "outputs": [
    {
     "name": "stdout",
     "output_type": "stream",
     "text": [
      "Time cost: 0.009720563888549805\n"
     ]
    }
   ],
   "source": [
    "import time\n",
    "start = time.time()\n",
    "df.to_feather('Data/temp/data.feather')\n",
    "# df.to_pickle('Data/temp/data2.pickle')\n",
    "end = time.time()\n",
    "print(\"Time cost:\", (end - start))"
   ]
  },
  {
   "cell_type": "code",
   "execution_count": 61,
   "metadata": {},
   "outputs": [
    {
     "name": "stdout",
     "output_type": "stream",
     "text": [
      "Time cost: 0.007938623428344727\n"
     ]
    }
   ],
   "source": [
    "import time\n",
    "start = time.time()\n",
    "df_feather = pd.read_feather('Data/temp/data.feather')\n",
    "# df2_pickle = pd.read_pickle('Data/temp/data2.pickle')\n",
    "end = time.time()\n",
    "print(\"Time cost:\", (end - start))\n",
    "# df_feather"
   ]
  },
  {
   "cell_type": "markdown",
   "metadata": {},
   "source": [
    "# III. Interacting with Databases\n",
    "In a business setting, most data may not be stored in text or binary files. SQL-based relational databases (such as mySQL) are in wide use.\n",
    "\n",
    "Python has sqlite3 package to interact with databases, and Pandas has some functions to simplify the process."
   ]
  },
  {
   "cell_type": "code",
   "execution_count": 63,
   "metadata": {},
   "outputs": [],
   "source": [
    "# Create a SQLite database\n",
    "import sqlite3\n",
    "query = \"\"\"\n",
    "CREATE TABLE test\n",
    "(a VARCHAR(20), b VARCHAR(20),\n",
    " c REAL,        d INTEGER\n",
    ");\"\"\"\n",
    "con = sqlite3.connect('Data/temp/data2.sqlite')\n",
    "con.execute(query)\n",
    "con.commit()"
   ]
  },
  {
   "cell_type": "code",
   "execution_count": null,
   "metadata": {},
   "outputs": [],
   "source": [
    "# query = \"\"\"\n",
    "# DROP TABLE test\n",
    "# \"\"\"\n",
    "# con.execute(query)\n",
    "# con.commit()"
   ]
  },
  {
   "cell_type": "code",
   "execution_count": 64,
   "metadata": {},
   "outputs": [],
   "source": [
    "# Insert a few rows of data\n",
    "data = [('Atlanta', 'Georgia', 1.25, 6),\n",
    "        ('Tallahassee', 'Florida', 2.6, 3),\n",
    "        ('Sacramento', 'California', 1.7, 5)]\n",
    "stmt = \"INSERT INTO test VALUES(?, ?, ?, ?)\"\n",
    "con.executemany(stmt, data)\n",
    "con.commit()"
   ]
  },
  {
   "cell_type": "code",
   "execution_count": 65,
   "metadata": {},
   "outputs": [
    {
     "data": {
      "text/plain": [
       "[('Atlanta', 'Georgia', 1.25, 6),\n",
       " ('Tallahassee', 'Florida', 2.6, 3),\n",
       " ('Sacramento', 'California', 1.7, 5)]"
      ]
     },
     "execution_count": 65,
     "metadata": {},
     "output_type": "execute_result"
    }
   ],
   "source": [
    "# Select data\n",
    "cursor = con.execute('select * from test')\n",
    "rows = cursor.fetchall()\n",
    "rows"
   ]
  },
  {
   "cell_type": "code",
   "execution_count": 66,
   "metadata": {},
   "outputs": [
    {
     "data": {
      "text/plain": [
       "(('a', None, None, None, None, None, None),\n",
       " ('b', None, None, None, None, None, None),\n",
       " ('c', None, None, None, None, None, None),\n",
       " ('d', None, None, None, None, None, None))"
      ]
     },
     "execution_count": 66,
     "metadata": {},
     "output_type": "execute_result"
    }
   ],
   "source": [
    "# Retrieve columns names\n",
    "cursor.description"
   ]
  },
  {
   "cell_type": "code",
   "execution_count": 68,
   "metadata": {},
   "outputs": [
    {
     "name": "stdout",
     "output_type": "stream",
     "text": [
      "['a', 'b', 'c', 'd']\n"
     ]
    }
   ],
   "source": [
    "# Extract column names from description\n",
    "\n",
    "# Solution 1: use a loop\n",
    "desc = cursor.description\n",
    "cols = []\n",
    "for elt in desc:\n",
    "#     print(elt[0])\n",
    "    cols.append(elt[0])\n",
    "print(cols)"
   ]
  },
  {
   "cell_type": "code",
   "execution_count": 69,
   "metadata": {},
   "outputs": [
    {
     "name": "stdout",
     "output_type": "stream",
     "text": [
      "['a', 'b', 'c', 'd']\n"
     ]
    }
   ],
   "source": [
    "cols = [elt[0] for elt in cursor.description]\n",
    "print(cols)"
   ]
  },
  {
   "cell_type": "code",
   "execution_count": 70,
   "metadata": {},
   "outputs": [
    {
     "data": {
      "text/html": [
       "<div>\n",
       "<style scoped>\n",
       "    .dataframe tbody tr th:only-of-type {\n",
       "        vertical-align: middle;\n",
       "    }\n",
       "\n",
       "    .dataframe tbody tr th {\n",
       "        vertical-align: top;\n",
       "    }\n",
       "\n",
       "    .dataframe thead th {\n",
       "        text-align: right;\n",
       "    }\n",
       "</style>\n",
       "<table border=\"1\" class=\"dataframe\">\n",
       "  <thead>\n",
       "    <tr style=\"text-align: right;\">\n",
       "      <th></th>\n",
       "      <th>a</th>\n",
       "      <th>b</th>\n",
       "      <th>c</th>\n",
       "      <th>d</th>\n",
       "    </tr>\n",
       "  </thead>\n",
       "  <tbody>\n",
       "    <tr>\n",
       "      <th>0</th>\n",
       "      <td>Atlanta</td>\n",
       "      <td>Georgia</td>\n",
       "      <td>1.25</td>\n",
       "      <td>6</td>\n",
       "    </tr>\n",
       "    <tr>\n",
       "      <th>1</th>\n",
       "      <td>Tallahassee</td>\n",
       "      <td>Florida</td>\n",
       "      <td>2.60</td>\n",
       "      <td>3</td>\n",
       "    </tr>\n",
       "    <tr>\n",
       "      <th>2</th>\n",
       "      <td>Sacramento</td>\n",
       "      <td>California</td>\n",
       "      <td>1.70</td>\n",
       "      <td>5</td>\n",
       "    </tr>\n",
       "  </tbody>\n",
       "</table>\n",
       "</div>"
      ],
      "text/plain": [
       "             a           b     c  d\n",
       "0      Atlanta     Georgia  1.25  6\n",
       "1  Tallahassee     Florida  2.60  3\n",
       "2   Sacramento  California  1.70  5"
      ]
     },
     "execution_count": 70,
     "metadata": {},
     "output_type": "execute_result"
    }
   ],
   "source": [
    "# Create a pandas data frame\n",
    "columns = [x[0] for x in cursor.description]\n",
    "df = pd.DataFrame(rows, columns=columns)\n",
    "df"
   ]
  },
  {
   "cell_type": "markdown",
   "metadata": {},
   "source": [
    "Use package `sqlalchemy` to create a data frame directly from a database."
   ]
  },
  {
   "cell_type": "code",
   "execution_count": 72,
   "metadata": {},
   "outputs": [
    {
     "name": "stdout",
     "output_type": "stream",
     "text": [
      "Collecting sqlalchemy\n",
      "  Downloading https://files.pythonhosted.org/packages/14/0e/487f7fc1e432cec50d2678f94e4133f2b9e9356e35bacc30d73e8cb831fc/SQLAlchemy-1.3.10.tar.gz (6.0MB)\n",
      "Building wheels for collected packages: sqlalchemy\n",
      "  Building wheel for sqlalchemy (setup.py): started\n",
      "  Building wheel for sqlalchemy (setup.py): finished with status 'done'\n",
      "  Created wheel for sqlalchemy: filename=SQLAlchemy-1.3.10-cp36-cp36m-win_amd64.whl size=1154938 sha256=fb69d6b1468e39cd2cc496855cd54f7ae3a8a07a8794d086093c5aee41a83ab5\n",
      "  Stored in directory: C:\\Users\\ch002\\AppData\\Local\\pip\\Cache\\wheels\\4b\\b2\\89\\cd2231ee623987c605f049df55f40a3e4252ef6a15b94836c2\n",
      "Successfully built sqlalchemy\n",
      "Installing collected packages: sqlalchemy\n",
      "Successfully installed sqlalchemy-1.3.10\n"
     ]
    }
   ],
   "source": [
    "!pip install sqlalchemy"
   ]
  },
  {
   "cell_type": "code",
   "execution_count": 73,
   "metadata": {},
   "outputs": [
    {
     "data": {
      "text/html": [
       "<div>\n",
       "<style scoped>\n",
       "    .dataframe tbody tr th:only-of-type {\n",
       "        vertical-align: middle;\n",
       "    }\n",
       "\n",
       "    .dataframe tbody tr th {\n",
       "        vertical-align: top;\n",
       "    }\n",
       "\n",
       "    .dataframe thead th {\n",
       "        text-align: right;\n",
       "    }\n",
       "</style>\n",
       "<table border=\"1\" class=\"dataframe\">\n",
       "  <thead>\n",
       "    <tr style=\"text-align: right;\">\n",
       "      <th></th>\n",
       "      <th>a</th>\n",
       "      <th>b</th>\n",
       "      <th>c</th>\n",
       "      <th>d</th>\n",
       "    </tr>\n",
       "  </thead>\n",
       "  <tbody>\n",
       "    <tr>\n",
       "      <th>0</th>\n",
       "      <td>Atlanta</td>\n",
       "      <td>Georgia</td>\n",
       "      <td>1.25</td>\n",
       "      <td>6</td>\n",
       "    </tr>\n",
       "    <tr>\n",
       "      <th>1</th>\n",
       "      <td>Tallahassee</td>\n",
       "      <td>Florida</td>\n",
       "      <td>2.60</td>\n",
       "      <td>3</td>\n",
       "    </tr>\n",
       "    <tr>\n",
       "      <th>2</th>\n",
       "      <td>Sacramento</td>\n",
       "      <td>California</td>\n",
       "      <td>1.70</td>\n",
       "      <td>5</td>\n",
       "    </tr>\n",
       "  </tbody>\n",
       "</table>\n",
       "</div>"
      ],
      "text/plain": [
       "             a           b     c  d\n",
       "0      Atlanta     Georgia  1.25  6\n",
       "1  Tallahassee     Florida  2.60  3\n",
       "2   Sacramento  California  1.70  5"
      ]
     },
     "execution_count": 73,
     "metadata": {},
     "output_type": "execute_result"
    }
   ],
   "source": [
    "import sqlalchemy as sqla\n",
    "db = sqla.create_engine('sqlite:///Data/temp/data.sqlite')\n",
    "df = pd.read_sql('select * from test', db)\n",
    "df"
   ]
  },
  {
   "cell_type": "code",
   "execution_count": null,
   "metadata": {},
   "outputs": [],
   "source": []
  }
 ],
 "metadata": {
  "kernelspec": {
   "display_name": "Python 3",
   "language": "python",
   "name": "python3"
  },
  "language_info": {
   "codemirror_mode": {
    "name": "ipython",
    "version": 3
   },
   "file_extension": ".py",
   "mimetype": "text/x-python",
   "name": "python",
   "nbconvert_exporter": "python",
   "pygments_lexer": "ipython3",
   "version": "3.6.5"
  }
 },
 "nbformat": 4,
 "nbformat_minor": 2
}
