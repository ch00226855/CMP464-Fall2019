{
 "cells": [
  {
   "cell_type": "code",
   "execution_count": null,
   "metadata": {},
   "outputs": [],
   "source": [
    "import numpy as np\n",
    "import pandas as pd\n",
    "import matplotlib.pyplot as plt\n",
    "%matplotlib inline\n",
    "pd.set_option('display.max_rows', 500)"
   ]
  },
  {
   "cell_type": "code",
   "execution_count": null,
   "metadata": {},
   "outputs": [],
   "source": [
    "values = np.array([\n",
    "    [100, 80, 95],\n",
    "    [55, 60, 45],\n",
    "    [70, 75, 90],\n",
    "    [75, 70, 60],\n",
    "    [60, 73, 75],\n",
    "    [72, 63, 70]\n",
    "])\n",
    "df = pd.DataFrame(values,\n",
    "                   columns=['Midterm', 'Project', 'Final'],\n",
    "                   index=['Alex', 'Bob', 'Chris', 'Doug', 'Eva', \"Frank\"])\n",
    "df"
   ]
  },
  {
   "cell_type": "code",
   "execution_count": null,
   "metadata": {},
   "outputs": [],
   "source": [
    "data = pd.read_csv(\"Data/houseprices/train.csv\", delimiter=\",\")\n",
    "data.head().T"
   ]
  },
  {
   "cell_type": "code",
   "execution_count": 1,
   "metadata": {},
   "outputs": [],
   "source": [
    "# Plotting with Pandas"
   ]
  },
  {
   "cell_type": "code",
   "execution_count": null,
   "metadata": {},
   "outputs": [],
   "source": [
    "# Line plot of YrSold\n"
   ]
  },
  {
   "cell_type": "code",
   "execution_count": 2,
   "metadata": {},
   "outputs": [],
   "source": [
    "# Line plot with xticks, xlim\n"
   ]
  },
  {
   "cell_type": "markdown",
   "metadata": {},
   "source": [
    "Pandas plot arguments:\n",
    "- label\n",
    "- ax\n",
    "- style\n",
    "- alpha\n",
    "- kind\n",
    "- logy\n",
    "- use_index\n",
    "- rot\n",
    "- xticks\n",
    "- yticks\n",
    "- xlim\n",
    "- ylim\n",
    "- grid"
   ]
  },
  {
   "cell_type": "code",
   "execution_count": null,
   "metadata": {},
   "outputs": [],
   "source": [
    "# Multiple line plots for the grade data\n"
   ]
  },
  {
   "cell_type": "markdown",
   "metadata": {},
   "source": [
    "Multiple plot arguments\n",
    "- subplots\n",
    "- sharex\n",
    "- sharey\n",
    "- figsize\n",
    "- title\n",
    "- legend\n",
    "- sort_columns"
   ]
  },
  {
   "cell_type": "code",
   "execution_count": 3,
   "metadata": {},
   "outputs": [],
   "source": [
    "# Plot grade data separatedly with shared x axis\n"
   ]
  },
  {
   "cell_type": "code",
   "execution_count": 4,
   "metadata": {},
   "outputs": [],
   "source": [
    "# Bar plots on GarageCars\n"
   ]
  },
  {
   "cell_type": "code",
   "execution_count": 5,
   "metadata": {},
   "outputs": [],
   "source": [
    "# Horizontal bar plots on GarageType\n"
   ]
  },
  {
   "cell_type": "code",
   "execution_count": null,
   "metadata": {},
   "outputs": [],
   "source": [
    "# Bar plot on multiple features: ['TotalBsmtSF', '1stFlrSF', '2ndFlrSF']\n"
   ]
  },
  {
   "cell_type": "code",
   "execution_count": 6,
   "metadata": {},
   "outputs": [],
   "source": [
    "# Stacked bar chart\n"
   ]
  },
  {
   "cell_type": "code",
   "execution_count": 7,
   "metadata": {},
   "outputs": [],
   "source": [
    "# histogram of 1stFlrSF\n"
   ]
  },
  {
   "cell_type": "code",
   "execution_count": 8,
   "metadata": {},
   "outputs": [],
   "source": [
    "# Density plot of 1stFlrSF\n"
   ]
  },
  {
   "cell_type": "markdown",
   "metadata": {},
   "source": [
    "## II. Plot with seaborn\n",
    "If matplotlib tries to make easy things easy and hard things possible, seaborn tries to make hard things easy too."
   ]
  },
  {
   "cell_type": "code",
   "execution_count": null,
   "metadata": {},
   "outputs": [],
   "source": [
    "import seaborn as sns\n",
    "# Swarm plot\n",
    "plt.figure(figsize=(20, 10))\n",
    "subdata = data[['BedroomAbvGr', 'SalePrice']]\n",
    "sns.swarmplot(x=\"BedroomAbvGr\", y=\"SalePrice\", data=subdata)"
   ]
  },
  {
   "cell_type": "code",
   "execution_count": null,
   "metadata": {},
   "outputs": [],
   "source": [
    "# Bar plot\n",
    "# HouseStyle, BedroomAbvGr vs. SalePrice\n",
    "sns.catplot(\"HouseStyle\", \"SalePrice\", \"BedroomAbvGr\", data=data, kind=\"bar\",\n",
    "            height=10, aspect=1)"
   ]
  },
  {
   "cell_type": "code",
   "execution_count": null,
   "metadata": {},
   "outputs": [],
   "source": []
  }
 ],
 "metadata": {
  "kernelspec": {
   "display_name": "Python 3",
   "language": "python",
   "name": "python3"
  },
  "language_info": {
   "codemirror_mode": {
    "name": "ipython",
    "version": 3
   },
   "file_extension": ".py",
   "mimetype": "text/x-python",
   "name": "python",
   "nbconvert_exporter": "python",
   "pygments_lexer": "ipython3",
   "version": "3.7.0"
  }
 },
 "nbformat": 4,
 "nbformat_minor": 2
}
