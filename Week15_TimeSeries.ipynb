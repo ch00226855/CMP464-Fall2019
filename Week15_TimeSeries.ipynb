{
 "cells": [
  {
   "cell_type": "markdown",
   "metadata": {},
   "source": [
    "# Chapter 11 Time Series\n",
    "\n",
    "Time series data is a data set where instances are indexed by time. It is an important form of structured data in many fields such as finance, economics, ecology, neuroscience, and physics. "
   ]
  },
  {
   "cell_type": "code",
   "execution_count": 82,
   "metadata": {
    "collapsed": true
   },
   "outputs": [],
   "source": [
    "import numpy as np\n",
    "import pandas as pd\n",
    "import matplotlib.pyplot as plt\n",
    "%matplotlib inline"
   ]
  },
  {
   "cell_type": "markdown",
   "metadata": {},
   "source": [
    "## 1. Date and Time Data Types and Tools\n",
    "\n",
    "In Python, the `datetime.datetime` class is widely used to represent date and time data."
   ]
  },
  {
   "cell_type": "code",
   "execution_count": 83,
   "metadata": {},
   "outputs": [
    {
     "data": {
      "text/plain": [
       "datetime.datetime(2019, 12, 4, 15, 4, 51, 486501)"
      ]
     },
     "execution_count": 83,
     "metadata": {},
     "output_type": "execute_result"
    }
   ],
   "source": [
    "from datetime import datetime\n",
    "\n",
    "datetime.now()"
   ]
  },
  {
   "cell_type": "code",
   "execution_count": 84,
   "metadata": {},
   "outputs": [
    {
     "data": {
      "text/plain": [
       "2019"
      ]
     },
     "execution_count": 84,
     "metadata": {},
     "output_type": "execute_result"
    }
   ],
   "source": [
    "datetime.now().year"
   ]
  },
  {
   "cell_type": "code",
   "execution_count": 85,
   "metadata": {},
   "outputs": [
    {
     "data": {
      "text/plain": [
       "4"
      ]
     },
     "execution_count": 85,
     "metadata": {},
     "output_type": "execute_result"
    }
   ],
   "source": [
    "datetime.now().day"
   ]
  },
  {
   "cell_type": "code",
   "execution_count": 86,
   "metadata": {},
   "outputs": [
    {
     "data": {
      "text/plain": [
       "12"
      ]
     },
     "execution_count": 86,
     "metadata": {},
     "output_type": "execute_result"
    }
   ],
   "source": [
    "datetime.now().month"
   ]
  },
  {
   "cell_type": "markdown",
   "metadata": {},
   "source": [
    "We can use `datetime.timedelta` to represent the temporal difference between two `datetime` objects."
   ]
  },
  {
   "cell_type": "code",
   "execution_count": 87,
   "metadata": {},
   "outputs": [
    {
     "data": {
      "text/plain": [
       "datetime.datetime(2019, 12, 14, 15, 5, 18, 617842)"
      ]
     },
     "execution_count": 87,
     "metadata": {},
     "output_type": "execute_result"
    }
   ],
   "source": [
    "from datetime import timedelta\n",
    "\n",
    "delta = timedelta(10)\n",
    "\n",
    "datetime.now() + delta"
   ]
  },
  {
   "cell_type": "code",
   "execution_count": 88,
   "metadata": {},
   "outputs": [
    {
     "data": {
      "text/plain": [
       "datetime.timedelta(7, 32054, 212395)"
      ]
     },
     "execution_count": 88,
     "metadata": {},
     "output_type": "execute_result"
    }
   ],
   "source": [
    "date1 = datetime(2019, 12, 12)\n",
    "date2 = datetime.now()\n",
    "date1 - date2"
   ]
  },
  {
   "cell_type": "markdown",
   "metadata": {},
   "source": [
    "**Convert between string and datetime**"
   ]
  },
  {
   "cell_type": "code",
   "execution_count": 89,
   "metadata": {},
   "outputs": [
    {
     "data": {
      "text/plain": [
       "'2011-01-03 23:30:45'"
      ]
     },
     "execution_count": 89,
     "metadata": {},
     "output_type": "execute_result"
    }
   ],
   "source": [
    "# datetime to string\n",
    "date = datetime(2011, 1, 3, 23, 30, 45)\n",
    "str(date)"
   ]
  },
  {
   "cell_type": "code",
   "execution_count": 90,
   "metadata": {},
   "outputs": [
    {
     "data": {
      "text/plain": [
       "'2011/01/03 23:30, Monday'"
      ]
     },
     "execution_count": 90,
     "metadata": {},
     "output_type": "execute_result"
    }
   ],
   "source": [
    "# Convert to format \"YYYY-MM-DD\"\n",
    "date.strftime(\"%Y/%m/%d %H:%M, %A\")"
   ]
  },
  {
   "cell_type": "markdown",
   "metadata": {},
   "source": [
    "Datetime formats:\n",
    "- %Y: Four-digit year\n",
    "- %y: Two-digit year\n",
    "- %m: Two-digit month\n",
    "- %d: Two-digit day\n",
    "- %H: Hour 0 - 23\n",
    "- %I: Hour 1 - 12\n",
    "- %M: Two-digit minute\n",
    "- %S: Second\n",
    "- %w: Weekday\n",
    "\n",
    "[More on this](https://docs.python.org/2/library/datetime.html)"
   ]
  },
  {
   "cell_type": "code",
   "execution_count": 91,
   "metadata": {},
   "outputs": [
    {
     "data": {
      "text/plain": [
       "'01/03/2011'"
      ]
     },
     "execution_count": 91,
     "metadata": {},
     "output_type": "execute_result"
    }
   ],
   "source": [
    "# Exercise: convert date to \"01/03/2011\"\n",
    "date = datetime(2011, 1, 3)\n",
    "date.strftime(\"%m/%d/%Y\") # the formats are case-sensitive"
   ]
  },
  {
   "cell_type": "code",
   "execution_count": 92,
   "metadata": {},
   "outputs": [
    {
     "data": {
      "text/plain": [
       "'01-03-2011 00:00'"
      ]
     },
     "execution_count": 92,
     "metadata": {},
     "output_type": "execute_result"
    }
   ],
   "source": [
    "# Exercise: convert date to \"01-03-2011 00:00\"\n",
    "date.strftime(\"%m-%d-%Y %H:%M\")"
   ]
  },
  {
   "cell_type": "code",
   "execution_count": 95,
   "metadata": {},
   "outputs": [
    {
     "data": {
      "text/plain": [
       "datetime.datetime(2011, 1, 3, 0, 0)"
      ]
     },
     "execution_count": 95,
     "metadata": {},
     "output_type": "execute_result"
    }
   ],
   "source": [
    "# String to datetime\n",
    "from dateutil.parser import parse\n",
    "parse(\"2011-01-03\")"
   ]
  },
  {
   "cell_type": "code",
   "execution_count": 96,
   "metadata": {},
   "outputs": [
    {
     "data": {
      "text/plain": [
       "datetime.datetime(1997, 1, 31, 22, 45)"
      ]
     },
     "execution_count": 96,
     "metadata": {},
     "output_type": "execute_result"
    }
   ],
   "source": [
    "parse(\"Jan 31, 1997 10:45 PM\")"
   ]
  },
  {
   "cell_type": "code",
   "execution_count": 97,
   "metadata": {},
   "outputs": [
    {
     "data": {
      "text/plain": [
       "datetime.datetime(2011, 12, 6, 0, 0)"
      ]
     },
     "execution_count": 97,
     "metadata": {},
     "output_type": "execute_result"
    }
   ],
   "source": [
    "# Many countries use format \"DD/MM/YYYY\". We need to set dayfirst=True\n",
    "# so that the date is correctly recognized.\n",
    "parse(\"06/12/2011\", dayfirst=True)"
   ]
  },
  {
   "cell_type": "code",
   "execution_count": 98,
   "metadata": {},
   "outputs": [
    {
     "data": {
      "text/plain": [
       "datetime.datetime(2011, 6, 12, 0, 0)"
      ]
     },
     "execution_count": 98,
     "metadata": {},
     "output_type": "execute_result"
    }
   ],
   "source": [
    "parse(\"06/12/2011\")"
   ]
  },
  {
   "cell_type": "markdown",
   "metadata": {},
   "source": [
    "## 2. Time Series Basics"
   ]
  },
  {
   "cell_type": "code",
   "execution_count": 99,
   "metadata": {},
   "outputs": [
    {
     "data": {
      "text/plain": [
       "2011-01-02    1.146649\n",
       "2011-01-05    0.088085\n",
       "2011-02-07   -0.878063\n",
       "2011-02-08    1.717181\n",
       "2011-03-10    1.573802\n",
       "2011-03-12   -0.818002\n",
       "dtype: float64"
      ]
     },
     "execution_count": 99,
     "metadata": {},
     "output_type": "execute_result"
    }
   ],
   "source": [
    "# Create a list of datetime objects\n",
    "dates = [datetime(2011, 1, 2), datetime(2011, 1, 5),\n",
    "         datetime(2011, 2, 7), datetime(2011, 2, 8),\n",
    "         datetime(2011, 3, 10), datetime(2011, 3, 12)]\n",
    "ts = pd.Series(np.random.randn(6), index=dates)\n",
    "ts"
   ]
  },
  {
   "cell_type": "code",
   "execution_count": 100,
   "metadata": {},
   "outputs": [
    {
     "data": {
      "text/plain": [
       "0.08808493477991418"
      ]
     },
     "execution_count": 100,
     "metadata": {},
     "output_type": "execute_result"
    }
   ],
   "source": [
    "# Select 01/05\n",
    "ts['2011-01-05']"
   ]
  },
  {
   "cell_type": "code",
   "execution_count": 101,
   "metadata": {},
   "outputs": [
    {
     "data": {
      "text/plain": [
       "0.08808493477991418"
      ]
     },
     "execution_count": 101,
     "metadata": {},
     "output_type": "execute_result"
    }
   ],
   "source": [
    "ts[1]"
   ]
  },
  {
   "cell_type": "code",
   "execution_count": 102,
   "metadata": {},
   "outputs": [
    {
     "data": {
      "text/plain": [
       "0.08808493477991418"
      ]
     },
     "execution_count": 102,
     "metadata": {},
     "output_type": "execute_result"
    }
   ],
   "source": [
    "ts['01/05/2011']"
   ]
  },
  {
   "cell_type": "code",
   "execution_count": 103,
   "metadata": {},
   "outputs": [
    {
     "data": {
      "text/plain": [
       "0.08808493477991418"
      ]
     },
     "execution_count": 103,
     "metadata": {},
     "output_type": "execute_result"
    }
   ],
   "source": [
    "ts['20110105']"
   ]
  },
  {
   "cell_type": "code",
   "execution_count": 104,
   "metadata": {},
   "outputs": [
    {
     "data": {
      "text/plain": [
       "2011-02-07   -0.878063\n",
       "2011-02-08    1.717181\n",
       "dtype: float64"
      ]
     },
     "execution_count": 104,
     "metadata": {},
     "output_type": "execute_result"
    }
   ],
   "source": [
    "# Select a range of dates\n",
    "ts['2011-02']"
   ]
  },
  {
   "cell_type": "code",
   "execution_count": 105,
   "metadata": {},
   "outputs": [
    {
     "data": {
      "text/plain": [
       "2011-02-07   -0.878063\n",
       "2011-02-08    1.717181\n",
       "dtype: float64"
      ]
     },
     "execution_count": 105,
     "metadata": {},
     "output_type": "execute_result"
    }
   ],
   "source": [
    "ts['2011-02-01':'2011-02-8'] # the end datetime is also included"
   ]
  },
  {
   "cell_type": "code",
   "execution_count": 106,
   "metadata": {},
   "outputs": [
    {
     "data": {
      "text/plain": [
       "2011-02-07   -0.878063\n",
       "2011-02-08    1.717181\n",
       "2011-03-10    1.573802\n",
       "2011-03-12   -0.818002\n",
       "dtype: float64"
      ]
     },
     "execution_count": 106,
     "metadata": {},
     "output_type": "execute_result"
    }
   ],
   "source": [
    "ts['2011-02-01':]"
   ]
  },
  {
   "cell_type": "code",
   "execution_count": 107,
   "metadata": {},
   "outputs": [
    {
     "data": {
      "text/plain": [
       "2011-01-02    1.146649\n",
       "2011-01-05    0.088085\n",
       "2011-02-07   -0.878063\n",
       "2011-02-08    1.717181\n",
       "2011-03-10    1.573802\n",
       "dtype: float64"
      ]
     },
     "execution_count": 107,
     "metadata": {},
     "output_type": "execute_result"
    }
   ],
   "source": [
    "ts[:\"2011-03-10\"]"
   ]
  },
  {
   "cell_type": "markdown",
   "metadata": {},
   "source": [
    "## 3. Date Ranges"
   ]
  },
  {
   "cell_type": "code",
   "execution_count": 108,
   "metadata": {},
   "outputs": [
    {
     "name": "stderr",
     "output_type": "stream",
     "text": [
      "C:\\Users\\ch002\\Anaconda3\\lib\\site-packages\\pandas\\core\\series.py:1155: FutureWarning: \n",
      "Passing list-likes to .loc or [] with any missing label will raise\n",
      "KeyError in the future, you can use .reindex() as an alternative.\n",
      "\n",
      "See the documentation here:\n",
      "https://pandas.pydata.org/pandas-docs/stable/user_guide/indexing.html#deprecate-loc-reindex-listlike\n",
      "  return self.loc[key]\n"
     ]
    },
    {
     "data": {
      "text/plain": [
       "2011-01-02    1.146649\n",
       "2011-03-10    1.573802\n",
       "2011-04-01         NaN\n",
       "dtype: float64"
      ]
     },
     "execution_count": 108,
     "metadata": {},
     "output_type": "execute_result"
    }
   ],
   "source": [
    "# manually populate a list of dates\n",
    "dates = [datetime(2011, 1, 2), datetime(2011, 3, 10), datetime(2011, 4, 1)]\n",
    "ts[dates]"
   ]
  },
  {
   "cell_type": "code",
   "execution_count": 109,
   "metadata": {},
   "outputs": [
    {
     "name": "stdout",
     "output_type": "stream",
     "text": [
      "DatetimeIndex(['2011-01-01', '2011-01-02', '2011-01-03', '2011-01-04',\n",
      "               '2011-01-05', '2011-01-06', '2011-01-07', '2011-01-08'],\n",
      "              dtype='datetime64[ns]', freq='D')\n"
     ]
    }
   ],
   "source": [
    "# Create a range of dates\n",
    "daterange = pd.date_range('2011-01-01', periods=8)\n",
    "print(daterange)"
   ]
  },
  {
   "cell_type": "code",
   "execution_count": 110,
   "metadata": {},
   "outputs": [
    {
     "name": "stdout",
     "output_type": "stream",
     "text": [
      "DatetimeIndex(['2011-01-01', '2011-01-03', '2011-01-05', '2011-01-07',\n",
      "               '2011-01-09'],\n",
      "              dtype='datetime64[ns]', freq='2D')\n"
     ]
    }
   ],
   "source": [
    "daterange = pd.date_range('2011-01-01', periods=5, freq='2D')\n",
    "print(daterange)"
   ]
  },
  {
   "cell_type": "code",
   "execution_count": 111,
   "metadata": {},
   "outputs": [
    {
     "name": "stdout",
     "output_type": "stream",
     "text": [
      "DatetimeIndex(['2011-01-01 00:00:00', '2011-01-01 10:00:00',\n",
      "               '2011-01-01 20:00:00', '2011-01-02 06:00:00',\n",
      "               '2011-01-02 16:00:00'],\n",
      "              dtype='datetime64[ns]', freq='10H')\n"
     ]
    }
   ],
   "source": [
    "daterange = pd.date_range(\"2011-01-01\", periods=5, freq=\"10H\")\n",
    "print(daterange)"
   ]
  },
  {
   "cell_type": "code",
   "execution_count": 112,
   "metadata": {
    "scrolled": true
   },
   "outputs": [
    {
     "name": "stdout",
     "output_type": "stream",
     "text": [
      "DatetimeIndex(['2011-01-03', '2011-01-04', '2011-01-05', '2011-01-06',\n",
      "               '2011-01-07', '2011-01-10', '2011-01-11', '2011-01-12',\n",
      "               '2011-01-13', '2011-01-14'],\n",
      "              dtype='datetime64[ns]', freq='B')\n"
     ]
    }
   ],
   "source": [
    "# Sample business days only\n",
    "daterange = pd.date_range(\"2011-01-01\", periods=10, freq=\"B\")\n",
    "print(daterange)"
   ]
  },
  {
   "cell_type": "code",
   "execution_count": 113,
   "metadata": {},
   "outputs": [
    {
     "data": {
      "text/plain": [
       "2011-01-03         NaN\n",
       "2011-01-04         NaN\n",
       "2011-01-05    0.088085\n",
       "2011-01-06         NaN\n",
       "2011-01-07         NaN\n",
       "2011-01-10         NaN\n",
       "2011-01-11         NaN\n",
       "2011-01-12         NaN\n",
       "2011-01-13         NaN\n",
       "2011-01-14         NaN\n",
       "Freq: B, dtype: float64"
      ]
     },
     "execution_count": 113,
     "metadata": {},
     "output_type": "execute_result"
    }
   ],
   "source": [
    "ts[daterange]"
   ]
  },
  {
   "cell_type": "code",
   "execution_count": 114,
   "metadata": {},
   "outputs": [
    {
     "data": {
      "text/plain": [
       "2011-01-05    0.088085\n",
       "dtype: float64"
      ]
     },
     "execution_count": 114,
     "metadata": {},
     "output_type": "execute_result"
    }
   ],
   "source": [
    "ts[ts.index.isin(daterange)]"
   ]
  },
  {
   "cell_type": "markdown",
   "metadata": {},
   "source": [
    "## 4. Shifting Data\n"
   ]
  },
  {
   "cell_type": "code",
   "execution_count": 115,
   "metadata": {},
   "outputs": [
    {
     "data": {
      "text/html": [
       "<div>\n",
       "<style scoped>\n",
       "    .dataframe tbody tr th:only-of-type {\n",
       "        vertical-align: middle;\n",
       "    }\n",
       "\n",
       "    .dataframe tbody tr th {\n",
       "        vertical-align: top;\n",
       "    }\n",
       "\n",
       "    .dataframe thead th {\n",
       "        text-align: right;\n",
       "    }\n",
       "</style>\n",
       "<table border=\"1\" class=\"dataframe\">\n",
       "  <thead>\n",
       "    <tr style=\"text-align: right;\">\n",
       "      <th></th>\n",
       "      <th>Price</th>\n",
       "    </tr>\n",
       "  </thead>\n",
       "  <tbody>\n",
       "    <tr>\n",
       "      <th>2019-11-01</th>\n",
       "      <td>100.309099</td>\n",
       "    </tr>\n",
       "    <tr>\n",
       "      <th>2019-11-02</th>\n",
       "      <td>100.455006</td>\n",
       "    </tr>\n",
       "    <tr>\n",
       "      <th>2019-11-03</th>\n",
       "      <td>100.805796</td>\n",
       "    </tr>\n",
       "    <tr>\n",
       "      <th>2019-11-04</th>\n",
       "      <td>100.162094</td>\n",
       "    </tr>\n",
       "  </tbody>\n",
       "</table>\n",
       "</div>"
      ],
      "text/plain": [
       "                 Price\n",
       "2019-11-01  100.309099\n",
       "2019-11-02  100.455006\n",
       "2019-11-03  100.805796\n",
       "2019-11-04  100.162094"
      ]
     },
     "execution_count": 115,
     "metadata": {},
     "output_type": "execute_result"
    }
   ],
   "source": [
    "prices = pd.DataFrame(np.random.rand(4) + 100,\n",
    "                      index=pd.date_range('2019-11-01', periods=4),\n",
    "                      columns=['Price'])\n",
    "prices"
   ]
  },
  {
   "cell_type": "code",
   "execution_count": null,
   "metadata": {
    "collapsed": true
   },
   "outputs": [],
   "source": [
    "prices - 100"
   ]
  },
  {
   "cell_type": "code",
   "execution_count": null,
   "metadata": {
    "collapsed": true
   },
   "outputs": [],
   "source": [
    "# How to create a column storing yesterday's price?\n",
    "for date in prices.index:\n",
    "    yesterday = date - timedelta(days=1)\n",
    "    if yesterday in prices.index:\n",
    "#         print(prices.loc[yesterday])\n",
    "        prices.loc[date, \"Yesterday's Price\"] = prices.loc[yesterday, \"Price\"]\n",
    "prices"
   ]
  },
  {
   "cell_type": "code",
   "execution_count": 116,
   "metadata": {},
   "outputs": [
    {
     "data": {
      "text/html": [
       "<div>\n",
       "<style scoped>\n",
       "    .dataframe tbody tr th:only-of-type {\n",
       "        vertical-align: middle;\n",
       "    }\n",
       "\n",
       "    .dataframe tbody tr th {\n",
       "        vertical-align: top;\n",
       "    }\n",
       "\n",
       "    .dataframe thead th {\n",
       "        text-align: right;\n",
       "    }\n",
       "</style>\n",
       "<table border=\"1\" class=\"dataframe\">\n",
       "  <thead>\n",
       "    <tr style=\"text-align: right;\">\n",
       "      <th></th>\n",
       "      <th>Price</th>\n",
       "    </tr>\n",
       "  </thead>\n",
       "  <tbody>\n",
       "    <tr>\n",
       "      <th>2019-11-01</th>\n",
       "      <td>NaN</td>\n",
       "    </tr>\n",
       "    <tr>\n",
       "      <th>2019-11-02</th>\n",
       "      <td>100.786094</td>\n",
       "    </tr>\n",
       "    <tr>\n",
       "      <th>2019-11-03</th>\n",
       "      <td>100.351209</td>\n",
       "    </tr>\n",
       "    <tr>\n",
       "      <th>2019-11-04</th>\n",
       "      <td>100.234591</td>\n",
       "    </tr>\n",
       "  </tbody>\n",
       "</table>\n",
       "</div>"
      ],
      "text/plain": [
       "                 Price\n",
       "2019-11-01         NaN\n",
       "2019-11-02  100.786094\n",
       "2019-11-03  100.351209\n",
       "2019-11-04  100.234591"
      ]
     },
     "execution_count": 116,
     "metadata": {},
     "output_type": "execute_result"
    }
   ],
   "source": [
    "prices = pd.DataFrame(np.random.rand(4) + 100,\n",
    "                      index=pd.date_range('2019-11-01', periods=4),\n",
    "                      columns=['Price'])\n",
    "prices_yesterday = prices.shift(1)\n",
    "prices_yesterday"
   ]
  },
  {
   "cell_type": "code",
   "execution_count": 117,
   "metadata": {},
   "outputs": [
    {
     "data": {
      "text/html": [
       "<div>\n",
       "<style scoped>\n",
       "    .dataframe tbody tr th:only-of-type {\n",
       "        vertical-align: middle;\n",
       "    }\n",
       "\n",
       "    .dataframe tbody tr th {\n",
       "        vertical-align: top;\n",
       "    }\n",
       "\n",
       "    .dataframe thead th {\n",
       "        text-align: right;\n",
       "    }\n",
       "</style>\n",
       "<table border=\"1\" class=\"dataframe\">\n",
       "  <thead>\n",
       "    <tr style=\"text-align: right;\">\n",
       "      <th></th>\n",
       "      <th>PriceToday</th>\n",
       "      <th>PriceYesterday</th>\n",
       "    </tr>\n",
       "  </thead>\n",
       "  <tbody>\n",
       "    <tr>\n",
       "      <th>2019-11-01</th>\n",
       "      <td>100.786094</td>\n",
       "      <td>NaN</td>\n",
       "    </tr>\n",
       "    <tr>\n",
       "      <th>2019-11-02</th>\n",
       "      <td>100.351209</td>\n",
       "      <td>100.786094</td>\n",
       "    </tr>\n",
       "    <tr>\n",
       "      <th>2019-11-03</th>\n",
       "      <td>100.234591</td>\n",
       "      <td>100.351209</td>\n",
       "    </tr>\n",
       "    <tr>\n",
       "      <th>2019-11-04</th>\n",
       "      <td>100.288294</td>\n",
       "      <td>100.234591</td>\n",
       "    </tr>\n",
       "  </tbody>\n",
       "</table>\n",
       "</div>"
      ],
      "text/plain": [
       "            PriceToday  PriceYesterday\n",
       "2019-11-01  100.786094             NaN\n",
       "2019-11-02  100.351209      100.786094\n",
       "2019-11-03  100.234591      100.351209\n",
       "2019-11-04  100.288294      100.234591"
      ]
     },
     "execution_count": 117,
     "metadata": {},
     "output_type": "execute_result"
    }
   ],
   "source": [
    "prices = pd.merge(prices, prices_yesterday, left_index=True, right_index=True,\n",
    "                  suffixes=[\"Today\", \"Yesterday\"])\n",
    "prices"
   ]
  },
  {
   "cell_type": "code",
   "execution_count": 118,
   "metadata": {},
   "outputs": [
    {
     "data": {
      "text/html": [
       "<div>\n",
       "<style scoped>\n",
       "    .dataframe tbody tr th:only-of-type {\n",
       "        vertical-align: middle;\n",
       "    }\n",
       "\n",
       "    .dataframe tbody tr th {\n",
       "        vertical-align: top;\n",
       "    }\n",
       "\n",
       "    .dataframe thead th {\n",
       "        text-align: right;\n",
       "    }\n",
       "</style>\n",
       "<table border=\"1\" class=\"dataframe\">\n",
       "  <thead>\n",
       "    <tr style=\"text-align: right;\">\n",
       "      <th></th>\n",
       "      <th>PriceToday</th>\n",
       "      <th>PriceYesterday</th>\n",
       "      <th>PercentOfChange</th>\n",
       "    </tr>\n",
       "  </thead>\n",
       "  <tbody>\n",
       "    <tr>\n",
       "      <th>2019-11-01</th>\n",
       "      <td>100.786094</td>\n",
       "      <td>NaN</td>\n",
       "      <td>NaN</td>\n",
       "    </tr>\n",
       "    <tr>\n",
       "      <th>2019-11-02</th>\n",
       "      <td>100.351209</td>\n",
       "      <td>100.786094</td>\n",
       "      <td>-0.004315</td>\n",
       "    </tr>\n",
       "    <tr>\n",
       "      <th>2019-11-03</th>\n",
       "      <td>100.234591</td>\n",
       "      <td>100.351209</td>\n",
       "      <td>-0.001162</td>\n",
       "    </tr>\n",
       "    <tr>\n",
       "      <th>2019-11-04</th>\n",
       "      <td>100.288294</td>\n",
       "      <td>100.234591</td>\n",
       "      <td>0.000536</td>\n",
       "    </tr>\n",
       "  </tbody>\n",
       "</table>\n",
       "</div>"
      ],
      "text/plain": [
       "            PriceToday  PriceYesterday  PercentOfChange\n",
       "2019-11-01  100.786094             NaN              NaN\n",
       "2019-11-02  100.351209      100.786094        -0.004315\n",
       "2019-11-03  100.234591      100.351209        -0.001162\n",
       "2019-11-04  100.288294      100.234591         0.000536"
      ]
     },
     "execution_count": 118,
     "metadata": {},
     "output_type": "execute_result"
    }
   ],
   "source": [
    "# Exercise: Compute the percent changes between yesterday and today's price\n",
    "# Formula: percent = (today's price - yesterday's price) / yesterday's price\n",
    "prices['PercentOfChange'] = (prices['PriceToday'] - prices['PriceYesterday']) \\\n",
    "                            / prices['PriceYesterday']\n",
    "prices"
   ]
  },
  {
   "cell_type": "markdown",
   "metadata": {},
   "source": [
    "## Analyzing Stock Prices"
   ]
  },
  {
   "cell_type": "code",
   "execution_count": null,
   "metadata": {
    "collapsed": true,
    "scrolled": true
   },
   "outputs": [],
   "source": [
    "# Install pandas-datareader to download data\n",
    "# https://pydata.github.io/pandas-datareader/devel/remote_data.html#tiingo\n",
    "!python -m pip install --upgrade pip # upgrade pip\n",
    "!pip install pandas-datareader # install package"
   ]
  },
  {
   "cell_type": "code",
   "execution_count": 119,
   "metadata": {},
   "outputs": [
    {
     "data": {
      "text/html": [
       "<div>\n",
       "<style scoped>\n",
       "    .dataframe tbody tr th:only-of-type {\n",
       "        vertical-align: middle;\n",
       "    }\n",
       "\n",
       "    .dataframe tbody tr th {\n",
       "        vertical-align: top;\n",
       "    }\n",
       "\n",
       "    .dataframe thead th {\n",
       "        text-align: right;\n",
       "    }\n",
       "</style>\n",
       "<table border=\"1\" class=\"dataframe\">\n",
       "  <thead>\n",
       "    <tr style=\"text-align: right;\">\n",
       "      <th></th>\n",
       "      <th></th>\n",
       "      <th>close</th>\n",
       "      <th>high</th>\n",
       "      <th>low</th>\n",
       "      <th>open</th>\n",
       "      <th>volume</th>\n",
       "      <th>adjClose</th>\n",
       "      <th>adjHigh</th>\n",
       "      <th>adjLow</th>\n",
       "      <th>adjOpen</th>\n",
       "      <th>adjVolume</th>\n",
       "      <th>divCash</th>\n",
       "      <th>splitFactor</th>\n",
       "    </tr>\n",
       "    <tr>\n",
       "      <th>symbol</th>\n",
       "      <th>date</th>\n",
       "      <th></th>\n",
       "      <th></th>\n",
       "      <th></th>\n",
       "      <th></th>\n",
       "      <th></th>\n",
       "      <th></th>\n",
       "      <th></th>\n",
       "      <th></th>\n",
       "      <th></th>\n",
       "      <th></th>\n",
       "      <th></th>\n",
       "      <th></th>\n",
       "    </tr>\n",
       "  </thead>\n",
       "  <tbody>\n",
       "    <tr>\n",
       "      <th rowspan=\"5\" valign=\"top\">GOOG</th>\n",
       "      <th>2014-12-05 00:00:00+00:00</th>\n",
       "      <td>525.26</td>\n",
       "      <td>532.89</td>\n",
       "      <td>524.28</td>\n",
       "      <td>531.00</td>\n",
       "      <td>2558649</td>\n",
       "      <td>525.26</td>\n",
       "      <td>532.89</td>\n",
       "      <td>524.28</td>\n",
       "      <td>531.00</td>\n",
       "      <td>2558649</td>\n",
       "      <td>0.0</td>\n",
       "      <td>1.0</td>\n",
       "    </tr>\n",
       "    <tr>\n",
       "      <th>2014-12-08 00:00:00+00:00</th>\n",
       "      <td>526.98</td>\n",
       "      <td>531.00</td>\n",
       "      <td>523.79</td>\n",
       "      <td>527.13</td>\n",
       "      <td>2327127</td>\n",
       "      <td>526.98</td>\n",
       "      <td>531.00</td>\n",
       "      <td>523.79</td>\n",
       "      <td>527.13</td>\n",
       "      <td>2327127</td>\n",
       "      <td>0.0</td>\n",
       "      <td>1.0</td>\n",
       "    </tr>\n",
       "    <tr>\n",
       "      <th>2014-12-09 00:00:00+00:00</th>\n",
       "      <td>533.37</td>\n",
       "      <td>534.19</td>\n",
       "      <td>520.50</td>\n",
       "      <td>522.14</td>\n",
       "      <td>1871268</td>\n",
       "      <td>533.37</td>\n",
       "      <td>534.19</td>\n",
       "      <td>520.50</td>\n",
       "      <td>522.14</td>\n",
       "      <td>1871268</td>\n",
       "      <td>0.0</td>\n",
       "      <td>1.0</td>\n",
       "    </tr>\n",
       "    <tr>\n",
       "      <th>2014-12-10 00:00:00+00:00</th>\n",
       "      <td>526.06</td>\n",
       "      <td>536.33</td>\n",
       "      <td>525.56</td>\n",
       "      <td>533.08</td>\n",
       "      <td>1716835</td>\n",
       "      <td>526.06</td>\n",
       "      <td>536.33</td>\n",
       "      <td>525.56</td>\n",
       "      <td>533.08</td>\n",
       "      <td>1716835</td>\n",
       "      <td>0.0</td>\n",
       "      <td>1.0</td>\n",
       "    </tr>\n",
       "    <tr>\n",
       "      <th>2014-12-11 00:00:00+00:00</th>\n",
       "      <td>528.34</td>\n",
       "      <td>533.92</td>\n",
       "      <td>527.10</td>\n",
       "      <td>527.80</td>\n",
       "      <td>1610964</td>\n",
       "      <td>528.34</td>\n",
       "      <td>533.92</td>\n",
       "      <td>527.10</td>\n",
       "      <td>527.80</td>\n",
       "      <td>1610964</td>\n",
       "      <td>0.0</td>\n",
       "      <td>1.0</td>\n",
       "    </tr>\n",
       "  </tbody>\n",
       "</table>\n",
       "</div>"
      ],
      "text/plain": [
       "                                   close    high     low    open   volume  \\\n",
       "symbol date                                                                 \n",
       "GOOG   2014-12-05 00:00:00+00:00  525.26  532.89  524.28  531.00  2558649   \n",
       "       2014-12-08 00:00:00+00:00  526.98  531.00  523.79  527.13  2327127   \n",
       "       2014-12-09 00:00:00+00:00  533.37  534.19  520.50  522.14  1871268   \n",
       "       2014-12-10 00:00:00+00:00  526.06  536.33  525.56  533.08  1716835   \n",
       "       2014-12-11 00:00:00+00:00  528.34  533.92  527.10  527.80  1610964   \n",
       "\n",
       "                                  adjClose  adjHigh  adjLow  adjOpen  \\\n",
       "symbol date                                                            \n",
       "GOOG   2014-12-05 00:00:00+00:00    525.26   532.89  524.28   531.00   \n",
       "       2014-12-08 00:00:00+00:00    526.98   531.00  523.79   527.13   \n",
       "       2014-12-09 00:00:00+00:00    533.37   534.19  520.50   522.14   \n",
       "       2014-12-10 00:00:00+00:00    526.06   536.33  525.56   533.08   \n",
       "       2014-12-11 00:00:00+00:00    528.34   533.92  527.10   527.80   \n",
       "\n",
       "                                  adjVolume  divCash  splitFactor  \n",
       "symbol date                                                        \n",
       "GOOG   2014-12-05 00:00:00+00:00    2558649      0.0          1.0  \n",
       "       2014-12-08 00:00:00+00:00    2327127      0.0          1.0  \n",
       "       2014-12-09 00:00:00+00:00    1871268      0.0          1.0  \n",
       "       2014-12-10 00:00:00+00:00    1716835      0.0          1.0  \n",
       "       2014-12-11 00:00:00+00:00    1610964      0.0          1.0  "
      ]
     },
     "execution_count": 119,
     "metadata": {},
     "output_type": "execute_result"
    }
   ],
   "source": [
    "import os\n",
    "import pandas_datareader as pdr\n",
    "api_key = \"1add15c49f55eca6cfdce0109f11c6d477974b14\"\n",
    "# api_key = \"Find-your-key-on-tiingo\"\n",
    "df = pdr.get_data_tiingo('GOOG', api_key=api_key)\n",
    "df.head()"
   ]
  },
  {
   "cell_type": "code",
   "execution_count": 120,
   "metadata": {},
   "outputs": [
    {
     "data": {
      "text/html": [
       "<div>\n",
       "<style scoped>\n",
       "    .dataframe tbody tr th:only-of-type {\n",
       "        vertical-align: middle;\n",
       "    }\n",
       "\n",
       "    .dataframe tbody tr th {\n",
       "        vertical-align: top;\n",
       "    }\n",
       "\n",
       "    .dataframe thead th {\n",
       "        text-align: right;\n",
       "    }\n",
       "</style>\n",
       "<table border=\"1\" class=\"dataframe\">\n",
       "  <thead>\n",
       "    <tr style=\"text-align: right;\">\n",
       "      <th></th>\n",
       "      <th></th>\n",
       "      <th>close</th>\n",
       "      <th>high</th>\n",
       "      <th>low</th>\n",
       "      <th>open</th>\n",
       "      <th>volume</th>\n",
       "      <th>adjClose</th>\n",
       "      <th>adjHigh</th>\n",
       "      <th>adjLow</th>\n",
       "      <th>adjOpen</th>\n",
       "      <th>adjVolume</th>\n",
       "      <th>divCash</th>\n",
       "      <th>splitFactor</th>\n",
       "    </tr>\n",
       "    <tr>\n",
       "      <th>symbol</th>\n",
       "      <th>date</th>\n",
       "      <th></th>\n",
       "      <th></th>\n",
       "      <th></th>\n",
       "      <th></th>\n",
       "      <th></th>\n",
       "      <th></th>\n",
       "      <th></th>\n",
       "      <th></th>\n",
       "      <th></th>\n",
       "      <th></th>\n",
       "      <th></th>\n",
       "      <th></th>\n",
       "    </tr>\n",
       "  </thead>\n",
       "  <tbody>\n",
       "    <tr>\n",
       "      <th rowspan=\"5\" valign=\"top\">AAPL</th>\n",
       "      <th>2014-01-02 00:00:00+00:00</th>\n",
       "      <td>553.1300</td>\n",
       "      <td>557.03</td>\n",
       "      <td>552.021</td>\n",
       "      <td>555.68</td>\n",
       "      <td>8381600</td>\n",
       "      <td>71.104796</td>\n",
       "      <td>71.606140</td>\n",
       "      <td>70.962234</td>\n",
       "      <td>71.432598</td>\n",
       "      <td>58671258</td>\n",
       "      <td>0.0</td>\n",
       "      <td>1.0</td>\n",
       "    </tr>\n",
       "    <tr>\n",
       "      <th>2014-01-03 00:00:00+00:00</th>\n",
       "      <td>540.9800</td>\n",
       "      <td>553.70</td>\n",
       "      <td>540.430</td>\n",
       "      <td>552.86</td>\n",
       "      <td>14016700</td>\n",
       "      <td>69.542914</td>\n",
       "      <td>71.178069</td>\n",
       "      <td>69.472212</td>\n",
       "      <td>71.070087</td>\n",
       "      <td>98116998</td>\n",
       "      <td>0.0</td>\n",
       "      <td>1.0</td>\n",
       "    </tr>\n",
       "    <tr>\n",
       "      <th>2014-01-06 00:00:00+00:00</th>\n",
       "      <td>543.9300</td>\n",
       "      <td>546.80</td>\n",
       "      <td>533.600</td>\n",
       "      <td>537.45</td>\n",
       "      <td>14736100</td>\n",
       "      <td>69.922137</td>\n",
       "      <td>70.291075</td>\n",
       "      <td>68.594216</td>\n",
       "      <td>69.089133</td>\n",
       "      <td>103152803</td>\n",
       "      <td>0.0</td>\n",
       "      <td>1.0</td>\n",
       "    </tr>\n",
       "    <tr>\n",
       "      <th>2014-01-07 00:00:00+00:00</th>\n",
       "      <td>540.0375</td>\n",
       "      <td>545.96</td>\n",
       "      <td>537.925</td>\n",
       "      <td>544.32</td>\n",
       "      <td>11328900</td>\n",
       "      <td>69.421756</td>\n",
       "      <td>70.183093</td>\n",
       "      <td>69.150195</td>\n",
       "      <td>69.972271</td>\n",
       "      <td>79302379</td>\n",
       "      <td>0.0</td>\n",
       "      <td>1.0</td>\n",
       "    </tr>\n",
       "    <tr>\n",
       "      <th>2014-01-08 00:00:00+00:00</th>\n",
       "      <td>543.4600</td>\n",
       "      <td>545.56</td>\n",
       "      <td>538.690</td>\n",
       "      <td>538.81</td>\n",
       "      <td>9233200</td>\n",
       "      <td>69.861718</td>\n",
       "      <td>70.131673</td>\n",
       "      <td>69.248535</td>\n",
       "      <td>69.263961</td>\n",
       "      <td>64632464</td>\n",
       "      <td>0.0</td>\n",
       "      <td>1.0</td>\n",
       "    </tr>\n",
       "  </tbody>\n",
       "</table>\n",
       "</div>"
      ],
      "text/plain": [
       "                                     close    high      low    open    volume  \\\n",
       "symbol date                                                                     \n",
       "AAPL   2014-01-02 00:00:00+00:00  553.1300  557.03  552.021  555.68   8381600   \n",
       "       2014-01-03 00:00:00+00:00  540.9800  553.70  540.430  552.86  14016700   \n",
       "       2014-01-06 00:00:00+00:00  543.9300  546.80  533.600  537.45  14736100   \n",
       "       2014-01-07 00:00:00+00:00  540.0375  545.96  537.925  544.32  11328900   \n",
       "       2014-01-08 00:00:00+00:00  543.4600  545.56  538.690  538.81   9233200   \n",
       "\n",
       "                                   adjClose    adjHigh     adjLow    adjOpen  \\\n",
       "symbol date                                                                    \n",
       "AAPL   2014-01-02 00:00:00+00:00  71.104796  71.606140  70.962234  71.432598   \n",
       "       2014-01-03 00:00:00+00:00  69.542914  71.178069  69.472212  71.070087   \n",
       "       2014-01-06 00:00:00+00:00  69.922137  70.291075  68.594216  69.089133   \n",
       "       2014-01-07 00:00:00+00:00  69.421756  70.183093  69.150195  69.972271   \n",
       "       2014-01-08 00:00:00+00:00  69.861718  70.131673  69.248535  69.263961   \n",
       "\n",
       "                                  adjVolume  divCash  splitFactor  \n",
       "symbol date                                                        \n",
       "AAPL   2014-01-02 00:00:00+00:00   58671258      0.0          1.0  \n",
       "       2014-01-03 00:00:00+00:00   98116998      0.0          1.0  \n",
       "       2014-01-06 00:00:00+00:00  103152803      0.0          1.0  \n",
       "       2014-01-07 00:00:00+00:00   79302379      0.0          1.0  \n",
       "       2014-01-08 00:00:00+00:00   64632464      0.0          1.0  "
      ]
     },
     "execution_count": 120,
     "metadata": {},
     "output_type": "execute_result"
    }
   ],
   "source": [
    "# Download the daily prices of Apple (\"AAPL\") from 2019-01-01 to 2019-12-01\n",
    "aapl = pdr.get_data_tiingo(\"AAPL\",\n",
    "                           api_key=api_key,\n",
    "                           start=\"2014-01-01\",\n",
    "                           end=\"2019-12-01\")\n",
    "aapl.head()"
   ]
  },
  {
   "cell_type": "code",
   "execution_count": 121,
   "metadata": {},
   "outputs": [
    {
     "data": {
      "text/html": [
       "<div>\n",
       "<style scoped>\n",
       "    .dataframe tbody tr th:only-of-type {\n",
       "        vertical-align: middle;\n",
       "    }\n",
       "\n",
       "    .dataframe tbody tr th {\n",
       "        vertical-align: top;\n",
       "    }\n",
       "\n",
       "    .dataframe thead th {\n",
       "        text-align: right;\n",
       "    }\n",
       "</style>\n",
       "<table border=\"1\" class=\"dataframe\">\n",
       "  <thead>\n",
       "    <tr style=\"text-align: right;\">\n",
       "      <th></th>\n",
       "      <th></th>\n",
       "      <th>close</th>\n",
       "      <th>high</th>\n",
       "      <th>low</th>\n",
       "      <th>open</th>\n",
       "      <th>volume</th>\n",
       "      <th>adjClose</th>\n",
       "      <th>adjHigh</th>\n",
       "      <th>adjLow</th>\n",
       "      <th>adjOpen</th>\n",
       "      <th>adjVolume</th>\n",
       "      <th>divCash</th>\n",
       "      <th>splitFactor</th>\n",
       "    </tr>\n",
       "    <tr>\n",
       "      <th>symbol</th>\n",
       "      <th>date</th>\n",
       "      <th></th>\n",
       "      <th></th>\n",
       "      <th></th>\n",
       "      <th></th>\n",
       "      <th></th>\n",
       "      <th></th>\n",
       "      <th></th>\n",
       "      <th></th>\n",
       "      <th></th>\n",
       "      <th></th>\n",
       "      <th></th>\n",
       "      <th></th>\n",
       "    </tr>\n",
       "  </thead>\n",
       "  <tbody>\n",
       "    <tr>\n",
       "      <th rowspan=\"5\" valign=\"top\">AAPL</th>\n",
       "      <th>2019-11-22 00:00:00+00:00</th>\n",
       "      <td>261.78</td>\n",
       "      <td>263.18</td>\n",
       "      <td>260.84</td>\n",
       "      <td>262.59</td>\n",
       "      <td>16331263</td>\n",
       "      <td>261.78</td>\n",
       "      <td>263.18</td>\n",
       "      <td>260.84</td>\n",
       "      <td>262.59</td>\n",
       "      <td>16331263</td>\n",
       "      <td>0.0</td>\n",
       "      <td>1.0</td>\n",
       "    </tr>\n",
       "    <tr>\n",
       "      <th>2019-11-25 00:00:00+00:00</th>\n",
       "      <td>266.37</td>\n",
       "      <td>266.44</td>\n",
       "      <td>262.52</td>\n",
       "      <td>262.71</td>\n",
       "      <td>21029517</td>\n",
       "      <td>266.37</td>\n",
       "      <td>266.44</td>\n",
       "      <td>262.52</td>\n",
       "      <td>262.71</td>\n",
       "      <td>21029517</td>\n",
       "      <td>0.0</td>\n",
       "      <td>1.0</td>\n",
       "    </tr>\n",
       "    <tr>\n",
       "      <th>2019-11-26 00:00:00+00:00</th>\n",
       "      <td>264.29</td>\n",
       "      <td>267.16</td>\n",
       "      <td>262.50</td>\n",
       "      <td>266.94</td>\n",
       "      <td>26334882</td>\n",
       "      <td>264.29</td>\n",
       "      <td>267.16</td>\n",
       "      <td>262.50</td>\n",
       "      <td>266.94</td>\n",
       "      <td>26334882</td>\n",
       "      <td>0.0</td>\n",
       "      <td>1.0</td>\n",
       "    </tr>\n",
       "    <tr>\n",
       "      <th>2019-11-27 00:00:00+00:00</th>\n",
       "      <td>267.84</td>\n",
       "      <td>267.98</td>\n",
       "      <td>265.31</td>\n",
       "      <td>265.58</td>\n",
       "      <td>16386122</td>\n",
       "      <td>267.84</td>\n",
       "      <td>267.98</td>\n",
       "      <td>265.31</td>\n",
       "      <td>265.58</td>\n",
       "      <td>16386122</td>\n",
       "      <td>0.0</td>\n",
       "      <td>1.0</td>\n",
       "    </tr>\n",
       "    <tr>\n",
       "      <th>2019-11-29 00:00:00+00:00</th>\n",
       "      <td>267.25</td>\n",
       "      <td>268.00</td>\n",
       "      <td>265.90</td>\n",
       "      <td>266.60</td>\n",
       "      <td>11654363</td>\n",
       "      <td>267.25</td>\n",
       "      <td>268.00</td>\n",
       "      <td>265.90</td>\n",
       "      <td>266.60</td>\n",
       "      <td>11654363</td>\n",
       "      <td>0.0</td>\n",
       "      <td>1.0</td>\n",
       "    </tr>\n",
       "  </tbody>\n",
       "</table>\n",
       "</div>"
      ],
      "text/plain": [
       "                                   close    high     low    open    volume  \\\n",
       "symbol date                                                                  \n",
       "AAPL   2019-11-22 00:00:00+00:00  261.78  263.18  260.84  262.59  16331263   \n",
       "       2019-11-25 00:00:00+00:00  266.37  266.44  262.52  262.71  21029517   \n",
       "       2019-11-26 00:00:00+00:00  264.29  267.16  262.50  266.94  26334882   \n",
       "       2019-11-27 00:00:00+00:00  267.84  267.98  265.31  265.58  16386122   \n",
       "       2019-11-29 00:00:00+00:00  267.25  268.00  265.90  266.60  11654363   \n",
       "\n",
       "                                  adjClose  adjHigh  adjLow  adjOpen  \\\n",
       "symbol date                                                            \n",
       "AAPL   2019-11-22 00:00:00+00:00    261.78   263.18  260.84   262.59   \n",
       "       2019-11-25 00:00:00+00:00    266.37   266.44  262.52   262.71   \n",
       "       2019-11-26 00:00:00+00:00    264.29   267.16  262.50   266.94   \n",
       "       2019-11-27 00:00:00+00:00    267.84   267.98  265.31   265.58   \n",
       "       2019-11-29 00:00:00+00:00    267.25   268.00  265.90   266.60   \n",
       "\n",
       "                                  adjVolume  divCash  splitFactor  \n",
       "symbol date                                                        \n",
       "AAPL   2019-11-22 00:00:00+00:00   16331263      0.0          1.0  \n",
       "       2019-11-25 00:00:00+00:00   21029517      0.0          1.0  \n",
       "       2019-11-26 00:00:00+00:00   26334882      0.0          1.0  \n",
       "       2019-11-27 00:00:00+00:00   16386122      0.0          1.0  \n",
       "       2019-11-29 00:00:00+00:00   11654363      0.0          1.0  "
      ]
     },
     "execution_count": 121,
     "metadata": {},
     "output_type": "execute_result"
    }
   ],
   "source": [
    "aapl.tail()"
   ]
  },
  {
   "cell_type": "code",
   "execution_count": 122,
   "metadata": {
    "collapsed": true
   },
   "outputs": [],
   "source": [
    "# Remove zeros from the index\n",
    "aapl = aapl.reset_index()"
   ]
  },
  {
   "cell_type": "code",
   "execution_count": 123,
   "metadata": {},
   "outputs": [
    {
     "data": {
      "text/html": [
       "<div>\n",
       "<style scoped>\n",
       "    .dataframe tbody tr th:only-of-type {\n",
       "        vertical-align: middle;\n",
       "    }\n",
       "\n",
       "    .dataframe tbody tr th {\n",
       "        vertical-align: top;\n",
       "    }\n",
       "\n",
       "    .dataframe thead th {\n",
       "        text-align: right;\n",
       "    }\n",
       "</style>\n",
       "<table border=\"1\" class=\"dataframe\">\n",
       "  <thead>\n",
       "    <tr style=\"text-align: right;\">\n",
       "      <th></th>\n",
       "      <th>symbol</th>\n",
       "      <th>date</th>\n",
       "      <th>close</th>\n",
       "      <th>high</th>\n",
       "      <th>low</th>\n",
       "      <th>open</th>\n",
       "      <th>volume</th>\n",
       "      <th>adjClose</th>\n",
       "      <th>adjHigh</th>\n",
       "      <th>adjLow</th>\n",
       "      <th>adjOpen</th>\n",
       "      <th>adjVolume</th>\n",
       "      <th>divCash</th>\n",
       "      <th>splitFactor</th>\n",
       "    </tr>\n",
       "  </thead>\n",
       "  <tbody>\n",
       "    <tr>\n",
       "      <th>0</th>\n",
       "      <td>AAPL</td>\n",
       "      <td>2014-01-02</td>\n",
       "      <td>553.1300</td>\n",
       "      <td>557.03</td>\n",
       "      <td>552.021</td>\n",
       "      <td>555.68</td>\n",
       "      <td>8381600</td>\n",
       "      <td>71.104796</td>\n",
       "      <td>71.606140</td>\n",
       "      <td>70.962234</td>\n",
       "      <td>71.432598</td>\n",
       "      <td>58671258</td>\n",
       "      <td>0.0</td>\n",
       "      <td>1.0</td>\n",
       "    </tr>\n",
       "    <tr>\n",
       "      <th>1</th>\n",
       "      <td>AAPL</td>\n",
       "      <td>2014-01-03</td>\n",
       "      <td>540.9800</td>\n",
       "      <td>553.70</td>\n",
       "      <td>540.430</td>\n",
       "      <td>552.86</td>\n",
       "      <td>14016700</td>\n",
       "      <td>69.542914</td>\n",
       "      <td>71.178069</td>\n",
       "      <td>69.472212</td>\n",
       "      <td>71.070087</td>\n",
       "      <td>98116998</td>\n",
       "      <td>0.0</td>\n",
       "      <td>1.0</td>\n",
       "    </tr>\n",
       "    <tr>\n",
       "      <th>2</th>\n",
       "      <td>AAPL</td>\n",
       "      <td>2014-01-06</td>\n",
       "      <td>543.9300</td>\n",
       "      <td>546.80</td>\n",
       "      <td>533.600</td>\n",
       "      <td>537.45</td>\n",
       "      <td>14736100</td>\n",
       "      <td>69.922137</td>\n",
       "      <td>70.291075</td>\n",
       "      <td>68.594216</td>\n",
       "      <td>69.089133</td>\n",
       "      <td>103152803</td>\n",
       "      <td>0.0</td>\n",
       "      <td>1.0</td>\n",
       "    </tr>\n",
       "    <tr>\n",
       "      <th>3</th>\n",
       "      <td>AAPL</td>\n",
       "      <td>2014-01-07</td>\n",
       "      <td>540.0375</td>\n",
       "      <td>545.96</td>\n",
       "      <td>537.925</td>\n",
       "      <td>544.32</td>\n",
       "      <td>11328900</td>\n",
       "      <td>69.421756</td>\n",
       "      <td>70.183093</td>\n",
       "      <td>69.150195</td>\n",
       "      <td>69.972271</td>\n",
       "      <td>79302379</td>\n",
       "      <td>0.0</td>\n",
       "      <td>1.0</td>\n",
       "    </tr>\n",
       "    <tr>\n",
       "      <th>4</th>\n",
       "      <td>AAPL</td>\n",
       "      <td>2014-01-08</td>\n",
       "      <td>543.4600</td>\n",
       "      <td>545.56</td>\n",
       "      <td>538.690</td>\n",
       "      <td>538.81</td>\n",
       "      <td>9233200</td>\n",
       "      <td>69.861718</td>\n",
       "      <td>70.131673</td>\n",
       "      <td>69.248535</td>\n",
       "      <td>69.263961</td>\n",
       "      <td>64632464</td>\n",
       "      <td>0.0</td>\n",
       "      <td>1.0</td>\n",
       "    </tr>\n",
       "  </tbody>\n",
       "</table>\n",
       "</div>"
      ],
      "text/plain": [
       "  symbol        date     close    high      low    open    volume   adjClose  \\\n",
       "0   AAPL  2014-01-02  553.1300  557.03  552.021  555.68   8381600  71.104796   \n",
       "1   AAPL  2014-01-03  540.9800  553.70  540.430  552.86  14016700  69.542914   \n",
       "2   AAPL  2014-01-06  543.9300  546.80  533.600  537.45  14736100  69.922137   \n",
       "3   AAPL  2014-01-07  540.0375  545.96  537.925  544.32  11328900  69.421756   \n",
       "4   AAPL  2014-01-08  543.4600  545.56  538.690  538.81   9233200  69.861718   \n",
       "\n",
       "     adjHigh     adjLow    adjOpen  adjVolume  divCash  splitFactor  \n",
       "0  71.606140  70.962234  71.432598   58671258      0.0          1.0  \n",
       "1  71.178069  69.472212  71.070087   98116998      0.0          1.0  \n",
       "2  70.291075  68.594216  69.089133  103152803      0.0          1.0  \n",
       "3  70.183093  69.150195  69.972271   79302379      0.0          1.0  \n",
       "4  70.131673  69.248535  69.263961   64632464      0.0          1.0  "
      ]
     },
     "execution_count": 123,
     "metadata": {},
     "output_type": "execute_result"
    }
   ],
   "source": [
    "aapl['date'] = aapl['date'].apply(lambda x: x.strftime(\"%Y-%m-%d\"))\n",
    "aapl.head()"
   ]
  },
  {
   "cell_type": "code",
   "execution_count": 124,
   "metadata": {},
   "outputs": [
    {
     "data": {
      "text/html": [
       "<div>\n",
       "<style scoped>\n",
       "    .dataframe tbody tr th:only-of-type {\n",
       "        vertical-align: middle;\n",
       "    }\n",
       "\n",
       "    .dataframe tbody tr th {\n",
       "        vertical-align: top;\n",
       "    }\n",
       "\n",
       "    .dataframe thead th {\n",
       "        text-align: right;\n",
       "    }\n",
       "</style>\n",
       "<table border=\"1\" class=\"dataframe\">\n",
       "  <thead>\n",
       "    <tr style=\"text-align: right;\">\n",
       "      <th></th>\n",
       "      <th>symbol</th>\n",
       "      <th>date</th>\n",
       "      <th>close</th>\n",
       "      <th>high</th>\n",
       "      <th>low</th>\n",
       "      <th>open</th>\n",
       "      <th>volume</th>\n",
       "      <th>adjClose</th>\n",
       "      <th>adjHigh</th>\n",
       "      <th>adjLow</th>\n",
       "      <th>adjOpen</th>\n",
       "      <th>adjVolume</th>\n",
       "      <th>divCash</th>\n",
       "      <th>splitFactor</th>\n",
       "    </tr>\n",
       "  </thead>\n",
       "  <tbody>\n",
       "    <tr>\n",
       "      <th>0</th>\n",
       "      <td>AAPL</td>\n",
       "      <td>2014-01-02</td>\n",
       "      <td>553.1300</td>\n",
       "      <td>557.03</td>\n",
       "      <td>552.021</td>\n",
       "      <td>555.68</td>\n",
       "      <td>8381600</td>\n",
       "      <td>71.104796</td>\n",
       "      <td>71.606140</td>\n",
       "      <td>70.962234</td>\n",
       "      <td>71.432598</td>\n",
       "      <td>58671258</td>\n",
       "      <td>0.0</td>\n",
       "      <td>1.0</td>\n",
       "    </tr>\n",
       "    <tr>\n",
       "      <th>1</th>\n",
       "      <td>AAPL</td>\n",
       "      <td>2014-01-03</td>\n",
       "      <td>540.9800</td>\n",
       "      <td>553.70</td>\n",
       "      <td>540.430</td>\n",
       "      <td>552.86</td>\n",
       "      <td>14016700</td>\n",
       "      <td>69.542914</td>\n",
       "      <td>71.178069</td>\n",
       "      <td>69.472212</td>\n",
       "      <td>71.070087</td>\n",
       "      <td>98116998</td>\n",
       "      <td>0.0</td>\n",
       "      <td>1.0</td>\n",
       "    </tr>\n",
       "    <tr>\n",
       "      <th>2</th>\n",
       "      <td>AAPL</td>\n",
       "      <td>2014-01-06</td>\n",
       "      <td>543.9300</td>\n",
       "      <td>546.80</td>\n",
       "      <td>533.600</td>\n",
       "      <td>537.45</td>\n",
       "      <td>14736100</td>\n",
       "      <td>69.922137</td>\n",
       "      <td>70.291075</td>\n",
       "      <td>68.594216</td>\n",
       "      <td>69.089133</td>\n",
       "      <td>103152803</td>\n",
       "      <td>0.0</td>\n",
       "      <td>1.0</td>\n",
       "    </tr>\n",
       "    <tr>\n",
       "      <th>3</th>\n",
       "      <td>AAPL</td>\n",
       "      <td>2014-01-07</td>\n",
       "      <td>540.0375</td>\n",
       "      <td>545.96</td>\n",
       "      <td>537.925</td>\n",
       "      <td>544.32</td>\n",
       "      <td>11328900</td>\n",
       "      <td>69.421756</td>\n",
       "      <td>70.183093</td>\n",
       "      <td>69.150195</td>\n",
       "      <td>69.972271</td>\n",
       "      <td>79302379</td>\n",
       "      <td>0.0</td>\n",
       "      <td>1.0</td>\n",
       "    </tr>\n",
       "    <tr>\n",
       "      <th>4</th>\n",
       "      <td>AAPL</td>\n",
       "      <td>2014-01-08</td>\n",
       "      <td>543.4600</td>\n",
       "      <td>545.56</td>\n",
       "      <td>538.690</td>\n",
       "      <td>538.81</td>\n",
       "      <td>9233200</td>\n",
       "      <td>69.861718</td>\n",
       "      <td>70.131673</td>\n",
       "      <td>69.248535</td>\n",
       "      <td>69.263961</td>\n",
       "      <td>64632464</td>\n",
       "      <td>0.0</td>\n",
       "      <td>1.0</td>\n",
       "    </tr>\n",
       "  </tbody>\n",
       "</table>\n",
       "</div>"
      ],
      "text/plain": [
       "  symbol       date     close    high      low    open    volume   adjClose  \\\n",
       "0   AAPL 2014-01-02  553.1300  557.03  552.021  555.68   8381600  71.104796   \n",
       "1   AAPL 2014-01-03  540.9800  553.70  540.430  552.86  14016700  69.542914   \n",
       "2   AAPL 2014-01-06  543.9300  546.80  533.600  537.45  14736100  69.922137   \n",
       "3   AAPL 2014-01-07  540.0375  545.96  537.925  544.32  11328900  69.421756   \n",
       "4   AAPL 2014-01-08  543.4600  545.56  538.690  538.81   9233200  69.861718   \n",
       "\n",
       "     adjHigh     adjLow    adjOpen  adjVolume  divCash  splitFactor  \n",
       "0  71.606140  70.962234  71.432598   58671258      0.0          1.0  \n",
       "1  71.178069  69.472212  71.070087   98116998      0.0          1.0  \n",
       "2  70.291075  68.594216  69.089133  103152803      0.0          1.0  \n",
       "3  70.183093  69.150195  69.972271   79302379      0.0          1.0  \n",
       "4  70.131673  69.248535  69.263961   64632464      0.0          1.0  "
      ]
     },
     "execution_count": 124,
     "metadata": {},
     "output_type": "execute_result"
    }
   ],
   "source": [
    "aapl['date'] = aapl['date'].apply(parse)\n",
    "aapl.head()"
   ]
  },
  {
   "cell_type": "code",
   "execution_count": 125,
   "metadata": {},
   "outputs": [
    {
     "data": {
      "text/html": [
       "<div>\n",
       "<style scoped>\n",
       "    .dataframe tbody tr th:only-of-type {\n",
       "        vertical-align: middle;\n",
       "    }\n",
       "\n",
       "    .dataframe tbody tr th {\n",
       "        vertical-align: top;\n",
       "    }\n",
       "\n",
       "    .dataframe thead th {\n",
       "        text-align: right;\n",
       "    }\n",
       "</style>\n",
       "<table border=\"1\" class=\"dataframe\">\n",
       "  <thead>\n",
       "    <tr style=\"text-align: right;\">\n",
       "      <th></th>\n",
       "      <th>symbol</th>\n",
       "      <th>close</th>\n",
       "      <th>high</th>\n",
       "      <th>low</th>\n",
       "      <th>open</th>\n",
       "      <th>volume</th>\n",
       "      <th>adjClose</th>\n",
       "      <th>adjHigh</th>\n",
       "      <th>adjLow</th>\n",
       "      <th>adjOpen</th>\n",
       "      <th>adjVolume</th>\n",
       "      <th>divCash</th>\n",
       "      <th>splitFactor</th>\n",
       "    </tr>\n",
       "    <tr>\n",
       "      <th>date</th>\n",
       "      <th></th>\n",
       "      <th></th>\n",
       "      <th></th>\n",
       "      <th></th>\n",
       "      <th></th>\n",
       "      <th></th>\n",
       "      <th></th>\n",
       "      <th></th>\n",
       "      <th></th>\n",
       "      <th></th>\n",
       "      <th></th>\n",
       "      <th></th>\n",
       "      <th></th>\n",
       "    </tr>\n",
       "  </thead>\n",
       "  <tbody>\n",
       "    <tr>\n",
       "      <th>2014-01-02</th>\n",
       "      <td>AAPL</td>\n",
       "      <td>553.1300</td>\n",
       "      <td>557.03</td>\n",
       "      <td>552.021</td>\n",
       "      <td>555.68</td>\n",
       "      <td>8381600</td>\n",
       "      <td>71.104796</td>\n",
       "      <td>71.606140</td>\n",
       "      <td>70.962234</td>\n",
       "      <td>71.432598</td>\n",
       "      <td>58671258</td>\n",
       "      <td>0.0</td>\n",
       "      <td>1.0</td>\n",
       "    </tr>\n",
       "    <tr>\n",
       "      <th>2014-01-03</th>\n",
       "      <td>AAPL</td>\n",
       "      <td>540.9800</td>\n",
       "      <td>553.70</td>\n",
       "      <td>540.430</td>\n",
       "      <td>552.86</td>\n",
       "      <td>14016700</td>\n",
       "      <td>69.542914</td>\n",
       "      <td>71.178069</td>\n",
       "      <td>69.472212</td>\n",
       "      <td>71.070087</td>\n",
       "      <td>98116998</td>\n",
       "      <td>0.0</td>\n",
       "      <td>1.0</td>\n",
       "    </tr>\n",
       "    <tr>\n",
       "      <th>2014-01-06</th>\n",
       "      <td>AAPL</td>\n",
       "      <td>543.9300</td>\n",
       "      <td>546.80</td>\n",
       "      <td>533.600</td>\n",
       "      <td>537.45</td>\n",
       "      <td>14736100</td>\n",
       "      <td>69.922137</td>\n",
       "      <td>70.291075</td>\n",
       "      <td>68.594216</td>\n",
       "      <td>69.089133</td>\n",
       "      <td>103152803</td>\n",
       "      <td>0.0</td>\n",
       "      <td>1.0</td>\n",
       "    </tr>\n",
       "    <tr>\n",
       "      <th>2014-01-07</th>\n",
       "      <td>AAPL</td>\n",
       "      <td>540.0375</td>\n",
       "      <td>545.96</td>\n",
       "      <td>537.925</td>\n",
       "      <td>544.32</td>\n",
       "      <td>11328900</td>\n",
       "      <td>69.421756</td>\n",
       "      <td>70.183093</td>\n",
       "      <td>69.150195</td>\n",
       "      <td>69.972271</td>\n",
       "      <td>79302379</td>\n",
       "      <td>0.0</td>\n",
       "      <td>1.0</td>\n",
       "    </tr>\n",
       "    <tr>\n",
       "      <th>2014-01-08</th>\n",
       "      <td>AAPL</td>\n",
       "      <td>543.4600</td>\n",
       "      <td>545.56</td>\n",
       "      <td>538.690</td>\n",
       "      <td>538.81</td>\n",
       "      <td>9233200</td>\n",
       "      <td>69.861718</td>\n",
       "      <td>70.131673</td>\n",
       "      <td>69.248535</td>\n",
       "      <td>69.263961</td>\n",
       "      <td>64632464</td>\n",
       "      <td>0.0</td>\n",
       "      <td>1.0</td>\n",
       "    </tr>\n",
       "  </tbody>\n",
       "</table>\n",
       "</div>"
      ],
      "text/plain": [
       "           symbol     close    high      low    open    volume   adjClose  \\\n",
       "date                                                                        \n",
       "2014-01-02   AAPL  553.1300  557.03  552.021  555.68   8381600  71.104796   \n",
       "2014-01-03   AAPL  540.9800  553.70  540.430  552.86  14016700  69.542914   \n",
       "2014-01-06   AAPL  543.9300  546.80  533.600  537.45  14736100  69.922137   \n",
       "2014-01-07   AAPL  540.0375  545.96  537.925  544.32  11328900  69.421756   \n",
       "2014-01-08   AAPL  543.4600  545.56  538.690  538.81   9233200  69.861718   \n",
       "\n",
       "              adjHigh     adjLow    adjOpen  adjVolume  divCash  splitFactor  \n",
       "date                                                                          \n",
       "2014-01-02  71.606140  70.962234  71.432598   58671258      0.0          1.0  \n",
       "2014-01-03  71.178069  69.472212  71.070087   98116998      0.0          1.0  \n",
       "2014-01-06  70.291075  68.594216  69.089133  103152803      0.0          1.0  \n",
       "2014-01-07  70.183093  69.150195  69.972271   79302379      0.0          1.0  \n",
       "2014-01-08  70.131673  69.248535  69.263961   64632464      0.0          1.0  "
      ]
     },
     "execution_count": 125,
     "metadata": {},
     "output_type": "execute_result"
    }
   ],
   "source": [
    "aapl = aapl.set_index('date')\n",
    "aapl.head()"
   ]
  },
  {
   "cell_type": "code",
   "execution_count": 126,
   "metadata": {},
   "outputs": [
    {
     "data": {
      "text/plain": [
       "<matplotlib.axes._subplots.AxesSubplot at 0x1c6a0edbc88>"
      ]
     },
     "execution_count": 126,
     "metadata": {},
     "output_type": "execute_result"
    },
    {
     "data": {
      "image/png": "[encoded data removed]",
      "text/plain": [
       "<matplotlib.figure.Figure at 0x1c6a0ddb240>"
      ]
     },
     "metadata": {},
     "output_type": "display_data"
    }
   ],
   "source": [
    "# Draw a line chart of close prices\n",
    "aapl['adjClose'].plot(figsize=(15, 5))"
   ]
  },
  {
   "cell_type": "markdown",
   "metadata": {},
   "source": [
    "**1. Check for missing values**"
   ]
  },
  {
   "cell_type": "code",
   "execution_count": 127,
   "metadata": {},
   "outputs": [
    {
     "data": {
      "text/plain": [
       "symbol         0\n",
       "close          0\n",
       "high           0\n",
       "low            0\n",
       "open           0\n",
       "volume         0\n",
       "adjClose       0\n",
       "adjHigh        0\n",
       "adjLow         0\n",
       "adjOpen        0\n",
       "adjVolume      0\n",
       "divCash        0\n",
       "splitFactor    0\n",
       "dtype: int64"
      ]
     },
     "execution_count": 127,
     "metadata": {},
     "output_type": "execute_result"
    }
   ],
   "source": [
    "aapl.isnull().sum()"
   ]
  },
  {
   "cell_type": "markdown",
   "metadata": {},
   "source": [
    "**2. Daily Change**\n",
    "\n",
    "- Abosolute daily change is the difference between open and close.\n",
    "- Relative daily change is ratio of absolute daily change and the open price, converted to a percentage. This is especially helpful if you want to compare the daily price change in multiple stocks."
   ]
  },
  {
   "cell_type": "code",
   "execution_count": 129,
   "metadata": {},
   "outputs": [
    {
     "data": {
      "text/html": [
       "<div>\n",
       "<style scoped>\n",
       "    .dataframe tbody tr th:only-of-type {\n",
       "        vertical-align: middle;\n",
       "    }\n",
       "\n",
       "    .dataframe tbody tr th {\n",
       "        vertical-align: top;\n",
       "    }\n",
       "\n",
       "    .dataframe thead th {\n",
       "        text-align: right;\n",
       "    }\n",
       "</style>\n",
       "<table border=\"1\" class=\"dataframe\">\n",
       "  <thead>\n",
       "    <tr style=\"text-align: right;\">\n",
       "      <th></th>\n",
       "      <th>symbol</th>\n",
       "      <th>close</th>\n",
       "      <th>high</th>\n",
       "      <th>low</th>\n",
       "      <th>open</th>\n",
       "      <th>volume</th>\n",
       "      <th>adjClose</th>\n",
       "      <th>adjHigh</th>\n",
       "      <th>adjLow</th>\n",
       "      <th>adjOpen</th>\n",
       "      <th>adjVolume</th>\n",
       "      <th>divCash</th>\n",
       "      <th>splitFactor</th>\n",
       "      <th>DailyChange</th>\n",
       "      <th>DailyChangePercent</th>\n",
       "    </tr>\n",
       "    <tr>\n",
       "      <th>date</th>\n",
       "      <th></th>\n",
       "      <th></th>\n",
       "      <th></th>\n",
       "      <th></th>\n",
       "      <th></th>\n",
       "      <th></th>\n",
       "      <th></th>\n",
       "      <th></th>\n",
       "      <th></th>\n",
       "      <th></th>\n",
       "      <th></th>\n",
       "      <th></th>\n",
       "      <th></th>\n",
       "      <th></th>\n",
       "      <th></th>\n",
       "    </tr>\n",
       "  </thead>\n",
       "  <tbody>\n",
       "    <tr>\n",
       "      <th>2014-01-02</th>\n",
       "      <td>AAPL</td>\n",
       "      <td>553.1300</td>\n",
       "      <td>557.03</td>\n",
       "      <td>552.021</td>\n",
       "      <td>555.68</td>\n",
       "      <td>8381600</td>\n",
       "      <td>71.104796</td>\n",
       "      <td>71.606140</td>\n",
       "      <td>70.962234</td>\n",
       "      <td>71.432598</td>\n",
       "      <td>58671258</td>\n",
       "      <td>0.0</td>\n",
       "      <td>1.0</td>\n",
       "      <td>-0.327802</td>\n",
       "      <td>-0.458897</td>\n",
       "    </tr>\n",
       "    <tr>\n",
       "      <th>2014-01-03</th>\n",
       "      <td>AAPL</td>\n",
       "      <td>540.9800</td>\n",
       "      <td>553.70</td>\n",
       "      <td>540.430</td>\n",
       "      <td>552.86</td>\n",
       "      <td>14016700</td>\n",
       "      <td>69.542914</td>\n",
       "      <td>71.178069</td>\n",
       "      <td>69.472212</td>\n",
       "      <td>71.070087</td>\n",
       "      <td>98116998</td>\n",
       "      <td>0.0</td>\n",
       "      <td>1.0</td>\n",
       "      <td>-1.527173</td>\n",
       "      <td>-2.148826</td>\n",
       "    </tr>\n",
       "    <tr>\n",
       "      <th>2014-01-06</th>\n",
       "      <td>AAPL</td>\n",
       "      <td>543.9300</td>\n",
       "      <td>546.80</td>\n",
       "      <td>533.600</td>\n",
       "      <td>537.45</td>\n",
       "      <td>14736100</td>\n",
       "      <td>69.922137</td>\n",
       "      <td>70.291075</td>\n",
       "      <td>68.594216</td>\n",
       "      <td>69.089133</td>\n",
       "      <td>103152803</td>\n",
       "      <td>0.0</td>\n",
       "      <td>1.0</td>\n",
       "      <td>0.833003</td>\n",
       "      <td>1.205694</td>\n",
       "    </tr>\n",
       "    <tr>\n",
       "      <th>2014-01-07</th>\n",
       "      <td>AAPL</td>\n",
       "      <td>540.0375</td>\n",
       "      <td>545.96</td>\n",
       "      <td>537.925</td>\n",
       "      <td>544.32</td>\n",
       "      <td>11328900</td>\n",
       "      <td>69.421756</td>\n",
       "      <td>70.183093</td>\n",
       "      <td>69.150195</td>\n",
       "      <td>69.972271</td>\n",
       "      <td>79302379</td>\n",
       "      <td>0.0</td>\n",
       "      <td>1.0</td>\n",
       "      <td>-0.550515</td>\n",
       "      <td>-0.786761</td>\n",
       "    </tr>\n",
       "    <tr>\n",
       "      <th>2014-01-08</th>\n",
       "      <td>AAPL</td>\n",
       "      <td>543.4600</td>\n",
       "      <td>545.56</td>\n",
       "      <td>538.690</td>\n",
       "      <td>538.81</td>\n",
       "      <td>9233200</td>\n",
       "      <td>69.861718</td>\n",
       "      <td>70.131673</td>\n",
       "      <td>69.248535</td>\n",
       "      <td>69.263961</td>\n",
       "      <td>64632464</td>\n",
       "      <td>0.0</td>\n",
       "      <td>1.0</td>\n",
       "      <td>0.597757</td>\n",
       "      <td>0.863013</td>\n",
       "    </tr>\n",
       "  </tbody>\n",
       "</table>\n",
       "</div>"
      ],
      "text/plain": [
       "           symbol     close    high      low    open    volume   adjClose  \\\n",
       "date                                                                        \n",
       "2014-01-02   AAPL  553.1300  557.03  552.021  555.68   8381600  71.104796   \n",
       "2014-01-03   AAPL  540.9800  553.70  540.430  552.86  14016700  69.542914   \n",
       "2014-01-06   AAPL  543.9300  546.80  533.600  537.45  14736100  69.922137   \n",
       "2014-01-07   AAPL  540.0375  545.96  537.925  544.32  11328900  69.421756   \n",
       "2014-01-08   AAPL  543.4600  545.56  538.690  538.81   9233200  69.861718   \n",
       "\n",
       "              adjHigh     adjLow    adjOpen  adjVolume  divCash  splitFactor  \\\n",
       "date                                                                           \n",
       "2014-01-02  71.606140  70.962234  71.432598   58671258      0.0          1.0   \n",
       "2014-01-03  71.178069  69.472212  71.070087   98116998      0.0          1.0   \n",
       "2014-01-06  70.291075  68.594216  69.089133  103152803      0.0          1.0   \n",
       "2014-01-07  70.183093  69.150195  69.972271   79302379      0.0          1.0   \n",
       "2014-01-08  70.131673  69.248535  69.263961   64632464      0.0          1.0   \n",
       "\n",
       "            DailyChange  DailyChangePercent  \n",
       "date                                         \n",
       "2014-01-02    -0.327802           -0.458897  \n",
       "2014-01-03    -1.527173           -2.148826  \n",
       "2014-01-06     0.833003            1.205694  \n",
       "2014-01-07    -0.550515           -0.786761  \n",
       "2014-01-08     0.597757            0.863013  "
      ]
     },
     "execution_count": 129,
     "metadata": {},
     "output_type": "execute_result"
    }
   ],
   "source": [
    "aapl['DailyChange'] = aapl['adjClose'] - aapl['adjOpen']\n",
    "aapl['DailyChangePercent'] = aapl['DailyChange'] / aapl['adjOpen'] * 100\n",
    "aapl.head()"
   ]
  },
  {
   "cell_type": "markdown",
   "metadata": {},
   "source": [
    "**3. Day-To-Day Change**\n",
    "\n",
    "The open price does not necessarily coincide with the previous close price, possibly due to change of price expections over night. Thus it is helpful to calculate percent changes of each close price over the previous close price."
   ]
  },
  {
   "cell_type": "code",
   "execution_count": 139,
   "metadata": {
    "scrolled": true
   },
   "outputs": [
    {
     "data": {
      "text/html": [
       "<div>\n",
       "<style scoped>\n",
       "    .dataframe tbody tr th:only-of-type {\n",
       "        vertical-align: middle;\n",
       "    }\n",
       "\n",
       "    .dataframe tbody tr th {\n",
       "        vertical-align: top;\n",
       "    }\n",
       "\n",
       "    .dataframe thead th {\n",
       "        text-align: right;\n",
       "    }\n",
       "</style>\n",
       "<table border=\"1\" class=\"dataframe\">\n",
       "  <thead>\n",
       "    <tr style=\"text-align: right;\">\n",
       "      <th></th>\n",
       "      <th>symbol</th>\n",
       "      <th>close</th>\n",
       "      <th>high</th>\n",
       "      <th>low</th>\n",
       "      <th>open</th>\n",
       "      <th>volume</th>\n",
       "      <th>adjClose</th>\n",
       "      <th>adjHigh</th>\n",
       "      <th>adjLow</th>\n",
       "      <th>adjOpen</th>\n",
       "      <th>adjVolume</th>\n",
       "      <th>divCash</th>\n",
       "      <th>splitFactor</th>\n",
       "      <th>DailyChange</th>\n",
       "      <th>DailyChangePercent</th>\n",
       "      <th>DayToDayChangePercent</th>\n",
       "    </tr>\n",
       "    <tr>\n",
       "      <th>date</th>\n",
       "      <th></th>\n",
       "      <th></th>\n",
       "      <th></th>\n",
       "      <th></th>\n",
       "      <th></th>\n",
       "      <th></th>\n",
       "      <th></th>\n",
       "      <th></th>\n",
       "      <th></th>\n",
       "      <th></th>\n",
       "      <th></th>\n",
       "      <th></th>\n",
       "      <th></th>\n",
       "      <th></th>\n",
       "      <th></th>\n",
       "      <th></th>\n",
       "    </tr>\n",
       "  </thead>\n",
       "  <tbody>\n",
       "    <tr>\n",
       "      <th>2014-01-02</th>\n",
       "      <td>AAPL</td>\n",
       "      <td>553.1300</td>\n",
       "      <td>557.03</td>\n",
       "      <td>552.021</td>\n",
       "      <td>555.68</td>\n",
       "      <td>8381600</td>\n",
       "      <td>71.104796</td>\n",
       "      <td>71.606140</td>\n",
       "      <td>70.962234</td>\n",
       "      <td>71.432598</td>\n",
       "      <td>58671258</td>\n",
       "      <td>0.0</td>\n",
       "      <td>1.0</td>\n",
       "      <td>-0.327802</td>\n",
       "      <td>-0.458897</td>\n",
       "      <td>NaN</td>\n",
       "    </tr>\n",
       "    <tr>\n",
       "      <th>2014-01-03</th>\n",
       "      <td>AAPL</td>\n",
       "      <td>540.9800</td>\n",
       "      <td>553.70</td>\n",
       "      <td>540.430</td>\n",
       "      <td>552.86</td>\n",
       "      <td>14016700</td>\n",
       "      <td>69.542914</td>\n",
       "      <td>71.178069</td>\n",
       "      <td>69.472212</td>\n",
       "      <td>71.070087</td>\n",
       "      <td>98116998</td>\n",
       "      <td>0.0</td>\n",
       "      <td>1.0</td>\n",
       "      <td>-1.527173</td>\n",
       "      <td>-2.148826</td>\n",
       "      <td>-2.245924</td>\n",
       "    </tr>\n",
       "    <tr>\n",
       "      <th>2014-01-06</th>\n",
       "      <td>AAPL</td>\n",
       "      <td>543.9300</td>\n",
       "      <td>546.80</td>\n",
       "      <td>533.600</td>\n",
       "      <td>537.45</td>\n",
       "      <td>14736100</td>\n",
       "      <td>69.922137</td>\n",
       "      <td>70.291075</td>\n",
       "      <td>68.594216</td>\n",
       "      <td>69.089133</td>\n",
       "      <td>103152803</td>\n",
       "      <td>0.0</td>\n",
       "      <td>1.0</td>\n",
       "      <td>0.833003</td>\n",
       "      <td>1.205694</td>\n",
       "      <td>0.542349</td>\n",
       "    </tr>\n",
       "    <tr>\n",
       "      <th>2014-01-07</th>\n",
       "      <td>AAPL</td>\n",
       "      <td>540.0375</td>\n",
       "      <td>545.96</td>\n",
       "      <td>537.925</td>\n",
       "      <td>544.32</td>\n",
       "      <td>11328900</td>\n",
       "      <td>69.421756</td>\n",
       "      <td>70.183093</td>\n",
       "      <td>69.150195</td>\n",
       "      <td>69.972271</td>\n",
       "      <td>79302379</td>\n",
       "      <td>0.0</td>\n",
       "      <td>1.0</td>\n",
       "      <td>-0.550515</td>\n",
       "      <td>-0.786761</td>\n",
       "      <td>-0.720783</td>\n",
       "    </tr>\n",
       "    <tr>\n",
       "      <th>2014-01-08</th>\n",
       "      <td>AAPL</td>\n",
       "      <td>543.4600</td>\n",
       "      <td>545.56</td>\n",
       "      <td>538.690</td>\n",
       "      <td>538.81</td>\n",
       "      <td>9233200</td>\n",
       "      <td>69.861718</td>\n",
       "      <td>70.131673</td>\n",
       "      <td>69.248535</td>\n",
       "      <td>69.263961</td>\n",
       "      <td>64632464</td>\n",
       "      <td>0.0</td>\n",
       "      <td>1.0</td>\n",
       "      <td>0.597757</td>\n",
       "      <td>0.863013</td>\n",
       "      <td>0.629761</td>\n",
       "    </tr>\n",
       "  </tbody>\n",
       "</table>\n",
       "</div>"
      ],
      "text/plain": [
       "           symbol     close    high      low    open    volume   adjClose  \\\n",
       "date                                                                        \n",
       "2014-01-02   AAPL  553.1300  557.03  552.021  555.68   8381600  71.104796   \n",
       "2014-01-03   AAPL  540.9800  553.70  540.430  552.86  14016700  69.542914   \n",
       "2014-01-06   AAPL  543.9300  546.80  533.600  537.45  14736100  69.922137   \n",
       "2014-01-07   AAPL  540.0375  545.96  537.925  544.32  11328900  69.421756   \n",
       "2014-01-08   AAPL  543.4600  545.56  538.690  538.81   9233200  69.861718   \n",
       "\n",
       "              adjHigh     adjLow    adjOpen  adjVolume  divCash  splitFactor  \\\n",
       "date                                                                           \n",
       "2014-01-02  71.606140  70.962234  71.432598   58671258      0.0          1.0   \n",
       "2014-01-03  71.178069  69.472212  71.070087   98116998      0.0          1.0   \n",
       "2014-01-06  70.291075  68.594216  69.089133  103152803      0.0          1.0   \n",
       "2014-01-07  70.183093  69.150195  69.972271   79302379      0.0          1.0   \n",
       "2014-01-08  70.131673  69.248535  69.263961   64632464      0.0          1.0   \n",
       "\n",
       "            DailyChange  DailyChangePercent  DayToDayChangePercent  \n",
       "date                                                                \n",
       "2014-01-02    -0.327802           -0.458897                    NaN  \n",
       "2014-01-03    -1.527173           -2.148826              -2.245924  \n",
       "2014-01-06     0.833003            1.205694               0.542349  \n",
       "2014-01-07    -0.550515           -0.786761              -0.720783  \n",
       "2014-01-08     0.597757            0.863013               0.629761  "
      ]
     },
     "execution_count": 139,
     "metadata": {},
     "output_type": "execute_result"
    }
   ],
   "source": [
    "# get the closing price of the last day\n",
    "aapl['adjCloseYesterday'] = aapl.shift(1)['adjClose']\n",
    "aapl['DayToDayChange'] = aapl['adjClose'] - aapl['adjCloseYesterday']\n",
    "aapl['DayToDayChangePercent'] = aapl['DayToDayChange'] / aapl['adjClose'] * 100\n",
    "# aapl = aapl.drop([\"adjCloseYesterday\", \"DayToDayChange\"], axis=1)\n",
    "aapl.drop([\"adjCloseYesterday\", \"DayToDayChange\"], axis=1, inplace=True)\n",
    "aapl.head()"
   ]
  },
  {
   "cell_type": "code",
   "execution_count": 142,
   "metadata": {
    "scrolled": true
   },
   "outputs": [
    {
     "data": {
      "text/plain": [
       "Timestamp('2014-04-24 00:00:00')"
      ]
     },
     "execution_count": 142,
     "metadata": {},
     "output_type": "execute_result"
    }
   ],
   "source": [
    "# On which day has apple price experience the most jump / fall?\n",
    "aapl['DayToDayChangePercent'].idxmax()"
   ]
  },
  {
   "cell_type": "code",
   "execution_count": 145,
   "metadata": {},
   "outputs": [
    {
     "data": {
      "text/plain": [
       "Timestamp('2019-01-03 00:00:00')"
      ]
     },
     "execution_count": 145,
     "metadata": {},
     "output_type": "execute_result"
    }
   ],
   "source": [
    "aapl['DayToDayChangePercent'].idxmin()"
   ]
  },
  {
   "cell_type": "markdown",
   "metadata": {},
   "source": [
    "**4. Monthly Performance**\n",
    "\n",
    "For long-term investors, they may prefer monthly performance data. Create a new data frame containing adjOpen, adjHigh, adjLow, adjClose, and adjVolume for each month between 2014 and 2019."
   ]
  },
  {
   "cell_type": "code",
   "execution_count": 166,
   "metadata": {},
   "outputs": [
    {
     "data": {
      "text/html": [
       "<div>\n",
       "<style scoped>\n",
       "    .dataframe tbody tr th:only-of-type {\n",
       "        vertical-align: middle;\n",
       "    }\n",
       "\n",
       "    .dataframe tbody tr th {\n",
       "        vertical-align: top;\n",
       "    }\n",
       "\n",
       "    .dataframe thead th {\n",
       "        text-align: right;\n",
       "    }\n",
       "</style>\n",
       "<table border=\"1\" class=\"dataframe\">\n",
       "  <thead>\n",
       "    <tr style=\"text-align: right;\">\n",
       "      <th></th>\n",
       "      <th></th>\n",
       "      <th>adjOpen</th>\n",
       "      <th>adjHigh</th>\n",
       "      <th>adjLow</th>\n",
       "      <th>adjClose</th>\n",
       "      <th>adjVolume</th>\n",
       "    </tr>\n",
       "    <tr>\n",
       "      <th>Year</th>\n",
       "      <th>Month</th>\n",
       "      <th></th>\n",
       "      <th></th>\n",
       "      <th></th>\n",
       "      <th></th>\n",
       "      <th></th>\n",
       "    </tr>\n",
       "  </thead>\n",
       "  <tbody>\n",
       "    <tr>\n",
       "      <th rowspan=\"5\" valign=\"top\">2014</th>\n",
       "      <th>1</th>\n",
       "      <td>71.432598</td>\n",
       "      <td>72.013643</td>\n",
       "      <td>63.445794</td>\n",
       "      <td>64.352070</td>\n",
       "      <td>2191490781</td>\n",
       "    </tr>\n",
       "    <tr>\n",
       "      <th>2</th>\n",
       "      <td>64.610456</td>\n",
       "      <td>71.277077</td>\n",
       "      <td>64.184955</td>\n",
       "      <td>68.050670</td>\n",
       "      <td>1470093162</td>\n",
       "    </tr>\n",
       "    <tr>\n",
       "      <th>3</th>\n",
       "      <td>67.686002</td>\n",
       "      <td>70.993877</td>\n",
       "      <td>67.607120</td>\n",
       "      <td>69.408476</td>\n",
       "      <td>1250425940</td>\n",
       "    </tr>\n",
       "    <tr>\n",
       "      <th>4</th>\n",
       "      <td>69.540378</td>\n",
       "      <td>77.515227</td>\n",
       "      <td>66.122585</td>\n",
       "      <td>76.307426</td>\n",
       "      <td>1608766797</td>\n",
       "    </tr>\n",
       "    <tr>\n",
       "      <th>5</th>\n",
       "      <td>76.554417</td>\n",
       "      <td>83.766871</td>\n",
       "      <td>75.465216</td>\n",
       "      <td>82.314342</td>\n",
       "      <td>1433918524</td>\n",
       "    </tr>\n",
       "  </tbody>\n",
       "</table>\n",
       "</div>"
      ],
      "text/plain": [
       "              adjOpen    adjHigh     adjLow   adjClose   adjVolume\n",
       "Year Month                                                        \n",
       "2014 1      71.432598  72.013643  63.445794  64.352070  2191490781\n",
       "     2      64.610456  71.277077  64.184955  68.050670  1470093162\n",
       "     3      67.686002  70.993877  67.607120  69.408476  1250425940\n",
       "     4      69.540378  77.515227  66.122585  76.307426  1608766797\n",
       "     5      76.554417  83.766871  75.465216  82.314342  1433918524"
      ]
     },
     "execution_count": 166,
     "metadata": {},
     "output_type": "execute_result"
    }
   ],
   "source": [
    "# adjOpen of a month is the adjOpen of the first day of that month\n",
    "aapl['Year'] = aapl.index.year\n",
    "aapl['Month'] = aapl.index.month\n",
    "groups = aapl.groupby(by=['Year', 'Month'])\n",
    "# groups.apply(lambda x: x.sort_index().first())\n",
    "monthly_data = groups['adjOpen'].first()\n",
    "# for idx, group in groups:\n",
    "#     print(idx)\n",
    "#     print(group.sort_index().loc[0])\n",
    "# aapl.head()\n",
    "monthly_data = monthly_data.to_frame(\"adjOpen\")\n",
    "\n",
    "# adjHigh of a month \n",
    "monthly_data['adjHigh'] = groups['adjHigh'].max()\n",
    "\n",
    "# adjLow of a month\n",
    "monthly_data['adjLow'] = groups['adjLow'].min()\n",
    "\n",
    "# adjClose\n",
    "monthly_data['adjClose'] = groups['adjClose'].last()\n",
    "\n",
    "# adjVolume\n",
    "monthly_data['adjVolume'] = groups['adjVolume'].sum()\n",
    "monthly_data.head()"
   ]
  },
  {
   "cell_type": "markdown",
   "metadata": {},
   "source": [
    "**5. Moving Average**\n",
    "\n",
    "The daily price is full of random ups and downs, making it difficult to see the long-term trend. It is important to find the average performance over a fairly longer period (10 days, 30 days, etc.). A moving average (or rolling average) is a calculation that find the average price for each period of time."
   ]
  },
  {
   "cell_type": "code",
   "execution_count": 173,
   "metadata": {},
   "outputs": [],
   "source": [
    "moving_avg = aapl.rolling(30).mean()"
   ]
  },
  {
   "cell_type": "code",
   "execution_count": 174,
   "metadata": {},
   "outputs": [
    {
     "data": {
      "text/plain": [
       "<matplotlib.axes._subplots.AxesSubplot at 0x1c6a18668d0>"
      ]
     },
     "execution_count": 174,
     "metadata": {},
     "output_type": "execute_result"
    },
    {
     "data": {
      "image/png": "[encoded data removed]",
      "text/plain": [
       "<matplotlib.figure.Figure at 0x1c6a14f2cc0>"
      ]
     },
     "metadata": {},
     "output_type": "display_data"
    }
   ],
   "source": [
    "plt.figure(figsize=(15, 5))\n",
    "aapl['adjClose'].plot()\n",
    "moving_avg['adjClose'].plot()"
   ]
  },
  {
   "cell_type": "markdown",
   "metadata": {},
   "source": [
    "**6. Volatility**\n",
    "\n",
    "Volatility means the risk of the stock over a period of time. It is often measured as the standard deviation of prices over each period. The higher the volatility, the risker the stock."
   ]
  },
  {
   "cell_type": "code",
   "execution_count": 177,
   "metadata": {},
   "outputs": [
    {
     "data": {
      "text/plain": [
       "<matplotlib.axes._subplots.AxesSubplot at 0x1c6a16f8e10>"
      ]
     },
     "execution_count": 177,
     "metadata": {},
     "output_type": "execute_result"
    },
    {
     "data": {
      "image/png": "[encoded data removed]",
      "text/plain": [
       "<matplotlib.figure.Figure at 0x1c6a18b6550>"
      ]
     },
     "metadata": {},
     "output_type": "display_data"
    }
   ],
   "source": [
    "plt.figure(figsize=(15, 5))\n",
    "volatility = aapl.rolling(30).std()\n",
    "volatility['adjClose'].plot()"
   ]
  },
  {
   "cell_type": "markdown",
   "metadata": {},
   "source": [
    "**7. Change Points**\n",
    "\n",
    "Changepoints occur when the price goes from increasing to decreasing or vice versa). These times are extremely important because knowing when a stock will reach a peak or is about to take off could have significant economic benefits. However, it is trickly to properly recognize changepoints, since we cannot make decisions based on future data. For simplicity, let say a day is a positive changepoint if its day-to-day change is positive, while the three previous day-to-day changes are all negative. Similarly, we recognize a day as a negative changepoint if its day-to-day change is negative, while all three previous day-to-day changes are positive."
   ]
  },
  {
   "cell_type": "code",
   "execution_count": 180,
   "metadata": {},
   "outputs": [
    {
     "data": {
      "text/html": [
       "<div>\n",
       "<style scoped>\n",
       "    .dataframe tbody tr th:only-of-type {\n",
       "        vertical-align: middle;\n",
       "    }\n",
       "\n",
       "    .dataframe tbody tr th {\n",
       "        vertical-align: top;\n",
       "    }\n",
       "\n",
       "    .dataframe thead th {\n",
       "        text-align: right;\n",
       "    }\n",
       "</style>\n",
       "<table border=\"1\" class=\"dataframe\">\n",
       "  <thead>\n",
       "    <tr style=\"text-align: right;\">\n",
       "      <th></th>\n",
       "      <th>symbol</th>\n",
       "      <th>close</th>\n",
       "      <th>high</th>\n",
       "      <th>low</th>\n",
       "      <th>open</th>\n",
       "      <th>volume</th>\n",
       "      <th>adjClose</th>\n",
       "      <th>adjHigh</th>\n",
       "      <th>adjLow</th>\n",
       "      <th>adjOpen</th>\n",
       "      <th>...</th>\n",
       "      <th>splitFactor</th>\n",
       "      <th>DailyChange</th>\n",
       "      <th>DailyChangePercent</th>\n",
       "      <th>DayToDayChangePercent</th>\n",
       "      <th>Year</th>\n",
       "      <th>Month</th>\n",
       "      <th>changeYesterday</th>\n",
       "      <th>changeDay-2</th>\n",
       "      <th>changeDay-3</th>\n",
       "      <th>PositiveChangePoint</th>\n",
       "    </tr>\n",
       "    <tr>\n",
       "      <th>date</th>\n",
       "      <th></th>\n",
       "      <th></th>\n",
       "      <th></th>\n",
       "      <th></th>\n",
       "      <th></th>\n",
       "      <th></th>\n",
       "      <th></th>\n",
       "      <th></th>\n",
       "      <th></th>\n",
       "      <th></th>\n",
       "      <th></th>\n",
       "      <th></th>\n",
       "      <th></th>\n",
       "      <th></th>\n",
       "      <th></th>\n",
       "      <th></th>\n",
       "      <th></th>\n",
       "      <th></th>\n",
       "      <th></th>\n",
       "      <th></th>\n",
       "      <th></th>\n",
       "    </tr>\n",
       "  </thead>\n",
       "  <tbody>\n",
       "    <tr>\n",
       "      <th>2014-01-02</th>\n",
       "      <td>AAPL</td>\n",
       "      <td>553.1300</td>\n",
       "      <td>557.03</td>\n",
       "      <td>552.021</td>\n",
       "      <td>555.68</td>\n",
       "      <td>8381600</td>\n",
       "      <td>71.104796</td>\n",
       "      <td>71.606140</td>\n",
       "      <td>70.962234</td>\n",
       "      <td>71.432598</td>\n",
       "      <td>...</td>\n",
       "      <td>1.0</td>\n",
       "      <td>-0.327802</td>\n",
       "      <td>-0.458897</td>\n",
       "      <td>NaN</td>\n",
       "      <td>2014</td>\n",
       "      <td>1</td>\n",
       "      <td>NaN</td>\n",
       "      <td>NaN</td>\n",
       "      <td>NaN</td>\n",
       "      <td>False</td>\n",
       "    </tr>\n",
       "    <tr>\n",
       "      <th>2014-01-03</th>\n",
       "      <td>AAPL</td>\n",
       "      <td>540.9800</td>\n",
       "      <td>553.70</td>\n",
       "      <td>540.430</td>\n",
       "      <td>552.86</td>\n",
       "      <td>14016700</td>\n",
       "      <td>69.542914</td>\n",
       "      <td>71.178069</td>\n",
       "      <td>69.472212</td>\n",
       "      <td>71.070087</td>\n",
       "      <td>...</td>\n",
       "      <td>1.0</td>\n",
       "      <td>-1.527173</td>\n",
       "      <td>-2.148826</td>\n",
       "      <td>-2.245924</td>\n",
       "      <td>2014</td>\n",
       "      <td>1</td>\n",
       "      <td>NaN</td>\n",
       "      <td>NaN</td>\n",
       "      <td>NaN</td>\n",
       "      <td>False</td>\n",
       "    </tr>\n",
       "    <tr>\n",
       "      <th>2014-01-06</th>\n",
       "      <td>AAPL</td>\n",
       "      <td>543.9300</td>\n",
       "      <td>546.80</td>\n",
       "      <td>533.600</td>\n",
       "      <td>537.45</td>\n",
       "      <td>14736100</td>\n",
       "      <td>69.922137</td>\n",
       "      <td>70.291075</td>\n",
       "      <td>68.594216</td>\n",
       "      <td>69.089133</td>\n",
       "      <td>...</td>\n",
       "      <td>1.0</td>\n",
       "      <td>0.833003</td>\n",
       "      <td>1.205694</td>\n",
       "      <td>0.542349</td>\n",
       "      <td>2014</td>\n",
       "      <td>1</td>\n",
       "      <td>-2.245924</td>\n",
       "      <td>NaN</td>\n",
       "      <td>NaN</td>\n",
       "      <td>False</td>\n",
       "    </tr>\n",
       "    <tr>\n",
       "      <th>2014-01-07</th>\n",
       "      <td>AAPL</td>\n",
       "      <td>540.0375</td>\n",
       "      <td>545.96</td>\n",
       "      <td>537.925</td>\n",
       "      <td>544.32</td>\n",
       "      <td>11328900</td>\n",
       "      <td>69.421756</td>\n",
       "      <td>70.183093</td>\n",
       "      <td>69.150195</td>\n",
       "      <td>69.972271</td>\n",
       "      <td>...</td>\n",
       "      <td>1.0</td>\n",
       "      <td>-0.550515</td>\n",
       "      <td>-0.786761</td>\n",
       "      <td>-0.720783</td>\n",
       "      <td>2014</td>\n",
       "      <td>1</td>\n",
       "      <td>0.542349</td>\n",
       "      <td>-2.245924</td>\n",
       "      <td>NaN</td>\n",
       "      <td>False</td>\n",
       "    </tr>\n",
       "    <tr>\n",
       "      <th>2014-01-08</th>\n",
       "      <td>AAPL</td>\n",
       "      <td>543.4600</td>\n",
       "      <td>545.56</td>\n",
       "      <td>538.690</td>\n",
       "      <td>538.81</td>\n",
       "      <td>9233200</td>\n",
       "      <td>69.861718</td>\n",
       "      <td>70.131673</td>\n",
       "      <td>69.248535</td>\n",
       "      <td>69.263961</td>\n",
       "      <td>...</td>\n",
       "      <td>1.0</td>\n",
       "      <td>0.597757</td>\n",
       "      <td>0.863013</td>\n",
       "      <td>0.629761</td>\n",
       "      <td>2014</td>\n",
       "      <td>1</td>\n",
       "      <td>-0.720783</td>\n",
       "      <td>0.542349</td>\n",
       "      <td>-2.245924</td>\n",
       "      <td>False</td>\n",
       "    </tr>\n",
       "  </tbody>\n",
       "</table>\n",
       "<p>5 rows × 22 columns</p>\n",
       "</div>"
      ],
      "text/plain": [
       "           symbol     close    high      low    open    volume   adjClose  \\\n",
       "date                                                                        \n",
       "2014-01-02   AAPL  553.1300  557.03  552.021  555.68   8381600  71.104796   \n",
       "2014-01-03   AAPL  540.9800  553.70  540.430  552.86  14016700  69.542914   \n",
       "2014-01-06   AAPL  543.9300  546.80  533.600  537.45  14736100  69.922137   \n",
       "2014-01-07   AAPL  540.0375  545.96  537.925  544.32  11328900  69.421756   \n",
       "2014-01-08   AAPL  543.4600  545.56  538.690  538.81   9233200  69.861718   \n",
       "\n",
       "              adjHigh     adjLow    adjOpen  ...  splitFactor  DailyChange  \\\n",
       "date                                         ...                             \n",
       "2014-01-02  71.606140  70.962234  71.432598  ...          1.0    -0.327802   \n",
       "2014-01-03  71.178069  69.472212  71.070087  ...          1.0    -1.527173   \n",
       "2014-01-06  70.291075  68.594216  69.089133  ...          1.0     0.833003   \n",
       "2014-01-07  70.183093  69.150195  69.972271  ...          1.0    -0.550515   \n",
       "2014-01-08  70.131673  69.248535  69.263961  ...          1.0     0.597757   \n",
       "\n",
       "            DailyChangePercent  DayToDayChangePercent  Year  Month  \\\n",
       "date                                                                 \n",
       "2014-01-02           -0.458897                    NaN  2014      1   \n",
       "2014-01-03           -2.148826              -2.245924  2014      1   \n",
       "2014-01-06            1.205694               0.542349  2014      1   \n",
       "2014-01-07           -0.786761              -0.720783  2014      1   \n",
       "2014-01-08            0.863013               0.629761  2014      1   \n",
       "\n",
       "            changeYesterday  changeDay-2  changeDay-3  PositiveChangePoint  \n",
       "date                                                                        \n",
       "2014-01-02              NaN          NaN          NaN                False  \n",
       "2014-01-03              NaN          NaN          NaN                False  \n",
       "2014-01-06        -2.245924          NaN          NaN                False  \n",
       "2014-01-07         0.542349    -2.245924          NaN                False  \n",
       "2014-01-08        -0.720783     0.542349    -2.245924                False  \n",
       "\n",
       "[5 rows x 22 columns]"
      ]
     },
     "execution_count": 180,
     "metadata": {},
     "output_type": "execute_result"
    }
   ],
   "source": [
    "# Add the previous three changes to each day\n",
    "aapl['changeYesterday'] = aapl.shift(1)['DayToDayChangePercent']\n",
    "aapl['changeDay-2'] = aapl.shift(2)['DayToDayChangePercent']\n",
    "aapl['changeDay-3'] = aapl.shift(3)['DayToDayChangePercent']\n",
    "aapl['PositiveChangePoint'] = (aapl['DayToDayChangePercent'] > 0) & \\\n",
    "                            (aapl['changeYesterday'] < 0) & \\\n",
    "                            (aapl['changeDay-2'] < 0) & \\\n",
    "                            (aapl['changeDay-3'] < 0)\n",
    "aapl.head()"
   ]
  },
  {
   "cell_type": "code",
   "execution_count": 184,
   "metadata": {},
   "outputs": [
    {
     "name": "stderr",
     "output_type": "stream",
     "text": [
      "C:\\Users\\ch002\\Anaconda3\\lib\\site-packages\\ipykernel_launcher.py:2: SettingWithCopyWarning: \n",
      "A value is trying to be set on a copy of a slice from a DataFrame.\n",
      "Try using .loc[row_indexer,col_indexer] = value instead\n",
      "\n",
      "See the caveats in the documentation: http://pandas.pydata.org/pandas-docs/stable/user_guide/indexing.html#returning-a-view-versus-a-copy\n",
      "  \n"
     ]
    }
   ],
   "source": [
    "pos_change_pts = aapl[aapl['PositiveChangePoint']]\n",
    "pos_change_pts['Temp'] = 100"
   ]
  },
  {
   "cell_type": "code",
   "execution_count": 189,
   "metadata": {},
   "outputs": [
    {
     "data": {
      "text/plain": [
       "[<matplotlib.lines.Line2D at 0x1c6a2e958d0>]"
      ]
     },
     "execution_count": 189,
     "metadata": {},
     "output_type": "execute_result"
    },
    {
     "data": {
      "image/png": "[encoded data removed]",
      "text/plain": [
       "<matplotlib.figure.Figure at 0x1c6a369d0f0>"
      ]
     },
     "metadata": {},
     "output_type": "display_data"
    }
   ],
   "source": [
    "plt.figure(figsize=(15, 5))\n",
    "aapl['adjClose'].plot()\n",
    "# pos_change_pts['adjClose'].plot(kind='scatter', marker='.', linestyle=None)\n",
    "plt.plot(pos_change_pts.index, pos_change_pts['adjClose'], 'r.')"
   ]
  },
  {
   "cell_type": "markdown",
   "metadata": {},
   "source": [
    "**8. Prediction**\n",
    "\n",
    "Being able to predict future stock prices is every investor's dream. While it is very challenging to do so, data analysis does help. Today let's test a basic modeling technique called linear regression."
   ]
  },
  {
   "cell_type": "code",
   "execution_count": 192,
   "metadata": {
    "scrolled": true
   },
   "outputs": [
    {
     "data": {
      "text/plain": [
       "<matplotlib.axes._subplots.AxesSubplot at 0x1c6a2e47940>"
      ]
     },
     "execution_count": 192,
     "metadata": {},
     "output_type": "execute_result"
    },
    {
     "data": {
      "image/png": "[encoded data removed]",
      "text/plain": [
       "<matplotlib.figure.Figure at 0x1c6a362df28>"
      ]
     },
     "metadata": {},
     "output_type": "display_data"
    }
   ],
   "source": [
    "data = aapl.loc['2014', ['adjClose']]\n",
    "data['adjClose'].plot()"
   ]
  },
  {
   "cell_type": "code",
   "execution_count": 193,
   "metadata": {
    "scrolled": true
   },
   "outputs": [
    {
     "data": {
      "text/html": [
       "<div>\n",
       "<style scoped>\n",
       "    .dataframe tbody tr th:only-of-type {\n",
       "        vertical-align: middle;\n",
       "    }\n",
       "\n",
       "    .dataframe tbody tr th {\n",
       "        vertical-align: top;\n",
       "    }\n",
       "\n",
       "    .dataframe thead th {\n",
       "        text-align: right;\n",
       "    }\n",
       "</style>\n",
       "<table border=\"1\" class=\"dataframe\">\n",
       "  <thead>\n",
       "    <tr style=\"text-align: right;\">\n",
       "      <th></th>\n",
       "      <th>date</th>\n",
       "      <th>adjClose</th>\n",
       "    </tr>\n",
       "  </thead>\n",
       "  <tbody>\n",
       "    <tr>\n",
       "      <th>0</th>\n",
       "      <td>2014-01-02</td>\n",
       "      <td>71.104796</td>\n",
       "    </tr>\n",
       "    <tr>\n",
       "      <th>1</th>\n",
       "      <td>2014-01-03</td>\n",
       "      <td>69.542914</td>\n",
       "    </tr>\n",
       "    <tr>\n",
       "      <th>2</th>\n",
       "      <td>2014-01-06</td>\n",
       "      <td>69.922137</td>\n",
       "    </tr>\n",
       "    <tr>\n",
       "      <th>3</th>\n",
       "      <td>2014-01-07</td>\n",
       "      <td>69.421756</td>\n",
       "    </tr>\n",
       "    <tr>\n",
       "      <th>4</th>\n",
       "      <td>2014-01-08</td>\n",
       "      <td>69.861718</td>\n",
       "    </tr>\n",
       "  </tbody>\n",
       "</table>\n",
       "</div>"
      ],
      "text/plain": [
       "        date   adjClose\n",
       "0 2014-01-02  71.104796\n",
       "1 2014-01-03  69.542914\n",
       "2 2014-01-06  69.922137\n",
       "3 2014-01-07  69.421756\n",
       "4 2014-01-08  69.861718"
      ]
     },
     "execution_count": 193,
     "metadata": {},
     "output_type": "execute_result"
    }
   ],
   "source": [
    "data = data.reset_index()\n",
    "data.head()"
   ]
  },
  {
   "cell_type": "code",
   "execution_count": 198,
   "metadata": {},
   "outputs": [
    {
     "data": {
      "text/plain": [
       "LinearRegression(copy_X=True, fit_intercept=True, n_jobs=1, normalize=False)"
      ]
     },
     "execution_count": 198,
     "metadata": {},
     "output_type": "execute_result"
    }
   ],
   "source": [
    "from sklearn.linear_model import LinearRegression\n",
    "model = LinearRegression()\n",
    "model.fit(data.index.values.reshape([-1, 1]), data['adjClose'])"
   ]
  },
  {
   "cell_type": "code",
   "execution_count": 201,
   "metadata": {},
   "outputs": [],
   "source": [
    "m = model.coef_"
   ]
  },
  {
   "cell_type": "code",
   "execution_count": 202,
   "metadata": {},
   "outputs": [],
   "source": [
    "b = model.intercept_"
   ]
  },
  {
   "cell_type": "code",
   "execution_count": 203,
   "metadata": {
    "scrolled": true
   },
   "outputs": [
    {
     "data": {
      "text/html": [
       "<div>\n",
       "<style scoped>\n",
       "    .dataframe tbody tr th:only-of-type {\n",
       "        vertical-align: middle;\n",
       "    }\n",
       "\n",
       "    .dataframe tbody tr th {\n",
       "        vertical-align: top;\n",
       "    }\n",
       "\n",
       "    .dataframe thead th {\n",
       "        text-align: right;\n",
       "    }\n",
       "</style>\n",
       "<table border=\"1\" class=\"dataframe\">\n",
       "  <thead>\n",
       "    <tr style=\"text-align: right;\">\n",
       "      <th></th>\n",
       "      <th>date</th>\n",
       "      <th>adjClose</th>\n",
       "      <th>Prediction</th>\n",
       "    </tr>\n",
       "  </thead>\n",
       "  <tbody>\n",
       "    <tr>\n",
       "      <th>0</th>\n",
       "      <td>2014-01-02</td>\n",
       "      <td>71.104796</td>\n",
       "      <td>63.022043</td>\n",
       "    </tr>\n",
       "    <tr>\n",
       "      <th>1</th>\n",
       "      <td>2014-01-03</td>\n",
       "      <td>69.542914</td>\n",
       "      <td>63.189781</td>\n",
       "    </tr>\n",
       "    <tr>\n",
       "      <th>2</th>\n",
       "      <td>2014-01-06</td>\n",
       "      <td>69.922137</td>\n",
       "      <td>63.357519</td>\n",
       "    </tr>\n",
       "    <tr>\n",
       "      <th>3</th>\n",
       "      <td>2014-01-07</td>\n",
       "      <td>69.421756</td>\n",
       "      <td>63.525257</td>\n",
       "    </tr>\n",
       "    <tr>\n",
       "      <th>4</th>\n",
       "      <td>2014-01-08</td>\n",
       "      <td>69.861718</td>\n",
       "      <td>63.692995</td>\n",
       "    </tr>\n",
       "  </tbody>\n",
       "</table>\n",
       "</div>"
      ],
      "text/plain": [
       "        date   adjClose  Prediction\n",
       "0 2014-01-02  71.104796   63.022043\n",
       "1 2014-01-03  69.542914   63.189781\n",
       "2 2014-01-06  69.922137   63.357519\n",
       "3 2014-01-07  69.421756   63.525257\n",
       "4 2014-01-08  69.861718   63.692995"
      ]
     },
     "execution_count": 203,
     "metadata": {},
     "output_type": "execute_result"
    }
   ],
   "source": [
    "data['Prediction'] = data.index.values * m + b\n",
    "data.head()"
   ]
  },
  {
   "cell_type": "code",
   "execution_count": 204,
   "metadata": {},
   "outputs": [
    {
     "data": {
      "text/plain": [
       "<matplotlib.axes._subplots.AxesSubplot at 0x1c6a455dda0>"
      ]
     },
     "execution_count": 204,
     "metadata": {},
     "output_type": "execute_result"
    },
    {
     "data": {
      "image/png": "[encoded data removed]",
      "text/plain": [
       "<matplotlib.figure.Figure at 0x1c6a455d208>"
      ]
     },
     "metadata": {},
     "output_type": "display_data"
    }
   ],
   "source": [
    "plt.figure(figsize=(15, 5))\n",
    "data['adjClose'].plot()\n",
    "data['Prediction'].plot()"
   ]
  }
 ],
 "metadata": {
  "kernelspec": {
   "display_name": "Python 3",
   "language": "python",
   "name": "python3"
  },
  "language_info": {
   "codemirror_mode": {
    "name": "ipython",
    "version": 3
   },
   "file_extension": ".py",
   "mimetype": "text/x-python",
   "name": "python",
   "nbconvert_exporter": "python",
   "pygments_lexer": "ipython3",
   "version": "3.6.3"
  }
 },
 "nbformat": 4,
 "nbformat_minor": 2
}
